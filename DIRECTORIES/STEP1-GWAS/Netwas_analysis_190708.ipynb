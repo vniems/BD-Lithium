{
 "cells": [
  {
   "cell_type": "markdown",
   "metadata": {},
   "source": [
    "# Visualize and interpret netwas results\n",
    "\n",
    "7/8/19: use less restrictive filtering critera for gwab and netwas (top 5%)"
   ]
  },
  {
   "cell_type": "code",
   "execution_count": 1,
   "metadata": {},
   "outputs": [],
   "source": [
    "# import matplotlib\n",
    "# matplotlib.use('TkAgg')\n",
    "\n",
    "import matplotlib.pyplot as plt\n",
    "import pandas as pd\n",
    "import numpy as np\n",
    "import networkx as nx\n",
    "import seaborn as sns\n",
    "\n",
    "import mygene\n",
    "mg = mygene.MyGeneInfo()\n",
    "\n",
    "# latex rendering of text in graphs\n",
    "import matplotlib as mpl\n",
    "mpl.rc('text', usetex = False)\n",
    "mpl.rc('font', family = 'serif')\n",
    "\n",
    "% matplotlib inline\n",
    "\n",
    "import visJS2jupyter.visJS_module\n",
    "import visJS2jupyter.visualizations"
   ]
  },
  {
   "cell_type": "code",
   "execution_count": 2,
   "metadata": {},
   "outputs": [
    {
     "data": {
      "text/html": [
       "<div>\n",
       "<style>\n",
       "    .dataframe thead tr:only-child th {\n",
       "        text-align: right;\n",
       "    }\n",
       "\n",
       "    .dataframe thead th {\n",
       "        text-align: left;\n",
       "    }\n",
       "\n",
       "    .dataframe tbody tr th {\n",
       "        vertical-align: top;\n",
       "    }\n",
       "</style>\n",
       "<table border=\"1\" class=\"dataframe\">\n",
       "  <thead>\n",
       "    <tr style=\"text-align: right;\">\n",
       "      <th></th>\n",
       "      <th>CHR</th>\n",
       "      <th>SNP</th>\n",
       "      <th>BP</th>\n",
       "      <th>A1</th>\n",
       "      <th>A2</th>\n",
       "      <th>FRQ_A_125</th>\n",
       "      <th>FRQ_U_195</th>\n",
       "      <th>INFO</th>\n",
       "      <th>OR</th>\n",
       "      <th>SE</th>\n",
       "      <th>P</th>\n",
       "      <th>ngt</th>\n",
       "    </tr>\n",
       "  </thead>\n",
       "  <tbody>\n",
       "    <tr>\n",
       "      <th>0</th>\n",
       "      <td>10</td>\n",
       "      <td>chr10:60684</td>\n",
       "      <td>60684</td>\n",
       "      <td>A</td>\n",
       "      <td>C</td>\n",
       "      <td>0.9807</td>\n",
       "      <td>0.9593</td>\n",
       "      <td>0.8468</td>\n",
       "      <td>3.1365</td>\n",
       "      <td>0.6205</td>\n",
       "      <td>0.06544</td>\n",
       "      <td>0</td>\n",
       "    </tr>\n",
       "    <tr>\n",
       "      <th>1</th>\n",
       "      <td>10</td>\n",
       "      <td>rs187110906</td>\n",
       "      <td>60969</td>\n",
       "      <td>A</td>\n",
       "      <td>C</td>\n",
       "      <td>0.6425</td>\n",
       "      <td>0.6494</td>\n",
       "      <td>0.6901</td>\n",
       "      <td>0.9647</td>\n",
       "      <td>0.2053</td>\n",
       "      <td>0.86100</td>\n",
       "      <td>0</td>\n",
       "    </tr>\n",
       "    <tr>\n",
       "      <th>2</th>\n",
       "      <td>10</td>\n",
       "      <td>chr10:61331</td>\n",
       "      <td>61331</td>\n",
       "      <td>A</td>\n",
       "      <td>G</td>\n",
       "      <td>0.9806</td>\n",
       "      <td>0.9592</td>\n",
       "      <td>0.8460</td>\n",
       "      <td>3.1295</td>\n",
       "      <td>0.6202</td>\n",
       "      <td>0.06586</td>\n",
       "      <td>0</td>\n",
       "    </tr>\n",
       "    <tr>\n",
       "      <th>3</th>\n",
       "      <td>10</td>\n",
       "      <td>rs147855157</td>\n",
       "      <td>61372</td>\n",
       "      <td>C</td>\n",
       "      <td>CA</td>\n",
       "      <td>0.7013</td>\n",
       "      <td>0.7184</td>\n",
       "      <td>0.8050</td>\n",
       "      <td>0.9233</td>\n",
       "      <td>0.2014</td>\n",
       "      <td>0.69190</td>\n",
       "      <td>0</td>\n",
       "    </tr>\n",
       "    <tr>\n",
       "      <th>4</th>\n",
       "      <td>10</td>\n",
       "      <td>chr10:61419</td>\n",
       "      <td>61419</td>\n",
       "      <td>A</td>\n",
       "      <td>G</td>\n",
       "      <td>0.0624</td>\n",
       "      <td>0.0634</td>\n",
       "      <td>0.4658</td>\n",
       "      <td>1.0020</td>\n",
       "      <td>0.4945</td>\n",
       "      <td>0.99670</td>\n",
       "      <td>0</td>\n",
       "    </tr>\n",
       "  </tbody>\n",
       "</table>\n",
       "</div>"
      ],
      "text/plain": [
       "   CHR          SNP     BP A1  A2  FRQ_A_125  FRQ_U_195    INFO      OR  \\\n",
       "0   10  chr10:60684  60684  A   C     0.9807     0.9593  0.8468  3.1365   \n",
       "1   10  rs187110906  60969  A   C     0.6425     0.6494  0.6901  0.9647   \n",
       "2   10  chr10:61331  61331  A   G     0.9806     0.9592  0.8460  3.1295   \n",
       "3   10  rs147855157  61372  C  CA     0.7013     0.7184  0.8050  0.9233   \n",
       "4   10  chr10:61419  61419  A   G     0.0624     0.0634  0.4658  1.0020   \n",
       "\n",
       "       SE        P  ngt  \n",
       "0  0.6205  0.06544    0  \n",
       "1  0.2053  0.86100    0  \n",
       "2  0.6202  0.06586    0  \n",
       "3  0.2014  0.69190    0  \n",
       "4  0.4945  0.99670    0  "
      ]
     },
     "execution_count": 2,
     "metadata": {},
     "output_type": "execute_result"
    }
   ],
   "source": [
    "gwas_df = pd.read_csv('/Users/brin/Documents/CCBB_tickets_data/Kelsoe/GWAS_results/daner_pgbd_eur_va_enterm_vf1.meta_good',sep='\\s+')\n",
    "gwas_df.head()"
   ]
  },
  {
   "cell_type": "code",
   "execution_count": null,
   "metadata": {},
   "outputs": [],
   "source": []
  },
  {
   "cell_type": "code",
   "execution_count": 3,
   "metadata": {},
   "outputs": [],
   "source": [
    "# load and parse the chromosome and p-value data\n",
    "\n",
    "# gwas_df = pd.read_csv('/Users/brin/Documents/CCBB_tickets_data/Kelsoe/gwas_for_gwab_eur.tsv',sep='\\t')\n",
    "# gwas_df.head()"
   ]
  },
  {
   "cell_type": "code",
   "execution_count": 4,
   "metadata": {},
   "outputs": [
    {
     "data": {
      "text/html": [
       "<div>\n",
       "<style>\n",
       "    .dataframe thead tr:only-child th {\n",
       "        text-align: right;\n",
       "    }\n",
       "\n",
       "    .dataframe thead th {\n",
       "        text-align: left;\n",
       "    }\n",
       "\n",
       "    .dataframe tbody tr th {\n",
       "        vertical-align: top;\n",
       "    }\n",
       "</style>\n",
       "<table border=\"1\" class=\"dataframe\">\n",
       "  <thead>\n",
       "    <tr style=\"text-align: right;\">\n",
       "      <th></th>\n",
       "      <th>CHR</th>\n",
       "      <th>SNP</th>\n",
       "      <th>BP</th>\n",
       "      <th>A1</th>\n",
       "      <th>A2</th>\n",
       "      <th>FRQ_A_125</th>\n",
       "      <th>FRQ_U_195</th>\n",
       "      <th>INFO</th>\n",
       "      <th>OR</th>\n",
       "      <th>SE</th>\n",
       "      <th>P</th>\n",
       "      <th>ngt</th>\n",
       "      <th>-log10pval</th>\n",
       "    </tr>\n",
       "  </thead>\n",
       "  <tbody>\n",
       "    <tr>\n",
       "      <th>0</th>\n",
       "      <td>10</td>\n",
       "      <td>chr10:60684</td>\n",
       "      <td>60684</td>\n",
       "      <td>A</td>\n",
       "      <td>C</td>\n",
       "      <td>0.9807</td>\n",
       "      <td>0.9593</td>\n",
       "      <td>0.8468</td>\n",
       "      <td>3.1365</td>\n",
       "      <td>0.6205</td>\n",
       "      <td>0.06544</td>\n",
       "      <td>0</td>\n",
       "      <td>1.184157</td>\n",
       "    </tr>\n",
       "    <tr>\n",
       "      <th>1</th>\n",
       "      <td>10</td>\n",
       "      <td>rs187110906</td>\n",
       "      <td>60969</td>\n",
       "      <td>A</td>\n",
       "      <td>C</td>\n",
       "      <td>0.6425</td>\n",
       "      <td>0.6494</td>\n",
       "      <td>0.6901</td>\n",
       "      <td>0.9647</td>\n",
       "      <td>0.2053</td>\n",
       "      <td>0.86100</td>\n",
       "      <td>0</td>\n",
       "      <td>0.064997</td>\n",
       "    </tr>\n",
       "    <tr>\n",
       "      <th>2</th>\n",
       "      <td>10</td>\n",
       "      <td>chr10:61331</td>\n",
       "      <td>61331</td>\n",
       "      <td>A</td>\n",
       "      <td>G</td>\n",
       "      <td>0.9806</td>\n",
       "      <td>0.9592</td>\n",
       "      <td>0.8460</td>\n",
       "      <td>3.1295</td>\n",
       "      <td>0.6202</td>\n",
       "      <td>0.06586</td>\n",
       "      <td>0</td>\n",
       "      <td>1.181378</td>\n",
       "    </tr>\n",
       "    <tr>\n",
       "      <th>3</th>\n",
       "      <td>10</td>\n",
       "      <td>rs147855157</td>\n",
       "      <td>61372</td>\n",
       "      <td>C</td>\n",
       "      <td>CA</td>\n",
       "      <td>0.7013</td>\n",
       "      <td>0.7184</td>\n",
       "      <td>0.8050</td>\n",
       "      <td>0.9233</td>\n",
       "      <td>0.2014</td>\n",
       "      <td>0.69190</td>\n",
       "      <td>0</td>\n",
       "      <td>0.159957</td>\n",
       "    </tr>\n",
       "    <tr>\n",
       "      <th>4</th>\n",
       "      <td>10</td>\n",
       "      <td>chr10:61419</td>\n",
       "      <td>61419</td>\n",
       "      <td>A</td>\n",
       "      <td>G</td>\n",
       "      <td>0.0624</td>\n",
       "      <td>0.0634</td>\n",
       "      <td>0.4658</td>\n",
       "      <td>1.0020</td>\n",
       "      <td>0.4945</td>\n",
       "      <td>0.99670</td>\n",
       "      <td>0</td>\n",
       "      <td>0.001436</td>\n",
       "    </tr>\n",
       "  </tbody>\n",
       "</table>\n",
       "</div>"
      ],
      "text/plain": [
       "   CHR          SNP     BP A1  A2  FRQ_A_125  FRQ_U_195    INFO      OR  \\\n",
       "0   10  chr10:60684  60684  A   C     0.9807     0.9593  0.8468  3.1365   \n",
       "1   10  rs187110906  60969  A   C     0.6425     0.6494  0.6901  0.9647   \n",
       "2   10  chr10:61331  61331  A   G     0.9806     0.9592  0.8460  3.1295   \n",
       "3   10  rs147855157  61372  C  CA     0.7013     0.7184  0.8050  0.9233   \n",
       "4   10  chr10:61419  61419  A   G     0.0624     0.0634  0.4658  1.0020   \n",
       "\n",
       "       SE        P  ngt  -log10pval  \n",
       "0  0.6205  0.06544    0    1.184157  \n",
       "1  0.2053  0.86100    0    0.064997  \n",
       "2  0.6202  0.06586    0    1.181378  \n",
       "3  0.2014  0.69190    0    0.159957  \n",
       "4  0.4945  0.99670    0    0.001436  "
      ]
     },
     "execution_count": 4,
     "metadata": {},
     "output_type": "execute_result"
    }
   ],
   "source": [
    "# add a column for -log10 pval\n",
    "gwas_df['-log10pval'] = -np.log10(gwas_df['P'])\n",
    "gwas_df.head()"
   ]
  },
  {
   "cell_type": "code",
   "execution_count": 5,
   "metadata": {},
   "outputs": [],
   "source": [
    "def manhattan_plot(gwas_df,figsize=(15,6),snps_to_highlight=[],highlight_label=''):\n",
    "    '''\n",
    "    gwas_df must have fields CHR, BP, P, -log10pval, SNP\n",
    "    '''\n",
    "    # only plot points with pvalue < 0.01\n",
    "    \n",
    "    plt.figure(figsize=figsize)\n",
    "    \n",
    "    gwas_p01 = gwas_df[gwas_df['P']<0.01]\n",
    "    chroms = list(np.sort(gwas_p01['CHR'].unique().tolist()))\n",
    "    chrom_offset = 0\n",
    "    xtick_pos = []\n",
    "    xtick_label = []\n",
    "    for c in chroms:\n",
    "        gwas_c = gwas_p01[gwas_p01['CHR']==c]\n",
    "        gwas_c = gwas_c.sort_values('BP')\n",
    "        \n",
    "        xtemp = gwas_c['BP']+chrom_offset\n",
    "        ptemp = gwas_c['-log10pval']\n",
    "        \n",
    "        if (c%2)==0:\n",
    "            color = 'k'\n",
    "        else:\n",
    "            color='gray'\n",
    "        \n",
    "        plt.plot(xtemp,ptemp,'.',color=color,label='')\n",
    "        \n",
    "        max_bp = gwas_c['BP'].max()\n",
    "        min_bp = gwas_c['BP'].min()\n",
    "        \n",
    "        xtick_pos.append((max_bp-min_bp)/2.0+chrom_offset)\n",
    "        xtick_label.append(str(c))\n",
    "        \n",
    "        # look for focal_snps in gwas_c\n",
    "        color_list = ['y','r','green']\n",
    "        len_snps = len(snps_to_highlight)\n",
    "\n",
    "        for w in range(len_snps):\n",
    "            focal_snps = snps_to_highlight[w]\n",
    "            snps_in_c = list(np.intersect1d(gwas_c['SNP'].tolist(),focal_snps))\n",
    "            if len(snps_in_c)>0:\n",
    "\n",
    "                gwas_c.index=gwas_c['SNP'].tolist() # reindex\n",
    "                x_snps = gwas_c.loc[snps_in_c]['BP']+chrom_offset\n",
    "                p_snps = gwas_c.loc[snps_in_c]['-log10pval']\n",
    "\n",
    "                color = color_list[w]\n",
    "                plt.plot(x_snps,p_snps,'*',color=color,label=highlight_label[w])\n",
    "            \n",
    "        \n",
    "        \n",
    "        \n",
    "        \n",
    "        chrom_offset+=max_bp\n",
    "        \n",
    "    plt.xticks(xtick_pos,xtick_label)\n",
    "    plt.xlabel('chromosome',fontsize=16)\n",
    "    plt.ylabel('-log10(p)',fontsize=16)\n",
    "    plt.hlines(5.0,-1000,3E9,linestyles='--',label='suggestive')\n",
    "    plt.hlines(7.0,-1000,3E9,linestyles='--',colors='r',label='strong evidence')\n",
    "    plt.legend(loc='best')"
   ]
  },
  {
   "cell_type": "code",
   "execution_count": null,
   "metadata": {
    "collapsed": true
   },
   "outputs": [],
   "source": []
  },
  {
   "cell_type": "code",
   "execution_count": null,
   "metadata": {},
   "outputs": [],
   "source": [
    "\n"
   ]
  },
  {
   "cell_type": "code",
   "execution_count": 317,
   "metadata": {},
   "outputs": [
    {
     "data": {
      "image/png": "[encoded data removed]",
      "text/plain": [
       "<matplotlib.figure.Figure at 0x15419e590>"
      ]
     },
     "metadata": {},
     "output_type": "display_data"
    }
   ],
   "source": [
    "manhattan_plot(gwas_df)\n",
    "plt.savefig('../figures/manhattan_plot.pdf',bbox_inches='tight',dpi=300)\n",
    "plt.savefig('../figures/manhattan_plot.png',bbox_inches='tight',dpi=300)"
   ]
  },
  {
   "cell_type": "code",
   "execution_count": 159,
   "metadata": {},
   "outputs": [
    {
     "data": {
      "text/plain": [
       "-7.0"
      ]
     },
     "execution_count": 159,
     "metadata": {},
     "output_type": "execute_result"
    }
   ],
   "source": [
    "np.log10(1E-7)"
   ]
  },
  {
   "cell_type": "code",
   "execution_count": null,
   "metadata": {
    "collapsed": true
   },
   "outputs": [],
   "source": []
  },
  {
   "cell_type": "code",
   "execution_count": null,
   "metadata": {
    "collapsed": true
   },
   "outputs": [],
   "source": []
  },
  {
   "cell_type": "code",
   "execution_count": 330,
   "metadata": {},
   "outputs": [
    {
     "data": {
      "text/plain": [
       "<matplotlib.axes._subplots.AxesSubplot at 0x1525c6310>"
      ]
     },
     "execution_count": 330,
     "metadata": {},
     "output_type": "execute_result"
    },
    {
     "data": {
      "image/png": "[encoded data removed]",
      "text/plain": [
       "<matplotlib.figure.Figure at 0x1525cecd0>"
      ]
     },
     "metadata": {},
     "output_type": "display_data"
    }
   ],
   "source": [
    "sns.distplot(gwas_df['-log10pval'])"
   ]
  },
  {
   "cell_type": "code",
   "execution_count": null,
   "metadata": {
    "collapsed": true
   },
   "outputs": [],
   "source": []
  },
  {
   "cell_type": "code",
   "execution_count": null,
   "metadata": {
    "collapsed": true
   },
   "outputs": [],
   "source": []
  },
  {
   "cell_type": "code",
   "execution_count": 331,
   "metadata": {},
   "outputs": [],
   "source": [
    "# qq plot inspired by https://www.broadinstitute.org/files/shared/diabetes/scandinavs/qqplot.R\n",
    "observed = gwas_df['-log10pval'].copy(deep=True)\n",
    "observed = observed.sort_values(ascending=False)\n",
    "expected = range(1,len(gwas_df)+1)\n",
    "lexp = -(np.log10(np.divide(expected,(len(expected)+1.0))))"
   ]
  },
  {
   "cell_type": "code",
   "execution_count": 334,
   "metadata": {},
   "outputs": [
    {
     "data": {
      "image/png": "[encoded data removed]",
      "text/plain": [
       "<matplotlib.figure.Figure at 0x1525f4c10>"
      ]
     },
     "metadata": {},
     "output_type": "display_data"
    }
   ],
   "source": [
    "plt.figure(figsize=(6,6))\n",
    "plt.plot(lexp,observed.tolist(),'.')\n",
    "plt.plot([0,7],[0,7],'r-')\n",
    "plt.xlabel('expected -log10(p)',fontsize=16)\n",
    "plt.ylabel('observed -log10(p)',fontsize=16)\n",
    "plt.savefig('../figures/Q-Q_plot.png',dpi=300,bbox_inches='tight')"
   ]
  },
  {
   "cell_type": "code",
   "execution_count": null,
   "metadata": {},
   "outputs": [],
   "source": []
  },
  {
   "cell_type": "markdown",
   "metadata": {},
   "source": [
    "# Load the VEGAS results"
   ]
  },
  {
   "cell_type": "code",
   "execution_count": 6,
   "metadata": {},
   "outputs": [
    {
     "data": {
      "text/html": [
       "<div>\n",
       "<style>\n",
       "    .dataframe thead tr:only-child th {\n",
       "        text-align: right;\n",
       "    }\n",
       "\n",
       "    .dataframe thead th {\n",
       "        text-align: left;\n",
       "    }\n",
       "\n",
       "    .dataframe tbody tr th {\n",
       "        vertical-align: top;\n",
       "    }\n",
       "</style>\n",
       "<table border=\"1\" class=\"dataframe\">\n",
       "  <thead>\n",
       "    <tr style=\"text-align: right;\">\n",
       "      <th></th>\n",
       "      <th>Chr</th>\n",
       "      <th>Gene</th>\n",
       "      <th>nSNPs</th>\n",
       "      <th>nSims</th>\n",
       "      <th>Start</th>\n",
       "      <th>Stop</th>\n",
       "      <th>Test</th>\n",
       "      <th>Pvalue</th>\n",
       "      <th>TopSNP</th>\n",
       "      <th>TopSNP-pvalue</th>\n",
       "    </tr>\n",
       "  </thead>\n",
       "  <tbody>\n",
       "    <tr>\n",
       "      <th>0</th>\n",
       "      <td>3</td>\n",
       "      <td>DNAJB11</td>\n",
       "      <td>99</td>\n",
       "      <td>1000000.0</td>\n",
       "      <td>186278464</td>\n",
       "      <td>186313589</td>\n",
       "      <td>872.284807</td>\n",
       "      <td>0.000178</td>\n",
       "      <td>rs2280388</td>\n",
       "      <td>0.000062</td>\n",
       "    </tr>\n",
       "    <tr>\n",
       "      <th>1</th>\n",
       "      <td>3</td>\n",
       "      <td>TBCCD1</td>\n",
       "      <td>104</td>\n",
       "      <td>1000000.0</td>\n",
       "      <td>186253855</td>\n",
       "      <td>186298332</td>\n",
       "      <td>762.595327</td>\n",
       "      <td>0.000233</td>\n",
       "      <td>rs2280388</td>\n",
       "      <td>0.000062</td>\n",
       "    </tr>\n",
       "    <tr>\n",
       "      <th>2</th>\n",
       "      <td>19</td>\n",
       "      <td>ZNF431</td>\n",
       "      <td>137</td>\n",
       "      <td>1000000.0</td>\n",
       "      <td>21314839</td>\n",
       "      <td>21378805</td>\n",
       "      <td>704.975901</td>\n",
       "      <td>0.000243</td>\n",
       "      <td>rs2358807</td>\n",
       "      <td>0.000411</td>\n",
       "    </tr>\n",
       "    <tr>\n",
       "      <th>3</th>\n",
       "      <td>3</td>\n",
       "      <td>SHOX2</td>\n",
       "      <td>64</td>\n",
       "      <td>1000000.0</td>\n",
       "      <td>157803799</td>\n",
       "      <td>157833952</td>\n",
       "      <td>453.393877</td>\n",
       "      <td>0.000349</td>\n",
       "      <td>rs1879803</td>\n",
       "      <td>0.000858</td>\n",
       "    </tr>\n",
       "    <tr>\n",
       "      <th>4</th>\n",
       "      <td>8</td>\n",
       "      <td>PDGFRL</td>\n",
       "      <td>632</td>\n",
       "      <td>1000000.0</td>\n",
       "      <td>17423941</td>\n",
       "      <td>17510642</td>\n",
       "      <td>1820.608562</td>\n",
       "      <td>0.000754</td>\n",
       "      <td>rs11203877</td>\n",
       "      <td>0.000178</td>\n",
       "    </tr>\n",
       "    <tr>\n",
       "      <th>5</th>\n",
       "      <td>13</td>\n",
       "      <td>UBL3</td>\n",
       "      <td>252</td>\n",
       "      <td>1000000.0</td>\n",
       "      <td>30328544</td>\n",
       "      <td>30434820</td>\n",
       "      <td>1383.415194</td>\n",
       "      <td>0.000847</td>\n",
       "      <td>rs1927193</td>\n",
       "      <td>0.000044</td>\n",
       "    </tr>\n",
       "    <tr>\n",
       "      <th>6</th>\n",
       "      <td>6</td>\n",
       "      <td>SRF</td>\n",
       "      <td>79</td>\n",
       "      <td>100000.0</td>\n",
       "      <td>43129032</td>\n",
       "      <td>43159244</td>\n",
       "      <td>442.075107</td>\n",
       "      <td>0.001000</td>\n",
       "      <td>rs6458327</td>\n",
       "      <td>0.000452</td>\n",
       "    </tr>\n",
       "    <tr>\n",
       "      <th>7</th>\n",
       "      <td>19</td>\n",
       "      <td>MIR638</td>\n",
       "      <td>61</td>\n",
       "      <td>100000.0</td>\n",
       "      <td>10819079</td>\n",
       "      <td>10839179</td>\n",
       "      <td>369.255427</td>\n",
       "      <td>0.001080</td>\n",
       "      <td>rs8112837</td>\n",
       "      <td>0.001086</td>\n",
       "    </tr>\n",
       "    <tr>\n",
       "      <th>8</th>\n",
       "      <td>19</td>\n",
       "      <td>LOC284412</td>\n",
       "      <td>22</td>\n",
       "      <td>100000.0</td>\n",
       "      <td>37746840</td>\n",
       "      <td>37769912</td>\n",
       "      <td>82.077441</td>\n",
       "      <td>0.001090</td>\n",
       "      <td>rs7246657</td>\n",
       "      <td>0.008060</td>\n",
       "    </tr>\n",
       "    <tr>\n",
       "      <th>9</th>\n",
       "      <td>5</td>\n",
       "      <td>DIMT1</td>\n",
       "      <td>78</td>\n",
       "      <td>100000.0</td>\n",
       "      <td>61674350</td>\n",
       "      <td>61709728</td>\n",
       "      <td>391.271030</td>\n",
       "      <td>0.001140</td>\n",
       "      <td>rs247257</td>\n",
       "      <td>0.000347</td>\n",
       "    </tr>\n",
       "  </tbody>\n",
       "</table>\n",
       "</div>"
      ],
      "text/plain": [
       "   Chr       Gene  nSNPs      nSims      Start       Stop         Test  \\\n",
       "0    3    DNAJB11     99  1000000.0  186278464  186313589   872.284807   \n",
       "1    3     TBCCD1    104  1000000.0  186253855  186298332   762.595327   \n",
       "2   19     ZNF431    137  1000000.0   21314839   21378805   704.975901   \n",
       "3    3      SHOX2     64  1000000.0  157803799  157833952   453.393877   \n",
       "4    8     PDGFRL    632  1000000.0   17423941   17510642  1820.608562   \n",
       "5   13       UBL3    252  1000000.0   30328544   30434820  1383.415194   \n",
       "6    6        SRF     79   100000.0   43129032   43159244   442.075107   \n",
       "7   19     MIR638     61   100000.0   10819079   10839179   369.255427   \n",
       "8   19  LOC284412     22   100000.0   37746840   37769912    82.077441   \n",
       "9    5      DIMT1     78   100000.0   61674350   61709728   391.271030   \n",
       "\n",
       "     Pvalue      TopSNP  TopSNP-pvalue  \n",
       "0  0.000178   rs2280388       0.000062  \n",
       "1  0.000233   rs2280388       0.000062  \n",
       "2  0.000243   rs2358807       0.000411  \n",
       "3  0.000349   rs1879803       0.000858  \n",
       "4  0.000754  rs11203877       0.000178  \n",
       "5  0.000847   rs1927193       0.000044  \n",
       "6  0.001000   rs6458327       0.000452  \n",
       "7  0.001080   rs8112837       0.001086  \n",
       "8  0.001090   rs7246657       0.008060  \n",
       "9  0.001140    rs247257       0.000347  "
      ]
     },
     "execution_count": 6,
     "metadata": {},
     "output_type": "execute_result"
    }
   ],
   "source": [
    "vegas_df = pd.read_csv('../VEGAS2/vegas_results_lithium_bipolar_eur.v2out',sep=' ')\n",
    "vegas_df = vegas_df.sort_values('Pvalue',ascending=True)\n",
    "vegas_df.head(10)"
   ]
  },
  {
   "cell_type": "code",
   "execution_count": 7,
   "metadata": {},
   "outputs": [
    {
     "data": {
      "text/html": [
       "<div>\n",
       "<style>\n",
       "    .dataframe thead tr:only-child th {\n",
       "        text-align: right;\n",
       "    }\n",
       "\n",
       "    .dataframe thead th {\n",
       "        text-align: left;\n",
       "    }\n",
       "\n",
       "    .dataframe tbody tr th {\n",
       "        vertical-align: top;\n",
       "    }\n",
       "</style>\n",
       "<table border=\"1\" class=\"dataframe\">\n",
       "  <thead>\n",
       "    <tr style=\"text-align: right;\">\n",
       "      <th></th>\n",
       "      <th>Chr</th>\n",
       "      <th>Gene</th>\n",
       "      <th>nSNPs</th>\n",
       "      <th>nSims</th>\n",
       "      <th>Start</th>\n",
       "      <th>Stop</th>\n",
       "      <th>Test</th>\n",
       "      <th>Pvalue</th>\n",
       "      <th>TopSNP</th>\n",
       "      <th>TopSNP-pvalue</th>\n",
       "    </tr>\n",
       "    <tr>\n",
       "      <th>Gene</th>\n",
       "      <th></th>\n",
       "      <th></th>\n",
       "      <th></th>\n",
       "      <th></th>\n",
       "      <th></th>\n",
       "      <th></th>\n",
       "      <th></th>\n",
       "      <th></th>\n",
       "      <th></th>\n",
       "      <th></th>\n",
       "    </tr>\n",
       "  </thead>\n",
       "  <tbody>\n",
       "    <tr>\n",
       "      <th>TENM4</th>\n",
       "      <td>NaN</td>\n",
       "      <td>NaN</td>\n",
       "      <td>NaN</td>\n",
       "      <td>NaN</td>\n",
       "      <td>NaN</td>\n",
       "      <td>NaN</td>\n",
       "      <td>NaN</td>\n",
       "      <td>NaN</td>\n",
       "      <td>NaN</td>\n",
       "      <td>NaN</td>\n",
       "    </tr>\n",
       "    <tr>\n",
       "      <th>NTRK2</th>\n",
       "      <td>9.0</td>\n",
       "      <td>NTRK2</td>\n",
       "      <td>995.0</td>\n",
       "      <td>1000.0</td>\n",
       "      <td>87273372.0</td>\n",
       "      <td>87651985.0</td>\n",
       "      <td>1263.942679</td>\n",
       "      <td>0.203796</td>\n",
       "      <td>rs1443443</td>\n",
       "      <td>0.003293</td>\n",
       "    </tr>\n",
       "  </tbody>\n",
       "</table>\n",
       "</div>"
      ],
      "text/plain": [
       "       Chr   Gene  nSNPs   nSims       Start        Stop         Test  \\\n",
       "Gene                                                                    \n",
       "TENM4  NaN    NaN    NaN     NaN         NaN         NaN          NaN   \n",
       "NTRK2  9.0  NTRK2  995.0  1000.0  87273372.0  87651985.0  1263.942679   \n",
       "\n",
       "         Pvalue     TopSNP  TopSNP-pvalue  \n",
       "Gene                                       \n",
       "TENM4       NaN        NaN            NaN  \n",
       "NTRK2  0.203796  rs1443443       0.003293  "
      ]
     },
     "execution_count": 7,
     "metadata": {},
     "output_type": "execute_result"
    }
   ],
   "source": [
    "vegas_df.index=vegas_df['Gene']\n",
    "vegas_df.loc[['TENM4','NTRK2']]"
   ]
  },
  {
   "cell_type": "code",
   "execution_count": null,
   "metadata": {},
   "outputs": [],
   "source": []
  },
  {
   "cell_type": "code",
   "execution_count": 8,
   "metadata": {},
   "outputs": [],
   "source": [
    "# permute the vegas_results\n",
    "# permuted_genes = vegas_df['Gene'].tolist()\n",
    "# np.random.shuffle(permuted_genes)\n",
    "# vegas_permuted = vegas_df.copy(deep=True)\n",
    "# vegas_permuted['Gene']=permuted_genes\n",
    "# vegas_permuted.to_csv('../vegas_permuted.txt',sep='\\t',header=False,index=False)\n",
    "# vegas_permuted.head()"
   ]
  },
  {
   "cell_type": "code",
   "execution_count": 9,
   "metadata": {},
   "outputs": [
    {
     "name": "stdout",
     "output_type": "stream",
     "text": [
      "23582\n",
      "1180\n",
      "1180\n"
     ]
    }
   ],
   "source": [
    "# print(sum(vegas_df['Pvalue']<0.001))\n",
    "# for g in vegas_df[vegas_df['Pvalue']<0.001]['Gene'].tolist():\n",
    "#     print(g)\n",
    "\n",
    "# 7/8/19: vegas top 5% (lowest 5% p-vals)\n",
    "p95_vegas = np.percentile(vegas_df['TopSNP-pvalue'],5)\n",
    "print(len(vegas_df))\n",
    "print(sum(vegas_df['TopSNP-pvalue']<p95_vegas))\n",
    "vegas_filtered = vegas_df[vegas_df['TopSNP-pvalue']<p95_vegas]\n",
    "g_vegas = vegas_filtered['Gene'].tolist()\n",
    "print(len(g_vegas))"
   ]
  },
  {
   "cell_type": "code",
   "execution_count": 33,
   "metadata": {},
   "outputs": [
    {
     "data": {
      "image/png": "[encoded data removed]",
      "text/plain": [
       "<matplotlib.figure.Figure at 0x119777550>"
      ]
     },
     "metadata": {},
     "output_type": "display_data"
    }
   ],
   "source": [
    "sns.distplot(-np.log(vegas_df['TopSNP-pvalue']))\n",
    "plt.plot([-np.log(p95_vegas),-np.log(p95_vegas)],[0,.35],'k--',label='top 5 percent')\n",
    "plt.ylabel('frequency',fontsize=16)\n",
    "plt.xlabel('-log(vegas p-value)',fontsize=16)\n",
    "plt.legend(fontsize=12,loc='upper right')\n",
    "# plt.savefig('../analysis_results/190712/vegas_neglogPval_distribution_top5percent.png',dpi=300,bbox_inches='tight')"
   ]
  },
  {
   "cell_type": "code",
   "execution_count": null,
   "metadata": {},
   "outputs": [],
   "source": []
  },
  {
   "cell_type": "code",
   "execution_count": 10,
   "metadata": {},
   "outputs": [
    {
     "ename": "NameError",
     "evalue": "name 'g_netwas' is not defined",
     "output_type": "error",
     "traceback": [
      "\u001b[0;31m---------------------------------------------------------------------------\u001b[0m",
      "\u001b[0;31mNameError\u001b[0m                                 Traceback (most recent call last)",
      "\u001b[0;32m<ipython-input-10-3327f5e05089>\u001b[0m in \u001b[0;36m<module>\u001b[0;34m()\u001b[0m\n\u001b[1;32m      1\u001b[0m \u001b[0mvegas_df\u001b[0m\u001b[0;34m.\u001b[0m\u001b[0mindex\u001b[0m\u001b[0;34m=\u001b[0m\u001b[0mvegas_df\u001b[0m\u001b[0;34m[\u001b[0m\u001b[0;34m'Gene'\u001b[0m\u001b[0;34m]\u001b[0m\u001b[0;34m\u001b[0m\u001b[0m\n\u001b[1;32m      2\u001b[0m \u001b[0;34m\u001b[0m\u001b[0m\n\u001b[0;32m----> 3\u001b[0;31m \u001b[0mvegas_netwas\u001b[0m \u001b[0;34m=\u001b[0m \u001b[0mvegas_df\u001b[0m\u001b[0;34m.\u001b[0m\u001b[0mloc\u001b[0m\u001b[0;34m[\u001b[0m\u001b[0mg_netwas\u001b[0m\u001b[0;34m]\u001b[0m\u001b[0;34m\u001b[0m\u001b[0m\n\u001b[0m\u001b[1;32m      4\u001b[0m \u001b[0;31m#vegas_netwas = vegas_netwas[vegas_netwas['TopSNP-pvalue']<0.05] # further filter by TopSNP-pval\u001b[0m\u001b[0;34m\u001b[0m\u001b[0;34m\u001b[0m\u001b[0m\n\u001b[1;32m      5\u001b[0m \u001b[0mvegas_netwas\u001b[0m\u001b[0;34m\u001b[0m\u001b[0m\n",
      "\u001b[0;31mNameError\u001b[0m: name 'g_netwas' is not defined"
     ]
    }
   ],
   "source": [
    "vegas_df.index=vegas_df['Gene']\n",
    "\n",
    "vegas_netwas = vegas_df.loc[g_netwas] \n",
    "#vegas_netwas = vegas_netwas[vegas_netwas['TopSNP-pvalue']<0.05] # further filter by TopSNP-pval\n",
    "vegas_netwas"
   ]
  },
  {
   "cell_type": "markdown",
   "metadata": {},
   "source": [
    "# Load the netwas results\n",
    "\n",
    "Useful description of algorithm here: http://humanbase.readthedocs.io/en/latest/netwas.html#\n",
    "\n",
    "NetWAS trains a support vector machine classifier using nominally significant (P < 0.01) genes as positive examples and 10,000 randomly selected non-significant (P ≥ 0.01) genes as negatives. The classifier is constructed using a tissue network relevant to a disease (e.g. kidney for hypertension), where the features of the classifier are the edge weights of the labeled examples to all the genes in the network. Genes are re-ranked using their distance from the hyperplane, which represent a network-based prioritization of a GWAS, termed NetWAS."
   ]
  },
  {
   "cell_type": "code",
   "execution_count": 11,
   "metadata": {},
   "outputs": [
    {
     "data": {
      "text/html": [
       "<div>\n",
       "<style>\n",
       "    .dataframe thead tr:only-child th {\n",
       "        text-align: right;\n",
       "    }\n",
       "\n",
       "    .dataframe thead th {\n",
       "        text-align: left;\n",
       "    }\n",
       "\n",
       "    .dataframe tbody tr th {\n",
       "        vertical-align: top;\n",
       "    }\n",
       "</style>\n",
       "<table border=\"1\" class=\"dataframe\">\n",
       "  <thead>\n",
       "    <tr style=\"text-align: right;\">\n",
       "      <th></th>\n",
       "      <th>gene</th>\n",
       "      <th>training_set</th>\n",
       "      <th>netwas_score</th>\n",
       "    </tr>\n",
       "  </thead>\n",
       "  <tbody>\n",
       "    <tr>\n",
       "      <th>25</th>\n",
       "      <td>MRPS35</td>\n",
       "      <td>-1.0</td>\n",
       "      <td>0.495508</td>\n",
       "    </tr>\n",
       "    <tr>\n",
       "      <th>26</th>\n",
       "      <td>EIF3E</td>\n",
       "      <td>-1.0</td>\n",
       "      <td>0.480241</td>\n",
       "    </tr>\n",
       "    <tr>\n",
       "      <th>27</th>\n",
       "      <td>NDUFA2</td>\n",
       "      <td>-1.0</td>\n",
       "      <td>0.470991</td>\n",
       "    </tr>\n",
       "    <tr>\n",
       "      <th>28</th>\n",
       "      <td>RPS21</td>\n",
       "      <td>-1.0</td>\n",
       "      <td>0.465470</td>\n",
       "    </tr>\n",
       "    <tr>\n",
       "      <th>29</th>\n",
       "      <td>EIF3D</td>\n",
       "      <td>-1.0</td>\n",
       "      <td>0.414218</td>\n",
       "    </tr>\n",
       "  </tbody>\n",
       "</table>\n",
       "</div>"
      ],
      "text/plain": [
       "      gene  training_set  netwas_score\n",
       "25  MRPS35          -1.0      0.495508\n",
       "26   EIF3E          -1.0      0.480241\n",
       "27  NDUFA2          -1.0      0.470991\n",
       "28   RPS21          -1.0      0.465470\n",
       "29   EIF3D          -1.0      0.414218"
      ]
     },
     "execution_count": 11,
     "metadata": {},
     "output_type": "execute_result"
    }
   ],
   "source": [
    "# -------- Load brain netwas results ------------------------------------------------\n",
    "netwas_df = pd.read_csv('../NETWAS_results/netwas_results_180202.txt',sep='\\t',\n",
    "                       skiprows=3,names=['gene','training_set','netwas_score'])\n",
    "# -----------------------------------------------------------------------------\n",
    "\n",
    "# -------- Load kidney netwas results ------------------------------------------------\n",
    "# netwas_df = pd.read_csv('../NETWAS_results/netwas_kidney_results_180205.txt',sep='\\t',\n",
    "#                        skiprows=3,names=['gene','training_set','netwas_score'])\n",
    "# -----------------------------------------------------------------------------\n",
    "\n",
    "# -------- Or load the permuted results ---------------------------------------\n",
    "# netwas_df = pd.read_csv('../NETWAS_results/netwas_permuted_180205.txt',sep='\\t',\n",
    "#                        skiprows=3,names=['gene','training_set','netwas_score'])\n",
    "# -----------------------------------------------------------------------------\n",
    "\n",
    "netwas_df = netwas_df.sort_values('netwas_score',ascending=False)\n",
    "netwas_df.head()"
   ]
  },
  {
   "cell_type": "code",
   "execution_count": 12,
   "metadata": {},
   "outputs": [
    {
     "name": "stdout",
     "output_type": "stream",
     "text": [
      "146\n",
      "16716\n",
      "2402\n"
     ]
    }
   ],
   "source": [
    "#... how do these numbers add up??\n",
    "print(sum(netwas_df['training_set']==1))\n",
    "print(sum(netwas_df['training_set']==-1))\n",
    "print(sum(netwas_df['training_set']==0))"
   ]
  },
  {
   "cell_type": "code",
   "execution_count": 13,
   "metadata": {},
   "outputs": [
    {
     "data": {
      "text/plain": [
       "<matplotlib.axes._subplots.AxesSubplot at 0x1164ffed0>"
      ]
     },
     "execution_count": 13,
     "metadata": {},
     "output_type": "execute_result"
    },
    {
     "data": {
      "image/png": "[encoded data removed]",
      "text/plain": [
       "<matplotlib.figure.Figure at 0x1164eda10>"
      ]
     },
     "metadata": {},
     "output_type": "display_data"
    }
   ],
   "source": [
    "sns.distplot(netwas_df['netwas_score'].dropna())"
   ]
  },
  {
   "cell_type": "code",
   "execution_count": 14,
   "metadata": {},
   "outputs": [
    {
     "name": "stdout",
     "output_type": "stream",
     "text": [
      "964\n"
     ]
    }
   ],
   "source": [
    "# how do all genes > .2 perform?\n",
    "# netwas_filtered = netwas_df[(netwas_df['netwas_score']>.1)]\n",
    "# g_netwas = netwas_filtered['gene'].tolist()\n",
    "# print(len(netwas_filtered))\n",
    "# for g in netwas_filtered['gene'].tolist():\n",
    "#     print(g)\n",
    "\n",
    "# update 7/8/19: take top 5% of all netwas genes\n",
    "p95 = np.percentile(netwas_df['netwas_score'].dropna(),95)\n",
    "\n",
    "netwas_filtered = netwas_df[netwas_df['netwas_score']>p95]\n",
    "g_netwas = netwas_filtered['gene'].tolist()\n",
    "print(len(g_netwas))"
   ]
  },
  {
   "cell_type": "code",
   "execution_count": 22,
   "metadata": {},
   "outputs": [
    {
     "data": {
      "image/png": "[encoded data removed]",
      "text/plain": [
       "<matplotlib.figure.Figure at 0x119f91810>"
      ]
     },
     "metadata": {},
     "output_type": "display_data"
    }
   ],
   "source": [
    "sns.distplot(netwas_df['netwas_score'].dropna())\n",
    "plt.plot([p95,p95],[0,10],'k--',label='top 5 percent')\n",
    "plt.ylabel('frequency',fontsize=16)\n",
    "plt.xlabel('netwas_score',fontsize=16)\n",
    "plt.legend(fontsize=12,loc='upper left')\n",
    "# plt.savefig('../analysis_results/190712/netwas_distribution_top5percent.png',dpi=300,bbox_inches='tight')"
   ]
  },
  {
   "cell_type": "code",
   "execution_count": null,
   "metadata": {},
   "outputs": [],
   "source": [
    "\n"
   ]
  },
  {
   "cell_type": "markdown",
   "metadata": {},
   "source": [
    "# Load the GWAB results"
   ]
  },
  {
   "cell_type": "code",
   "execution_count": 23,
   "metadata": {},
   "outputs": [
    {
     "data": {
      "text/html": [
       "<div>\n",
       "<style>\n",
       "    .dataframe thead tr:only-child th {\n",
       "        text-align: right;\n",
       "    }\n",
       "\n",
       "    .dataframe thead th {\n",
       "        text-align: left;\n",
       "    }\n",
       "\n",
       "    .dataframe tbody tr th {\n",
       "        vertical-align: top;\n",
       "    }\n",
       "</style>\n",
       "<table border=\"1\" class=\"dataframe\">\n",
       "  <thead>\n",
       "    <tr style=\"text-align: right;\">\n",
       "      <th></th>\n",
       "      <th># Entrez_Gene_ID</th>\n",
       "      <th>Gene_Symbol</th>\n",
       "      <th>GWAB_Score</th>\n",
       "    </tr>\n",
       "    <tr>\n",
       "      <th>Gene_Symbol</th>\n",
       "      <th></th>\n",
       "      <th></th>\n",
       "      <th></th>\n",
       "    </tr>\n",
       "  </thead>\n",
       "  <tbody>\n",
       "    <tr>\n",
       "      <th>UBC</th>\n",
       "      <td>7316</td>\n",
       "      <td>UBC</td>\n",
       "      <td>26.441133</td>\n",
       "    </tr>\n",
       "    <tr>\n",
       "      <th>APP</th>\n",
       "      <td>351</td>\n",
       "      <td>APP</td>\n",
       "      <td>18.161573</td>\n",
       "    </tr>\n",
       "    <tr>\n",
       "      <th>SUMO1</th>\n",
       "      <td>7341</td>\n",
       "      <td>SUMO1</td>\n",
       "      <td>15.222024</td>\n",
       "    </tr>\n",
       "    <tr>\n",
       "      <th>HSP90AA1</th>\n",
       "      <td>3320</td>\n",
       "      <td>HSP90AA1</td>\n",
       "      <td>15.164895</td>\n",
       "    </tr>\n",
       "    <tr>\n",
       "      <th>GRB2</th>\n",
       "      <td>2885</td>\n",
       "      <td>GRB2</td>\n",
       "      <td>14.811854</td>\n",
       "    </tr>\n",
       "    <tr>\n",
       "      <th>HDAC1</th>\n",
       "      <td>3065</td>\n",
       "      <td>HDAC1</td>\n",
       "      <td>13.843159</td>\n",
       "    </tr>\n",
       "    <tr>\n",
       "      <th>HDAC2</th>\n",
       "      <td>3066</td>\n",
       "      <td>HDAC2</td>\n",
       "      <td>13.207057</td>\n",
       "    </tr>\n",
       "    <tr>\n",
       "      <th>VCP</th>\n",
       "      <td>7415</td>\n",
       "      <td>VCP</td>\n",
       "      <td>12.801652</td>\n",
       "    </tr>\n",
       "    <tr>\n",
       "      <th>HSP90AB1</th>\n",
       "      <td>3326</td>\n",
       "      <td>HSP90AB1</td>\n",
       "      <td>12.598357</td>\n",
       "    </tr>\n",
       "    <tr>\n",
       "      <th>EGFR</th>\n",
       "      <td>1956</td>\n",
       "      <td>EGFR</td>\n",
       "      <td>12.457546</td>\n",
       "    </tr>\n",
       "    <tr>\n",
       "      <th>LATS2</th>\n",
       "      <td>26524</td>\n",
       "      <td>LATS2</td>\n",
       "      <td>11.225895</td>\n",
       "    </tr>\n",
       "    <tr>\n",
       "      <th>PPP2CB</th>\n",
       "      <td>5516</td>\n",
       "      <td>PPP2CB</td>\n",
       "      <td>11.097760</td>\n",
       "    </tr>\n",
       "    <tr>\n",
       "      <th>MYC</th>\n",
       "      <td>4609</td>\n",
       "      <td>MYC</td>\n",
       "      <td>10.976764</td>\n",
       "    </tr>\n",
       "    <tr>\n",
       "      <th>SUMO2</th>\n",
       "      <td>6613</td>\n",
       "      <td>SUMO2</td>\n",
       "      <td>10.816703</td>\n",
       "    </tr>\n",
       "    <tr>\n",
       "      <th>BRCA1</th>\n",
       "      <td>672</td>\n",
       "      <td>BRCA1</td>\n",
       "      <td>10.753345</td>\n",
       "    </tr>\n",
       "    <tr>\n",
       "      <th>YWHAZ</th>\n",
       "      <td>7534</td>\n",
       "      <td>YWHAZ</td>\n",
       "      <td>10.743873</td>\n",
       "    </tr>\n",
       "    <tr>\n",
       "      <th>CSNK1G2</th>\n",
       "      <td>1455</td>\n",
       "      <td>CSNK1G2</td>\n",
       "      <td>10.599727</td>\n",
       "    </tr>\n",
       "    <tr>\n",
       "      <th>CTBP1</th>\n",
       "      <td>1487</td>\n",
       "      <td>CTBP1</td>\n",
       "      <td>10.594473</td>\n",
       "    </tr>\n",
       "    <tr>\n",
       "      <th>YWHAB</th>\n",
       "      <td>7529</td>\n",
       "      <td>YWHAB</td>\n",
       "      <td>10.588724</td>\n",
       "    </tr>\n",
       "    <tr>\n",
       "      <th>CSNK1A1</th>\n",
       "      <td>1452</td>\n",
       "      <td>CSNK1A1</td>\n",
       "      <td>10.571666</td>\n",
       "    </tr>\n",
       "    <tr>\n",
       "      <th>ABL1</th>\n",
       "      <td>25</td>\n",
       "      <td>ABL1</td>\n",
       "      <td>10.538721</td>\n",
       "    </tr>\n",
       "    <tr>\n",
       "      <th>CRK</th>\n",
       "      <td>1398</td>\n",
       "      <td>CRK</td>\n",
       "      <td>10.487390</td>\n",
       "    </tr>\n",
       "    <tr>\n",
       "      <th>CSNK1G3</th>\n",
       "      <td>1456</td>\n",
       "      <td>CSNK1G3</td>\n",
       "      <td>10.164075</td>\n",
       "    </tr>\n",
       "    <tr>\n",
       "      <th>SRC</th>\n",
       "      <td>6714</td>\n",
       "      <td>SRC</td>\n",
       "      <td>10.111091</td>\n",
       "    </tr>\n",
       "    <tr>\n",
       "      <th>SUMO3</th>\n",
       "      <td>6612</td>\n",
       "      <td>SUMO3</td>\n",
       "      <td>10.076833</td>\n",
       "    </tr>\n",
       "  </tbody>\n",
       "</table>\n",
       "</div>"
      ],
      "text/plain": [
       "             # Entrez_Gene_ID Gene_Symbol  GWAB_Score\n",
       "Gene_Symbol                                          \n",
       "UBC                      7316         UBC   26.441133\n",
       "APP                       351         APP   18.161573\n",
       "SUMO1                    7341       SUMO1   15.222024\n",
       "HSP90AA1                 3320    HSP90AA1   15.164895\n",
       "GRB2                     2885        GRB2   14.811854\n",
       "HDAC1                    3065       HDAC1   13.843159\n",
       "HDAC2                    3066       HDAC2   13.207057\n",
       "VCP                      7415         VCP   12.801652\n",
       "HSP90AB1                 3326    HSP90AB1   12.598357\n",
       "EGFR                     1956        EGFR   12.457546\n",
       "LATS2                   26524       LATS2   11.225895\n",
       "PPP2CB                   5516      PPP2CB   11.097760\n",
       "MYC                      4609         MYC   10.976764\n",
       "SUMO2                    6613       SUMO2   10.816703\n",
       "BRCA1                     672       BRCA1   10.753345\n",
       "YWHAZ                    7534       YWHAZ   10.743873\n",
       "CSNK1G2                  1455     CSNK1G2   10.599727\n",
       "CTBP1                    1487       CTBP1   10.594473\n",
       "YWHAB                    7529       YWHAB   10.588724\n",
       "CSNK1A1                  1452     CSNK1A1   10.571666\n",
       "ABL1                       25        ABL1   10.538721\n",
       "CRK                      1398         CRK   10.487390\n",
       "CSNK1G3                  1456     CSNK1G3   10.164075\n",
       "SRC                      6714         SRC   10.111091\n",
       "SUMO3                    6612       SUMO3   10.076833"
      ]
     },
     "execution_count": 23,
     "metadata": {},
     "output_type": "execute_result"
    }
   ],
   "source": [
    "gwab_df = pd.read_csv('../GWAB/bipolar/gwap_eur.output',sep='\\t')\n",
    "gwab_df.index=gwab_df['Gene_Symbol']\n",
    "gwab_df.head(25)"
   ]
  },
  {
   "cell_type": "code",
   "execution_count": 24,
   "metadata": {},
   "outputs": [
    {
     "data": {
      "text/plain": [
       "<matplotlib.axes._subplots.AxesSubplot at 0x119f31290>"
      ]
     },
     "execution_count": 24,
     "metadata": {},
     "output_type": "execute_result"
    },
    {
     "data": {
      "image/png": "[encoded data removed]",
      "text/plain": [
       "<matplotlib.figure.Figure at 0x11a4c3710>"
      ]
     },
     "metadata": {},
     "output_type": "display_data"
    }
   ],
   "source": [
    "sns.distplot(gwab_df['GWAB_Score'])"
   ]
  },
  {
   "cell_type": "code",
   "execution_count": 26,
   "metadata": {},
   "outputs": [
    {
     "name": "stdout",
     "output_type": "stream",
     "text": [
      "1119\n"
     ]
    }
   ],
   "source": [
    "# gwab_thresh = 8\n",
    "# gwab_genes =  gwab_df[gwab_df['GWAB_Score']>gwab_thresh].index.tolist()\n",
    "# print(len(gwab_genes))\n",
    "# for g in gwab_genes:\n",
    "#     print(g)\n",
    "\n",
    "# update 7/8/19: take the top 5%\n",
    "p95_gwab = np.percentile(gwab_df['GWAB_Score'].tolist(),95)\n",
    "gwab_genes = gwab_df[gwab_df['GWAB_Score']>p95_gwab].index.tolist()\n",
    "print(len(gwab_genes))"
   ]
  },
  {
   "cell_type": "code",
   "execution_count": 28,
   "metadata": {},
   "outputs": [
    {
     "data": {
      "image/png": "[encoded data removed]",
      "text/plain": [
       "<matplotlib.figure.Figure at 0x11a5aa7d0>"
      ]
     },
     "metadata": {},
     "output_type": "display_data"
    }
   ],
   "source": [
    "sns.distplot(gwab_df['GWAB_Score'])\n",
    "plt.plot([p95_gwab,p95_gwab],[0,.5],'k--',label='top 5 percent')\n",
    "plt.ylabel('frequency',fontsize=16)\n",
    "plt.xlabel('GWAB_score',fontsize=16)\n",
    "plt.legend(fontsize=12,loc='upper right')\n",
    "# plt.savefig('../analysis_results/190712/GWAB_distribution_top5percent.png',dpi=300,bbox_inches='tight')"
   ]
  },
  {
   "cell_type": "code",
   "execution_count": null,
   "metadata": {},
   "outputs": [],
   "source": []
  },
  {
   "cell_type": "code",
   "execution_count": 30,
   "metadata": {},
   "outputs": [
    {
     "data": {
      "text/html": [
       "<div>\n",
       "<style>\n",
       "    .dataframe thead tr:only-child th {\n",
       "        text-align: right;\n",
       "    }\n",
       "\n",
       "    .dataframe thead th {\n",
       "        text-align: left;\n",
       "    }\n",
       "\n",
       "    .dataframe tbody tr th {\n",
       "        vertical-align: top;\n",
       "    }\n",
       "</style>\n",
       "<table border=\"1\" class=\"dataframe\">\n",
       "  <thead>\n",
       "    <tr style=\"text-align: right;\">\n",
       "      <th></th>\n",
       "      <th># Entrez_Gene_ID</th>\n",
       "      <th>Gene_Symbol</th>\n",
       "      <th>GWAB_Score</th>\n",
       "    </tr>\n",
       "    <tr>\n",
       "      <th>Gene_Symbol</th>\n",
       "      <th></th>\n",
       "      <th></th>\n",
       "      <th></th>\n",
       "    </tr>\n",
       "  </thead>\n",
       "  <tbody>\n",
       "    <tr>\n",
       "      <th>UBC</th>\n",
       "      <td>7316</td>\n",
       "      <td>UBC</td>\n",
       "      <td>26.441133</td>\n",
       "    </tr>\n",
       "    <tr>\n",
       "      <th>APP</th>\n",
       "      <td>351</td>\n",
       "      <td>APP</td>\n",
       "      <td>18.161573</td>\n",
       "    </tr>\n",
       "    <tr>\n",
       "      <th>SUMO1</th>\n",
       "      <td>7341</td>\n",
       "      <td>SUMO1</td>\n",
       "      <td>15.222024</td>\n",
       "    </tr>\n",
       "    <tr>\n",
       "      <th>HSP90AA1</th>\n",
       "      <td>3320</td>\n",
       "      <td>HSP90AA1</td>\n",
       "      <td>15.164895</td>\n",
       "    </tr>\n",
       "    <tr>\n",
       "      <th>GRB2</th>\n",
       "      <td>2885</td>\n",
       "      <td>GRB2</td>\n",
       "      <td>14.811854</td>\n",
       "    </tr>\n",
       "  </tbody>\n",
       "</table>\n",
       "</div>"
      ],
      "text/plain": [
       "             # Entrez_Gene_ID Gene_Symbol  GWAB_Score\n",
       "Gene_Symbol                                          \n",
       "UBC                      7316         UBC   26.441133\n",
       "APP                       351         APP   18.161573\n",
       "SUMO1                    7341       SUMO1   15.222024\n",
       "HSP90AA1                 3320    HSP90AA1   15.164895\n",
       "GRB2                     2885        GRB2   14.811854"
      ]
     },
     "execution_count": 30,
     "metadata": {},
     "output_type": "execute_result"
    }
   ],
   "source": [
    "gwab_df.head()"
   ]
  },
  {
   "cell_type": "code",
   "execution_count": 27,
   "metadata": {},
   "outputs": [
    {
     "data": {
      "text/html": [
       "<div>\n",
       "<style>\n",
       "    .dataframe thead tr:only-child th {\n",
       "        text-align: right;\n",
       "    }\n",
       "\n",
       "    .dataframe thead th {\n",
       "        text-align: left;\n",
       "    }\n",
       "\n",
       "    .dataframe tbody tr th {\n",
       "        vertical-align: top;\n",
       "    }\n",
       "</style>\n",
       "<table border=\"1\" class=\"dataframe\">\n",
       "  <thead>\n",
       "    <tr style=\"text-align: right;\">\n",
       "      <th></th>\n",
       "      <th>TopSNP</th>\n",
       "      <th>TopSNP-pvalue</th>\n",
       "    </tr>\n",
       "    <tr>\n",
       "      <th>Gene</th>\n",
       "      <th></th>\n",
       "      <th></th>\n",
       "    </tr>\n",
       "  </thead>\n",
       "  <tbody>\n",
       "    <tr>\n",
       "      <th>LRRC4B</th>\n",
       "      <td>rs11881006</td>\n",
       "      <td>0.000003</td>\n",
       "    </tr>\n",
       "    <tr>\n",
       "      <th>ASPDH</th>\n",
       "      <td>rs112574234</td>\n",
       "      <td>0.000004</td>\n",
       "    </tr>\n",
       "    <tr>\n",
       "      <th>AHSG</th>\n",
       "      <td>rs62291986</td>\n",
       "      <td>0.000010</td>\n",
       "    </tr>\n",
       "    <tr>\n",
       "      <th>ABAT</th>\n",
       "      <td>rs3095514</td>\n",
       "      <td>0.000027</td>\n",
       "    </tr>\n",
       "    <tr>\n",
       "      <th>MLF1</th>\n",
       "      <td>rs1656368</td>\n",
       "      <td>0.000042</td>\n",
       "    </tr>\n",
       "  </tbody>\n",
       "</table>\n",
       "</div>"
      ],
      "text/plain": [
       "             TopSNP  TopSNP-pvalue\n",
       "Gene                              \n",
       "LRRC4B   rs11881006       0.000003\n",
       "ASPDH   rs112574234       0.000004\n",
       "AHSG     rs62291986       0.000010\n",
       "ABAT      rs3095514       0.000027\n",
       "MLF1      rs1656368       0.000042"
      ]
     },
     "execution_count": 27,
     "metadata": {},
     "output_type": "execute_result"
    }
   ],
   "source": [
    "vegas_df.loc[gwab_genes][['TopSNP','TopSNP-pvalue']].sort_values('TopSNP-pvalue').head()"
   ]
  },
  {
   "cell_type": "code",
   "execution_count": 34,
   "metadata": {},
   "outputs": [
    {
     "data": {
      "text/html": [
       "<div>\n",
       "<style>\n",
       "    .dataframe thead tr:only-child th {\n",
       "        text-align: right;\n",
       "    }\n",
       "\n",
       "    .dataframe thead th {\n",
       "        text-align: left;\n",
       "    }\n",
       "\n",
       "    .dataframe tbody tr th {\n",
       "        vertical-align: top;\n",
       "    }\n",
       "</style>\n",
       "<table border=\"1\" class=\"dataframe\">\n",
       "  <thead>\n",
       "    <tr style=\"text-align: right;\">\n",
       "      <th></th>\n",
       "      <th>gene</th>\n",
       "      <th>training_set</th>\n",
       "      <th>netwas_score</th>\n",
       "    </tr>\n",
       "  </thead>\n",
       "  <tbody>\n",
       "    <tr>\n",
       "      <th>25</th>\n",
       "      <td>MRPS35</td>\n",
       "      <td>-1.0</td>\n",
       "      <td>0.495508</td>\n",
       "    </tr>\n",
       "    <tr>\n",
       "      <th>26</th>\n",
       "      <td>EIF3E</td>\n",
       "      <td>-1.0</td>\n",
       "      <td>0.480241</td>\n",
       "    </tr>\n",
       "    <tr>\n",
       "      <th>27</th>\n",
       "      <td>NDUFA2</td>\n",
       "      <td>-1.0</td>\n",
       "      <td>0.470991</td>\n",
       "    </tr>\n",
       "    <tr>\n",
       "      <th>28</th>\n",
       "      <td>RPS21</td>\n",
       "      <td>-1.0</td>\n",
       "      <td>0.465470</td>\n",
       "    </tr>\n",
       "    <tr>\n",
       "      <th>29</th>\n",
       "      <td>EIF3D</td>\n",
       "      <td>-1.0</td>\n",
       "      <td>0.414218</td>\n",
       "    </tr>\n",
       "  </tbody>\n",
       "</table>\n",
       "</div>"
      ],
      "text/plain": [
       "      gene  training_set  netwas_score\n",
       "25  MRPS35          -1.0      0.495508\n",
       "26   EIF3E          -1.0      0.480241\n",
       "27  NDUFA2          -1.0      0.470991\n",
       "28   RPS21          -1.0      0.465470\n",
       "29   EIF3D          -1.0      0.414218"
      ]
     },
     "execution_count": 34,
     "metadata": {},
     "output_type": "execute_result"
    }
   ],
   "source": [
    "netwas_df.head()"
   ]
  },
  {
   "cell_type": "code",
   "execution_count": 39,
   "metadata": {},
   "outputs": [],
   "source": [
    "# 7/8/19: save the new results\n",
    "# vegas_df.loc[gwab_genes][['Chr','nSNPs','Pvalue','TopSNP','TopSNP-pvalue']].sort_values('TopSNP-pvalue').join(gwab_df.loc[gwab_genes]['GWAB_Score']).to_csv('gwab_genes_5percent_190708.tsv',sep='\\t')\n",
    "# netwas_df.index=netwas_df['gene']\n",
    "# vegas_df.loc[g_netwas][['Chr','nSNPs','Pvalue','TopSNP','TopSNP-pvalue']].sort_values('TopSNP-pvalue').join(netwas_df.loc[g_netwas]['netwas_score']).to_csv('netwas_genes_5percent_190708.tsv',sep='\\t')\n",
    "# vegas_df.loc[g_vegas][['Chr','nSNPs','Pvalue','TopSNP','TopSNP-pvalue']].sort_values('TopSNP-pvalue').to_csv('vegas_sig_genes_5percent_190708.tsv',sep='\\t')"
   ]
  },
  {
   "cell_type": "markdown",
   "metadata": {
    "collapsed": true
   },
   "source": [
    "# Ideas for visualization:\n",
    "\n",
    "- plot old rank and new rank\n",
    "- GO enrichment\n",
    "\n",
    "- make a subnewtork out of reprioritized (GWAB score > ~7)\n",
    "- recreate network figure from \"GWAB: a web server for the network-based boosting of human genome-wide association data\""
   ]
  },
  {
   "cell_type": "code",
   "execution_count": 166,
   "metadata": {},
   "outputs": [],
   "source": [
    "old_rank = pd.Series(range(len(vegas_df)),index=vegas_df.index.tolist())\n",
    "\n",
    "new_rank = pd.Series(range(len(netwas_df)),index=netwas_df['gene'].tolist())"
   ]
  },
  {
   "cell_type": "code",
   "execution_count": 173,
   "metadata": {},
   "outputs": [
    {
     "data": {
      "text/html": [
       "<div>\n",
       "<style>\n",
       "    .dataframe thead tr:only-child th {\n",
       "        text-align: right;\n",
       "    }\n",
       "\n",
       "    .dataframe thead th {\n",
       "        text-align: left;\n",
       "    }\n",
       "\n",
       "    .dataframe tbody tr th {\n",
       "        vertical-align: top;\n",
       "    }\n",
       "</style>\n",
       "<table border=\"1\" class=\"dataframe\">\n",
       "  <thead>\n",
       "    <tr style=\"text-align: right;\">\n",
       "      <th></th>\n",
       "      <th>TopSNP</th>\n",
       "      <th>TopSNP-pvalue</th>\n",
       "    </tr>\n",
       "    <tr>\n",
       "      <th>Gene</th>\n",
       "      <th></th>\n",
       "      <th></th>\n",
       "    </tr>\n",
       "  </thead>\n",
       "  <tbody>\n",
       "    <tr>\n",
       "      <th>UQCRH</th>\n",
       "      <td>rs11588062</td>\n",
       "      <td>0.000392</td>\n",
       "    </tr>\n",
       "    <tr>\n",
       "      <th>OXA1L</th>\n",
       "      <td>rs67399634</td>\n",
       "      <td>0.000549</td>\n",
       "    </tr>\n",
       "    <tr>\n",
       "      <th>IPO7</th>\n",
       "      <td>rs12362894</td>\n",
       "      <td>0.001400</td>\n",
       "    </tr>\n",
       "    <tr>\n",
       "      <th>TOR1A</th>\n",
       "      <td>rs13297609</td>\n",
       "      <td>0.001752</td>\n",
       "    </tr>\n",
       "    <tr>\n",
       "      <th>EIF3F</th>\n",
       "      <td>rs75667068</td>\n",
       "      <td>0.003515</td>\n",
       "    </tr>\n",
       "    <tr>\n",
       "      <th>GRN</th>\n",
       "      <td>rs78403836</td>\n",
       "      <td>0.004899</td>\n",
       "    </tr>\n",
       "    <tr>\n",
       "      <th>COX6B1</th>\n",
       "      <td>rs117704954</td>\n",
       "      <td>0.005375</td>\n",
       "    </tr>\n",
       "    <tr>\n",
       "      <th>COX7A2L</th>\n",
       "      <td>rs72798537</td>\n",
       "      <td>0.005742</td>\n",
       "    </tr>\n",
       "    <tr>\n",
       "      <th>RPS21</th>\n",
       "      <td>rs6061501</td>\n",
       "      <td>0.008813</td>\n",
       "    </tr>\n",
       "    <tr>\n",
       "      <th>HSPA13</th>\n",
       "      <td>rs9789847</td>\n",
       "      <td>0.014120</td>\n",
       "    </tr>\n",
       "    <tr>\n",
       "      <th>TYK2</th>\n",
       "      <td>rs141453190</td>\n",
       "      <td>0.018800</td>\n",
       "    </tr>\n",
       "    <tr>\n",
       "      <th>IRF3</th>\n",
       "      <td>rs7251</td>\n",
       "      <td>0.020810</td>\n",
       "    </tr>\n",
       "    <tr>\n",
       "      <th>SOCS5</th>\n",
       "      <td>rs41458449</td>\n",
       "      <td>0.023850</td>\n",
       "    </tr>\n",
       "    <tr>\n",
       "      <th>NAP1L1</th>\n",
       "      <td>rs144828205</td>\n",
       "      <td>0.025900</td>\n",
       "    </tr>\n",
       "    <tr>\n",
       "      <th>GRB2</th>\n",
       "      <td>rs144626626</td>\n",
       "      <td>0.028820</td>\n",
       "    </tr>\n",
       "    <tr>\n",
       "      <th>COX6A1</th>\n",
       "      <td>rs140141508</td>\n",
       "      <td>0.030520</td>\n",
       "    </tr>\n",
       "    <tr>\n",
       "      <th>EIF3E</th>\n",
       "      <td>rs381039</td>\n",
       "      <td>0.037090</td>\n",
       "    </tr>\n",
       "    <tr>\n",
       "      <th>IFRD1</th>\n",
       "      <td>rs143941023</td>\n",
       "      <td>0.045680</td>\n",
       "    </tr>\n",
       "    <tr>\n",
       "      <th>EIF3D</th>\n",
       "      <td>rs6519014</td>\n",
       "      <td>0.051060</td>\n",
       "    </tr>\n",
       "    <tr>\n",
       "      <th>COX4I1</th>\n",
       "      <td>rs145233177</td>\n",
       "      <td>0.055270</td>\n",
       "    </tr>\n",
       "    <tr>\n",
       "      <th>NDUFA3</th>\n",
       "      <td>rs35705606</td>\n",
       "      <td>0.060250</td>\n",
       "    </tr>\n",
       "    <tr>\n",
       "      <th>EIF4B</th>\n",
       "      <td>rs3741436</td>\n",
       "      <td>0.068200</td>\n",
       "    </tr>\n",
       "    <tr>\n",
       "      <th>ATF1</th>\n",
       "      <td>rs118083436</td>\n",
       "      <td>0.068820</td>\n",
       "    </tr>\n",
       "    <tr>\n",
       "      <th>G3BP1</th>\n",
       "      <td>rs55948538</td>\n",
       "      <td>0.071120</td>\n",
       "    </tr>\n",
       "    <tr>\n",
       "      <th>NDUFA2</th>\n",
       "      <td>rs113286474</td>\n",
       "      <td>0.073410</td>\n",
       "    </tr>\n",
       "    <tr>\n",
       "      <th>NOL11</th>\n",
       "      <td>rs148278971</td>\n",
       "      <td>0.073940</td>\n",
       "    </tr>\n",
       "    <tr>\n",
       "      <th>UQCRFS1</th>\n",
       "      <td>rs35484580</td>\n",
       "      <td>0.075760</td>\n",
       "    </tr>\n",
       "    <tr>\n",
       "      <th>MRPS35</th>\n",
       "      <td>rs77474622</td>\n",
       "      <td>0.076420</td>\n",
       "    </tr>\n",
       "    <tr>\n",
       "      <th>VDAC2</th>\n",
       "      <td>rs111246080</td>\n",
       "      <td>0.088820</td>\n",
       "    </tr>\n",
       "    <tr>\n",
       "      <th>ENO2</th>\n",
       "      <td>rs182801286</td>\n",
       "      <td>0.121600</td>\n",
       "    </tr>\n",
       "    <tr>\n",
       "      <th>IER3</th>\n",
       "      <td>rs190865297</td>\n",
       "      <td>0.268100</td>\n",
       "    </tr>\n",
       "  </tbody>\n",
       "</table>\n",
       "</div>"
      ],
      "text/plain": [
       "              TopSNP  TopSNP-pvalue\n",
       "Gene                               \n",
       "UQCRH     rs11588062       0.000392\n",
       "OXA1L     rs67399634       0.000549\n",
       "IPO7      rs12362894       0.001400\n",
       "TOR1A     rs13297609       0.001752\n",
       "EIF3F     rs75667068       0.003515\n",
       "GRN       rs78403836       0.004899\n",
       "COX6B1   rs117704954       0.005375\n",
       "COX7A2L   rs72798537       0.005742\n",
       "RPS21      rs6061501       0.008813\n",
       "HSPA13     rs9789847       0.014120\n",
       "TYK2     rs141453190       0.018800\n",
       "IRF3          rs7251       0.020810\n",
       "SOCS5     rs41458449       0.023850\n",
       "NAP1L1   rs144828205       0.025900\n",
       "GRB2     rs144626626       0.028820\n",
       "COX6A1   rs140141508       0.030520\n",
       "EIF3E       rs381039       0.037090\n",
       "IFRD1    rs143941023       0.045680\n",
       "EIF3D      rs6519014       0.051060\n",
       "COX4I1   rs145233177       0.055270\n",
       "NDUFA3    rs35705606       0.060250\n",
       "EIF4B      rs3741436       0.068200\n",
       "ATF1     rs118083436       0.068820\n",
       "G3BP1     rs55948538       0.071120\n",
       "NDUFA2   rs113286474       0.073410\n",
       "NOL11    rs148278971       0.073940\n",
       "UQCRFS1   rs35484580       0.075760\n",
       "MRPS35    rs77474622       0.076420\n",
       "VDAC2    rs111246080       0.088820\n",
       "ENO2     rs182801286       0.121600\n",
       "IER3     rs190865297       0.268100"
      ]
     },
     "execution_count": 173,
     "metadata": {},
     "output_type": "execute_result"
    }
   ],
   "source": [
    "vegas_df.index = vegas_df['Gene']\n",
    "vegas_df.loc[g_netwas][['TopSNP','TopSNP-pvalue']].sort_values('TopSNP-pvalue')"
   ]
  },
  {
   "cell_type": "markdown",
   "metadata": {},
   "source": [
    "## Load STRING"
   ]
  },
  {
   "cell_type": "code",
   "execution_count": 209,
   "metadata": {
    "collapsed": true
   },
   "outputs": [],
   "source": [
    "# load STRING database\n",
    "import sys\n",
    "sys.path.append('/Users/brin/Google_Drive/UCSD/cluster_code/')\n",
    "import load_interactomes\n",
    "import py2cytoscape\n"
   ]
  },
  {
   "cell_type": "code",
   "execution_count": 193,
   "metadata": {},
   "outputs": [
    {
     "name": "stdout",
     "output_type": "stream",
     "text": [
      "querying 1-1000...done.\n",
      "querying 1001-2000...done.\n",
      "querying 2001-3000...done.\n",
      "querying 3001-4000...done.\n",
      "querying 4001-5000...done.\n",
      "querying 5001-6000...done.\n",
      "querying 6001-7000...done.\n",
      "querying 7001-8000...done.\n",
      "querying 8001-9000...done.\n",
      "querying 9001-10000...done.\n",
      "querying 10001-11000...done.\n",
      "querying 11001-12000...done.\n",
      "querying 12001-13000...done.\n",
      "querying 13001-14000...done.\n",
      "querying 14001-15000...done.\n",
      "querying 15001-15478...done.\n",
      "Finished.\n",
      "124 input query terms found dup hits:\n",
      "\t[(u'ENSP00000420405', 2), (u'ENSP00000331172', 2), (u'ENSP00000353820', 3), (u'ENSP00000447879', 2),\n",
      "750 input query terms found no hit:\n",
      "\t[u'ENSP00000265335', u'ENSP00000393912', u'ENSP00000361280', u'ENSP00000362398', u'ENSP00000338190',\n",
      "Pass \"returnall=True\" to return complete lists of duplicate or missing query terms.\n",
      "ENSP00000000233       ARF5\n",
      "ENSP00000000412       M6PR\n",
      "ENSP00000000442      ESRRA\n",
      "ENSP00000001008      FKBP4\n",
      "ENSP00000001146    CYP26B1\n",
      "ENSP00000002125    NDUFAF7\n",
      "ENSP00000002165      FUCA2\n",
      "ENSP00000002596     HS3ST1\n",
      "ENSP00000002829     SEMA3F\n",
      "ENSP00000003084       CFTR\n",
      "dtype: object\n"
     ]
    }
   ],
   "source": [
    "G_str = load_interactomes.load_STRING('/Users/brin/Google_Drive/UCSD/CCBB_tickets/CTRI/Rissman/interactomes/string_human/9606.protein.links.v10.txt',\n",
    "                                     conf_thresh=700,species='human')"
   ]
  },
  {
   "cell_type": "markdown",
   "metadata": {},
   "source": [
    "# Draw the network"
   ]
  },
  {
   "cell_type": "code",
   "execution_count": 206,
   "metadata": {},
   "outputs": [
    {
     "data": {
      "text/html": [
       "<div>\n",
       "<style>\n",
       "    .dataframe thead tr:only-child th {\n",
       "        text-align: right;\n",
       "    }\n",
       "\n",
       "    .dataframe thead th {\n",
       "        text-align: left;\n",
       "    }\n",
       "\n",
       "    .dataframe tbody tr th {\n",
       "        vertical-align: top;\n",
       "    }\n",
       "</style>\n",
       "<table border=\"1\" class=\"dataframe\">\n",
       "  <thead>\n",
       "    <tr style=\"text-align: right;\">\n",
       "      <th></th>\n",
       "      <th># Entrez_Gene_ID</th>\n",
       "      <th>Gene_Symbol</th>\n",
       "      <th>GWAB_Score</th>\n",
       "      <th>rank</th>\n",
       "    </tr>\n",
       "    <tr>\n",
       "      <th>Gene_Symbol</th>\n",
       "      <th></th>\n",
       "      <th></th>\n",
       "      <th></th>\n",
       "      <th></th>\n",
       "    </tr>\n",
       "  </thead>\n",
       "  <tbody>\n",
       "    <tr>\n",
       "      <th>UBC</th>\n",
       "      <td>7316</td>\n",
       "      <td>UBC</td>\n",
       "      <td>26.441133</td>\n",
       "      <td>0</td>\n",
       "    </tr>\n",
       "    <tr>\n",
       "      <th>APP</th>\n",
       "      <td>351</td>\n",
       "      <td>APP</td>\n",
       "      <td>18.161573</td>\n",
       "      <td>1</td>\n",
       "    </tr>\n",
       "    <tr>\n",
       "      <th>SUMO1</th>\n",
       "      <td>7341</td>\n",
       "      <td>SUMO1</td>\n",
       "      <td>15.222024</td>\n",
       "      <td>2</td>\n",
       "    </tr>\n",
       "    <tr>\n",
       "      <th>HSP90AA1</th>\n",
       "      <td>3320</td>\n",
       "      <td>HSP90AA1</td>\n",
       "      <td>15.164895</td>\n",
       "      <td>3</td>\n",
       "    </tr>\n",
       "    <tr>\n",
       "      <th>GRB2</th>\n",
       "      <td>2885</td>\n",
       "      <td>GRB2</td>\n",
       "      <td>14.811854</td>\n",
       "      <td>4</td>\n",
       "    </tr>\n",
       "  </tbody>\n",
       "</table>\n",
       "</div>"
      ],
      "text/plain": [
       "             # Entrez_Gene_ID Gene_Symbol  GWAB_Score  rank\n",
       "Gene_Symbol                                                \n",
       "UBC                      7316         UBC   26.441133     0\n",
       "APP                       351         APP   18.161573     1\n",
       "SUMO1                    7341       SUMO1   15.222024     2\n",
       "HSP90AA1                 3320    HSP90AA1   15.164895     3\n",
       "GRB2                     2885        GRB2   14.811854     4"
      ]
     },
     "execution_count": 206,
     "metadata": {},
     "output_type": "execute_result"
    }
   ],
   "source": [
    "# find the change in rank\n",
    "vegas_df = vegas_df.sort_values('Pvalue',ascending=True)\n",
    "vegas_df['rank']=range(len(vegas_df))\n",
    "vegas_df.head()\n",
    "\n",
    "gwab_df = gwab_df.sort_values('GWAB_Score',ascending=False)\n",
    "gwab_df['rank']=range(len(gwab_df))\n",
    "gwab_df.head()"
   ]
  },
  {
   "cell_type": "code",
   "execution_count": 349,
   "metadata": {},
   "outputs": [
    {
     "data": {
      "text/html": [
       "<div>\n",
       "<style>\n",
       "    .dataframe thead tr:only-child th {\n",
       "        text-align: right;\n",
       "    }\n",
       "\n",
       "    .dataframe thead th {\n",
       "        text-align: left;\n",
       "    }\n",
       "\n",
       "    .dataframe tbody tr th {\n",
       "        vertical-align: top;\n",
       "    }\n",
       "</style>\n",
       "<table border=\"1\" class=\"dataframe\">\n",
       "  <thead>\n",
       "    <tr style=\"text-align: right;\">\n",
       "      <th></th>\n",
       "      <th>gene</th>\n",
       "      <th>training_set</th>\n",
       "      <th>netwas_score</th>\n",
       "    </tr>\n",
       "  </thead>\n",
       "  <tbody>\n",
       "    <tr>\n",
       "      <th>25</th>\n",
       "      <td>MRPS35</td>\n",
       "      <td>-1.0</td>\n",
       "      <td>0.495508</td>\n",
       "    </tr>\n",
       "    <tr>\n",
       "      <th>26</th>\n",
       "      <td>EIF3E</td>\n",
       "      <td>-1.0</td>\n",
       "      <td>0.480241</td>\n",
       "    </tr>\n",
       "    <tr>\n",
       "      <th>27</th>\n",
       "      <td>NDUFA2</td>\n",
       "      <td>-1.0</td>\n",
       "      <td>0.470991</td>\n",
       "    </tr>\n",
       "    <tr>\n",
       "      <th>28</th>\n",
       "      <td>RPS21</td>\n",
       "      <td>-1.0</td>\n",
       "      <td>0.465470</td>\n",
       "    </tr>\n",
       "    <tr>\n",
       "      <th>29</th>\n",
       "      <td>EIF3D</td>\n",
       "      <td>-1.0</td>\n",
       "      <td>0.414218</td>\n",
       "    </tr>\n",
       "  </tbody>\n",
       "</table>\n",
       "</div>"
      ],
      "text/plain": [
       "      gene  training_set  netwas_score\n",
       "25  MRPS35          -1.0      0.495508\n",
       "26   EIF3E          -1.0      0.480241\n",
       "27  NDUFA2          -1.0      0.470991\n",
       "28   RPS21          -1.0      0.465470\n",
       "29   EIF3D          -1.0      0.414218"
      ]
     },
     "execution_count": 349,
     "metadata": {},
     "output_type": "execute_result"
    }
   ],
   "source": []
  },
  {
   "cell_type": "code",
   "execution_count": 356,
   "metadata": {},
   "outputs": [
    {
     "data": {
      "text/plain": [
       "gene               UQCRH\n",
       "training_set          -1\n",
       "netwas_score    0.208221\n",
       "Name: UQCRH, dtype: object"
      ]
     },
     "execution_count": 356,
     "metadata": {},
     "output_type": "execute_result"
    }
   ],
   "source": []
  },
  {
   "cell_type": "code",
   "execution_count": 357,
   "metadata": {},
   "outputs": [],
   "source": []
  },
  {
   "cell_type": "code",
   "execution_count": 344,
   "metadata": {},
   "outputs": [
    {
     "data": {
      "text/html": [
       "<div>\n",
       "<style>\n",
       "    .dataframe thead tr:only-child th {\n",
       "        text-align: right;\n",
       "    }\n",
       "\n",
       "    .dataframe thead th {\n",
       "        text-align: left;\n",
       "    }\n",
       "\n",
       "    .dataframe tbody tr th {\n",
       "        vertical-align: top;\n",
       "    }\n",
       "</style>\n",
       "<table border=\"1\" class=\"dataframe\">\n",
       "  <thead>\n",
       "    <tr style=\"text-align: right;\">\n",
       "      <th></th>\n",
       "      <th>gene</th>\n",
       "      <th>training_set</th>\n",
       "      <th>netwas_score</th>\n",
       "    </tr>\n",
       "  </thead>\n",
       "  <tbody>\n",
       "    <tr>\n",
       "      <th>25</th>\n",
       "      <td>MRPS35</td>\n",
       "      <td>-1.0</td>\n",
       "      <td>0.495508</td>\n",
       "    </tr>\n",
       "    <tr>\n",
       "      <th>26</th>\n",
       "      <td>EIF3E</td>\n",
       "      <td>-1.0</td>\n",
       "      <td>0.480241</td>\n",
       "    </tr>\n",
       "    <tr>\n",
       "      <th>27</th>\n",
       "      <td>NDUFA2</td>\n",
       "      <td>-1.0</td>\n",
       "      <td>0.470991</td>\n",
       "    </tr>\n",
       "    <tr>\n",
       "      <th>28</th>\n",
       "      <td>RPS21</td>\n",
       "      <td>-1.0</td>\n",
       "      <td>0.465470</td>\n",
       "    </tr>\n",
       "    <tr>\n",
       "      <th>29</th>\n",
       "      <td>EIF3D</td>\n",
       "      <td>-1.0</td>\n",
       "      <td>0.414218</td>\n",
       "    </tr>\n",
       "  </tbody>\n",
       "</table>\n",
       "</div>"
      ],
      "text/plain": [
       "      gene  training_set  netwas_score\n",
       "25  MRPS35          -1.0      0.495508\n",
       "26   EIF3E          -1.0      0.480241\n",
       "27  NDUFA2          -1.0      0.470991\n",
       "28   RPS21          -1.0      0.465470\n",
       "29   EIF3D          -1.0      0.414218"
      ]
     },
     "execution_count": 344,
     "metadata": {},
     "output_type": "execute_result"
    }
   ],
   "source": [
    "netwas_df.head()"
   ]
  },
  {
   "cell_type": "code",
   "execution_count": 227,
   "metadata": {},
   "outputs": [
    {
     "name": "stdout",
     "output_type": "stream",
     "text": [
      "87\n",
      "513\n"
     ]
    },
    {
     "data": {
      "text/plain": [
       "[('TMOD1',\n",
       "  {'-logTopSnpPval': 6.2251636123617082,\n",
       "   'TopSNP': 'rs7863943',\n",
       "   'delta_rank': 17611.0,\n",
       "   'gwab_score': 9.0968124299999999}),\n",
       " ('HSPA4',\n",
       "  {'-logTopSnpPval': 3.6351491316929683,\n",
       "   'TopSNP': 'rs77319646',\n",
       "   'delta_rank': 1501.0,\n",
       "   'gwab_score': 8.0568199800000002}),\n",
       " ('SUMO1',\n",
       "  {'-logTopSnpPval': 3.9643694858003551,\n",
       "   'TopSNP': 'rs72923074',\n",
       "   'delta_rank': 11527.0,\n",
       "   'gwab_score': 15.222024340000001}),\n",
       " ('SUMO3',\n",
       "  {'-logTopSnpPval': 5.3269226235583691,\n",
       "   'TopSNP': 'rs79119995',\n",
       "   'delta_rank': 8229.0,\n",
       "   'gwab_score': 10.076832749999999}),\n",
       " ('SUMO2',\n",
       "  {'-logTopSnpPval': 3.6896797742847016,\n",
       "   'TopSNP': 'rs138046159',\n",
       "   'delta_rank': 16515.0,\n",
       "   'gwab_score': 10.81670306})]"
      ]
     },
     "execution_count": 227,
     "metadata": {},
     "output_type": "execute_result"
    }
   ],
   "source": [
    "G_boost = nx.subgraph(G_str,gwab_genes)\n",
    "gwab_no_nans = [gwab_df.loc[n]['GWAB_Score'] if not np.isnan(gwab_df.loc[n]['GWAB_Score']) else -1 for n in G_boost.nodes()]\n",
    "nx.set_node_attributes(G_boost,'gwab_score',\n",
    "                       dict(zip(G_boost.nodes(),gwab_no_nans)))\n",
    "topSNP_no_nans = [str(vegas_df.loc[n]['TopSNP']) if n in vegas_df.index else 'None' for n in G_boost.nodes()]\n",
    "nx.set_node_attributes(G_boost,'TopSNP',\n",
    "                       dict(zip(G_boost.nodes(),topSNP_no_nans)))\n",
    "topP_no_nans = [-np.log(vegas_df.loc[n]['TopSNP-pvalue']) if n in vegas_df.index else -1 for n in G_boost.nodes()]\n",
    "nx.set_node_attributes(G_boost,'-logTopSnpPval',\n",
    "                       dict(zip(G_boost.nodes(),topP_no_nans)))\n",
    "\n",
    "delta_rank = vegas_df.loc[G_boost.nodes()]['rank']-gwab_df.loc[G_boost.nodes()]['rank']\n",
    "delta_rank_no_nans = [d if not np.isnan(d) else 0.0 for d in delta_rank]\n",
    "nx.set_node_attributes(G_boost,'delta_rank',dict(zip(G_boost.nodes(),delta_rank_no_nans)))\n",
    "\n",
    "print(len(G_boost.nodes()))\n",
    "print(len(G_boost.edges()))\n",
    "G_boost.nodes(data=True)[0:5]"
   ]
  },
  {
   "cell_type": "code",
   "execution_count": 228,
   "metadata": {},
   "outputs": [],
   "source": [
    "# export the network to cytoscape format\n",
    "from py2cytoscape import util\n",
    "import json\n",
    "\n",
    "G_json = util.from_networkx(G_boost)\n",
    "\n",
    "with open('G_boost_gwab.json','w') as outfile:\n",
    "    json.dump(G_json,outfile)\n"
   ]
  },
  {
   "cell_type": "code",
   "execution_count": 235,
   "metadata": {},
   "outputs": [
    {
     "data": {
      "text/plain": [
       "Gene\n",
       "UBC         rs142622917\n",
       "APP            rs363999\n",
       "SUMO1        rs72923074\n",
       "HSP90AA1    rs145643636\n",
       "GRB2        rs144626626\n",
       "Name: TopSNP, dtype: object"
      ]
     },
     "execution_count": 235,
     "metadata": {},
     "output_type": "execute_result"
    }
   ],
   "source": []
  },
  {
   "cell_type": "code",
   "execution_count": 251,
   "metadata": {},
   "outputs": [
    {
     "data": {
      "text/html": [
       "<div>\n",
       "<style>\n",
       "    .dataframe thead tr:only-child th {\n",
       "        text-align: right;\n",
       "    }\n",
       "\n",
       "    .dataframe thead th {\n",
       "        text-align: left;\n",
       "    }\n",
       "\n",
       "    .dataframe tbody tr th {\n",
       "        vertical-align: top;\n",
       "    }\n",
       "</style>\n",
       "<table border=\"1\" class=\"dataframe\">\n",
       "  <thead>\n",
       "    <tr style=\"text-align: right;\">\n",
       "      <th></th>\n",
       "      <th>CHR</th>\n",
       "      <th>SNP</th>\n",
       "      <th>BP</th>\n",
       "      <th>A1</th>\n",
       "      <th>A2</th>\n",
       "      <th>FRQ_A_125</th>\n",
       "      <th>FRQ_U_195</th>\n",
       "      <th>INFO</th>\n",
       "      <th>OR</th>\n",
       "      <th>SE</th>\n",
       "      <th>P</th>\n",
       "      <th>ngt</th>\n",
       "      <th>-log10pval</th>\n",
       "    </tr>\n",
       "    <tr>\n",
       "      <th>SNP</th>\n",
       "      <th></th>\n",
       "      <th></th>\n",
       "      <th></th>\n",
       "      <th></th>\n",
       "      <th></th>\n",
       "      <th></th>\n",
       "      <th></th>\n",
       "      <th></th>\n",
       "      <th></th>\n",
       "      <th></th>\n",
       "      <th></th>\n",
       "      <th></th>\n",
       "      <th></th>\n",
       "    </tr>\n",
       "  </thead>\n",
       "  <tbody>\n",
       "    <tr>\n",
       "      <th>rs142622917</th>\n",
       "      <td>12</td>\n",
       "      <td>rs142622917</td>\n",
       "      <td>125387895</td>\n",
       "      <td>A</td>\n",
       "      <td>G</td>\n",
       "      <td>0.0439</td>\n",
       "      <td>0.0122</td>\n",
       "      <td>0.8408</td>\n",
       "      <td>4.8378</td>\n",
       "      <td>0.6278</td>\n",
       "      <td>0.012040</td>\n",
       "      <td>0</td>\n",
       "      <td>1.919374</td>\n",
       "    </tr>\n",
       "    <tr>\n",
       "      <th>rs363999</th>\n",
       "      <td>21</td>\n",
       "      <td>rs363999</td>\n",
       "      <td>27548505</td>\n",
       "      <td>C</td>\n",
       "      <td>G</td>\n",
       "      <td>0.0482</td>\n",
       "      <td>0.0103</td>\n",
       "      <td>1.0984</td>\n",
       "      <td>4.9486</td>\n",
       "      <td>0.5975</td>\n",
       "      <td>0.007441</td>\n",
       "      <td>0</td>\n",
       "      <td>2.128369</td>\n",
       "    </tr>\n",
       "    <tr>\n",
       "      <th>rs72923074</th>\n",
       "      <td>2</td>\n",
       "      <td>rs72923074</td>\n",
       "      <td>203112661</td>\n",
       "      <td>A</td>\n",
       "      <td>T</td>\n",
       "      <td>0.6882</td>\n",
       "      <td>0.7702</td>\n",
       "      <td>1.0002</td>\n",
       "      <td>0.6462</td>\n",
       "      <td>0.1862</td>\n",
       "      <td>0.018980</td>\n",
       "      <td>0</td>\n",
       "      <td>1.721704</td>\n",
       "    </tr>\n",
       "    <tr>\n",
       "      <th>rs145643636</th>\n",
       "      <td>14</td>\n",
       "      <td>rs145643636</td>\n",
       "      <td>102589154</td>\n",
       "      <td>A</td>\n",
       "      <td>G</td>\n",
       "      <td>0.1526</td>\n",
       "      <td>0.0744</td>\n",
       "      <td>0.8914</td>\n",
       "      <td>2.5500</td>\n",
       "      <td>0.2909</td>\n",
       "      <td>0.001290</td>\n",
       "      <td>0</td>\n",
       "      <td>2.889410</td>\n",
       "    </tr>\n",
       "    <tr>\n",
       "      <th>rs144626626</th>\n",
       "      <td>17</td>\n",
       "      <td>rs144626626</td>\n",
       "      <td>73411628</td>\n",
       "      <td>T</td>\n",
       "      <td>C</td>\n",
       "      <td>0.0468</td>\n",
       "      <td>0.0179</td>\n",
       "      <td>0.8927</td>\n",
       "      <td>3.1379</td>\n",
       "      <td>0.5231</td>\n",
       "      <td>0.028820</td>\n",
       "      <td>0</td>\n",
       "      <td>1.540306</td>\n",
       "    </tr>\n",
       "  </tbody>\n",
       "</table>\n",
       "</div>"
      ],
      "text/plain": [
       "             CHR          SNP         BP A1 A2  FRQ_A_125  FRQ_U_195    INFO  \\\n",
       "SNP                                                                            \n",
       "rs142622917   12  rs142622917  125387895  A  G     0.0439     0.0122  0.8408   \n",
       "rs363999      21     rs363999   27548505  C  G     0.0482     0.0103  1.0984   \n",
       "rs72923074     2   rs72923074  203112661  A  T     0.6882     0.7702  1.0002   \n",
       "rs145643636   14  rs145643636  102589154  A  G     0.1526     0.0744  0.8914   \n",
       "rs144626626   17  rs144626626   73411628  T  C     0.0468     0.0179  0.8927   \n",
       "\n",
       "                 OR      SE         P  ngt  -log10pval  \n",
       "SNP                                                     \n",
       "rs142622917  4.8378  0.6278  0.012040    0    1.919374  \n",
       "rs363999     4.9486  0.5975  0.007441    0    2.128369  \n",
       "rs72923074   0.6462  0.1862  0.018980    0    1.721704  \n",
       "rs145643636  2.5500  0.2909  0.001290    0    2.889410  \n",
       "rs144626626  3.1379  0.5231  0.028820    0    1.540306  "
      ]
     },
     "execution_count": 251,
     "metadata": {},
     "output_type": "execute_result"
    }
   ],
   "source": [
    "gwab_snps = vegas_df.loc[gwab_genes].dropna()['TopSNP']\n",
    "gwas_df.index=gwas_df['SNP']\n",
    "gwas_df.loc[gwab_snps.tolist()].head()"
   ]
  },
  {
   "cell_type": "code",
   "execution_count": 338,
   "metadata": {},
   "outputs": [
    {
     "data": {
      "text/html": [
       "<div>\n",
       "<style>\n",
       "    .dataframe thead tr:only-child th {\n",
       "        text-align: right;\n",
       "    }\n",
       "\n",
       "    .dataframe thead th {\n",
       "        text-align: left;\n",
       "    }\n",
       "\n",
       "    .dataframe tbody tr th {\n",
       "        vertical-align: top;\n",
       "    }\n",
       "</style>\n",
       "<table border=\"1\" class=\"dataframe\">\n",
       "  <thead>\n",
       "    <tr style=\"text-align: right;\">\n",
       "      <th></th>\n",
       "      <th>CHR</th>\n",
       "      <th>SNP</th>\n",
       "      <th>BP</th>\n",
       "      <th>A1</th>\n",
       "      <th>A2</th>\n",
       "      <th>FRQ_A_125</th>\n",
       "      <th>FRQ_U_195</th>\n",
       "      <th>INFO</th>\n",
       "      <th>OR</th>\n",
       "      <th>SE</th>\n",
       "      <th>P</th>\n",
       "      <th>ngt</th>\n",
       "      <th>-log10pval</th>\n",
       "    </tr>\n",
       "    <tr>\n",
       "      <th>SNP</th>\n",
       "      <th></th>\n",
       "      <th></th>\n",
       "      <th></th>\n",
       "      <th></th>\n",
       "      <th></th>\n",
       "      <th></th>\n",
       "      <th></th>\n",
       "      <th></th>\n",
       "      <th></th>\n",
       "      <th></th>\n",
       "      <th></th>\n",
       "      <th></th>\n",
       "      <th></th>\n",
       "    </tr>\n",
       "  </thead>\n",
       "  <tbody>\n",
       "    <tr>\n",
       "      <th>rs77474622</th>\n",
       "      <td>12</td>\n",
       "      <td>rs77474622</td>\n",
       "      <td>27882080</td>\n",
       "      <td>T</td>\n",
       "      <td>C</td>\n",
       "      <td>0.9310</td>\n",
       "      <td>0.8919</td>\n",
       "      <td>0.7961</td>\n",
       "      <td>1.8275</td>\n",
       "      <td>0.3403</td>\n",
       "      <td>0.076420</td>\n",
       "      <td>0</td>\n",
       "      <td>1.116793</td>\n",
       "    </tr>\n",
       "    <tr>\n",
       "      <th>rs381039</th>\n",
       "      <td>8</td>\n",
       "      <td>rs381039</td>\n",
       "      <td>109204502</td>\n",
       "      <td>A</td>\n",
       "      <td>C</td>\n",
       "      <td>0.1960</td>\n",
       "      <td>0.1379</td>\n",
       "      <td>0.8976</td>\n",
       "      <td>1.6268</td>\n",
       "      <td>0.2334</td>\n",
       "      <td>0.037090</td>\n",
       "      <td>0</td>\n",
       "      <td>1.430743</td>\n",
       "    </tr>\n",
       "    <tr>\n",
       "      <th>rs113286474</th>\n",
       "      <td>5</td>\n",
       "      <td>rs113286474</td>\n",
       "      <td>140036243</td>\n",
       "      <td>A</td>\n",
       "      <td>G</td>\n",
       "      <td>0.9531</td>\n",
       "      <td>0.9789</td>\n",
       "      <td>0.9065</td>\n",
       "      <td>0.4146</td>\n",
       "      <td>0.4918</td>\n",
       "      <td>0.073410</td>\n",
       "      <td>0</td>\n",
       "      <td>1.134245</td>\n",
       "    </tr>\n",
       "    <tr>\n",
       "      <th>rs6061501</th>\n",
       "      <td>20</td>\n",
       "      <td>rs6061501</td>\n",
       "      <td>60953396</td>\n",
       "      <td>T</td>\n",
       "      <td>C</td>\n",
       "      <td>0.9755</td>\n",
       "      <td>0.9270</td>\n",
       "      <td>0.9216</td>\n",
       "      <td>3.4516</td>\n",
       "      <td>0.4730</td>\n",
       "      <td>0.008813</td>\n",
       "      <td>0</td>\n",
       "      <td>2.054876</td>\n",
       "    </tr>\n",
       "    <tr>\n",
       "      <th>rs6519014</th>\n",
       "      <td>22</td>\n",
       "      <td>rs6519014</td>\n",
       "      <td>36922743</td>\n",
       "      <td>A</td>\n",
       "      <td>C</td>\n",
       "      <td>0.1069</td>\n",
       "      <td>0.1605</td>\n",
       "      <td>0.7746</td>\n",
       "      <td>0.5651</td>\n",
       "      <td>0.2926</td>\n",
       "      <td>0.051060</td>\n",
       "      <td>0</td>\n",
       "      <td>1.291919</td>\n",
       "    </tr>\n",
       "  </tbody>\n",
       "</table>\n",
       "</div>"
      ],
      "text/plain": [
       "             CHR          SNP         BP A1 A2  FRQ_A_125  FRQ_U_195    INFO  \\\n",
       "SNP                                                                            \n",
       "rs77474622    12   rs77474622   27882080  T  C     0.9310     0.8919  0.7961   \n",
       "rs381039       8     rs381039  109204502  A  C     0.1960     0.1379  0.8976   \n",
       "rs113286474    5  rs113286474  140036243  A  G     0.9531     0.9789  0.9065   \n",
       "rs6061501     20    rs6061501   60953396  T  C     0.9755     0.9270  0.9216   \n",
       "rs6519014     22    rs6519014   36922743  A  C     0.1069     0.1605  0.7746   \n",
       "\n",
       "                 OR      SE         P  ngt  -log10pval  \n",
       "SNP                                                     \n",
       "rs77474622   1.8275  0.3403  0.076420    0    1.116793  \n",
       "rs381039     1.6268  0.2334  0.037090    0    1.430743  \n",
       "rs113286474  0.4146  0.4918  0.073410    0    1.134245  \n",
       "rs6061501    3.4516  0.4730  0.008813    0    2.054876  \n",
       "rs6519014    0.5651  0.2926  0.051060    0    1.291919  "
      ]
     },
     "execution_count": 338,
     "metadata": {},
     "output_type": "execute_result"
    }
   ],
   "source": [
    "netwas_snps = vegas_df.loc[g_netwas].dropna()['TopSNP']\n",
    "gwas_df.index=gwas_df['SNP']\n",
    "gwas_df.loc[netwas_snps.tolist()].head()"
   ]
  },
  {
   "cell_type": "code",
   "execution_count": 339,
   "metadata": {},
   "outputs": [
    {
     "data": {
      "text/plain": [
       "126"
      ]
     },
     "execution_count": 339,
     "metadata": {},
     "output_type": "execute_result"
    }
   ],
   "source": [
    "len(netwas_snps)"
   ]
  },
  {
   "cell_type": "code",
   "execution_count": 341,
   "metadata": {},
   "outputs": [
    {
     "data": {
      "image/png": "[encoded data removed]",
      "text/plain": [
       "<matplotlib.figure.Figure at 0x1541ad8d0>"
      ]
     },
     "metadata": {},
     "output_type": "display_data"
    }
   ],
   "source": [
    "manhattan_plot(gwas_df,snps_to_highlight = [gwab_snps.tolist(),netwas_snps.tolist()],\n",
    "               highlight_label=['GWAB SNPs','Netwas SNPs'])\n",
    "plt.savefig('../figures/manhattan_plot_GWAB_NETWAS.pdf')\n",
    "plt.savefig('../figures/manhattan_plot_GWAB_NETWAS.png',dpi=300,bbox_inches='tight')"
   ]
  },
  {
   "cell_type": "code",
   "execution_count": 288,
   "metadata": {},
   "outputs": [
    {
     "data": {
      "text/plain": [
       "(2, 83)"
      ]
     },
     "execution_count": 288,
     "metadata": {},
     "output_type": "execute_result"
    }
   ],
   "source": [
    "np.shape([gwab_snps.tolist(),gwab_snps.tolist()])"
   ]
  },
  {
   "cell_type": "markdown",
   "metadata": {},
   "source": [
    "# Write out a table for input to KEGG visualization"
   ]
  },
  {
   "cell_type": "code",
   "execution_count": 314,
   "metadata": {},
   "outputs": [
    {
     "data": {
      "text/html": [
       "<div>\n",
       "<style>\n",
       "    .dataframe thead tr:only-child th {\n",
       "        text-align: right;\n",
       "    }\n",
       "\n",
       "    .dataframe thead th {\n",
       "        text-align: left;\n",
       "    }\n",
       "\n",
       "    .dataframe tbody tr th {\n",
       "        vertical-align: top;\n",
       "    }\n",
       "</style>\n",
       "<table border=\"1\" class=\"dataframe\">\n",
       "  <thead>\n",
       "    <tr style=\"text-align: right;\">\n",
       "      <th></th>\n",
       "      <th>vegas</th>\n",
       "      <th>gwab</th>\n",
       "      <th>netwas</th>\n",
       "    </tr>\n",
       "  </thead>\n",
       "  <tbody>\n",
       "    <tr>\n",
       "      <th>TRAPPC2L</th>\n",
       "      <td>0.0</td>\n",
       "      <td>0.0</td>\n",
       "      <td>1.0</td>\n",
       "    </tr>\n",
       "    <tr>\n",
       "      <th>LOC100996447</th>\n",
       "      <td>1.0</td>\n",
       "      <td>0.0</td>\n",
       "      <td>0.0</td>\n",
       "    </tr>\n",
       "    <tr>\n",
       "      <th>UBL3</th>\n",
       "      <td>1.0</td>\n",
       "      <td>0.0</td>\n",
       "      <td>0.0</td>\n",
       "    </tr>\n",
       "    <tr>\n",
       "      <th>HSPA4</th>\n",
       "      <td>0.0</td>\n",
       "      <td>1.0</td>\n",
       "      <td>0.0</td>\n",
       "    </tr>\n",
       "    <tr>\n",
       "      <th>SUMO1</th>\n",
       "      <td>0.0</td>\n",
       "      <td>1.0</td>\n",
       "      <td>0.0</td>\n",
       "    </tr>\n",
       "  </tbody>\n",
       "</table>\n",
       "</div>"
      ],
      "text/plain": [
       "              vegas  gwab  netwas\n",
       "TRAPPC2L        0.0   0.0     1.0\n",
       "LOC100996447    1.0   0.0     0.0\n",
       "UBL3            1.0   0.0     0.0\n",
       "HSPA4           0.0   1.0     0.0\n",
       "SUMO1           0.0   1.0     0.0"
      ]
     },
     "execution_count": 314,
     "metadata": {},
     "output_type": "execute_result"
    }
   ],
   "source": [
    "vegas_sig_genes = vegas_df[vegas_df['Pvalue']<0.01].index.tolist()\n",
    "genes_union = list(set.union(set(gwab_genes),set(g_netwas),set(vegas_sig_genes)))\n",
    "boosting_df = pd.DataFrame(np.zeros((len(genes_union),3)),index=genes_union,columns=['vegas','gwab','netwas'])\n",
    "boosting_df['vegas'].loc[vegas_sig_genes]=1\n",
    "boosting_df['gwab'].loc[gwab_genes]=1\n",
    "boosting_df['netwas'].loc[g_netwas]=1\n",
    "\n",
    "boosting_df.to_csv('boosting_df.csv',sep='\\t')\n",
    "\n",
    "boosting_df.head()"
   ]
  },
  {
   "cell_type": "code",
   "execution_count": 315,
   "metadata": {},
   "outputs": [
    {
     "data": {
      "image/png": "[encoded data removed]",
      "text/plain": [
       "<matplotlib.figure.Figure at 0x1526db210>"
      ]
     },
     "metadata": {},
     "output_type": "display_data"
    }
   ],
   "source": [
    "import matplotlib_venn\n",
    "matplotlib_venn.venn3([set(vegas_sig_genes),set(gwab_genes),set(g_netwas)],set_labels=['vegas','gwab','netwas'])\n",
    "plt.savefig('../figures/overlap_gwab_netwas_vegas.pdf',bbox_inches='tight',dpi=300)"
   ]
  },
  {
   "cell_type": "markdown",
   "metadata": {},
   "source": [
    "# Load the RNAseq results\n"
   ]
  },
  {
   "cell_type": "code",
   "execution_count": 319,
   "metadata": {},
   "outputs": [
    {
     "data": {
      "text/html": [
       "<div>\n",
       "<style>\n",
       "    .dataframe thead tr:only-child th {\n",
       "        text-align: right;\n",
       "    }\n",
       "\n",
       "    .dataframe thead th {\n",
       "        text-align: left;\n",
       "    }\n",
       "\n",
       "    .dataframe tbody tr th {\n",
       "        vertical-align: top;\n",
       "    }\n",
       "</style>\n",
       "<table border=\"1\" class=\"dataframe\">\n",
       "  <thead>\n",
       "    <tr style=\"text-align: right;\">\n",
       "      <th></th>\n",
       "      <th>#</th>\n",
       "      <th>ENSEMBL</th>\n",
       "      <th>ENTREZID</th>\n",
       "      <th>logFC</th>\n",
       "      <th>AveExpr</th>\n",
       "      <th>t</th>\n",
       "      <th>P.Value</th>\n",
       "      <th>adj.P.Val</th>\n",
       "      <th>B</th>\n",
       "      <th>Unnamed: 10</th>\n",
       "      <th>sig in</th>\n",
       "    </tr>\n",
       "    <tr>\n",
       "      <th>SYMBOL</th>\n",
       "      <th></th>\n",
       "      <th></th>\n",
       "      <th></th>\n",
       "      <th></th>\n",
       "      <th></th>\n",
       "      <th></th>\n",
       "      <th></th>\n",
       "      <th></th>\n",
       "      <th></th>\n",
       "      <th></th>\n",
       "      <th></th>\n",
       "    </tr>\n",
       "  </thead>\n",
       "  <tbody>\n",
       "    <tr>\n",
       "      <th>ADAMTS14</th>\n",
       "      <td>33.0</td>\n",
       "      <td>ENSG00000138316</td>\n",
       "      <td>140766.0</td>\n",
       "      <td>-3.220477</td>\n",
       "      <td>0.387776</td>\n",
       "      <td>-3.765437</td>\n",
       "      <td>0.000471</td>\n",
       "      <td>0.180478</td>\n",
       "      <td>-0.476563</td>\n",
       "      <td>CTRL.LRvsNR</td>\n",
       "      <td>CTRL.LRvsNR</td>\n",
       "    </tr>\n",
       "    <tr>\n",
       "      <th>ADAMTS14</th>\n",
       "      <td>NaN</td>\n",
       "      <td>ENSG00000138316</td>\n",
       "      <td>140766.0</td>\n",
       "      <td>-3.055752</td>\n",
       "      <td>0.387776</td>\n",
       "      <td>-3.408920</td>\n",
       "      <td>0.001367</td>\n",
       "      <td>0.267570</td>\n",
       "      <td>-1.335573</td>\n",
       "      <td>Li.LRvsNR</td>\n",
       "      <td>NaN</td>\n",
       "    </tr>\n",
       "    <tr>\n",
       "      <th>ADAMTS4</th>\n",
       "      <td>17.0</td>\n",
       "      <td>ENSG00000158859</td>\n",
       "      <td>9507.0</td>\n",
       "      <td>-1.425119</td>\n",
       "      <td>2.764865</td>\n",
       "      <td>-4.120282</td>\n",
       "      <td>0.000156</td>\n",
       "      <td>0.118895</td>\n",
       "      <td>0.789911</td>\n",
       "      <td>CTRL.LRvsNR</td>\n",
       "      <td>CTRL.LRvsNR</td>\n",
       "    </tr>\n",
       "    <tr>\n",
       "      <th>ADAMTS4</th>\n",
       "      <td>NaN</td>\n",
       "      <td>ENSG00000158859</td>\n",
       "      <td>9507.0</td>\n",
       "      <td>-1.309927</td>\n",
       "      <td>2.764865</td>\n",
       "      <td>-3.675049</td>\n",
       "      <td>0.000620</td>\n",
       "      <td>0.222346</td>\n",
       "      <td>-0.394257</td>\n",
       "      <td>Li.LRvsNR</td>\n",
       "      <td>NaN</td>\n",
       "    </tr>\n",
       "    <tr>\n",
       "      <th>APCDD1</th>\n",
       "      <td>21.0</td>\n",
       "      <td>ENSG00000154856</td>\n",
       "      <td>147495.0</td>\n",
       "      <td>1.515762</td>\n",
       "      <td>6.699247</td>\n",
       "      <td>3.948413</td>\n",
       "      <td>0.000268</td>\n",
       "      <td>0.151966</td>\n",
       "      <td>0.372925</td>\n",
       "      <td>Li.LRvsNR</td>\n",
       "      <td>Li.LRvsNR</td>\n",
       "    </tr>\n",
       "  </tbody>\n",
       "</table>\n",
       "</div>"
      ],
      "text/plain": [
       "             #          ENSEMBL  ENTREZID     logFC   AveExpr         t  \\\n",
       "SYMBOL                                                                    \n",
       "ADAMTS14  33.0  ENSG00000138316  140766.0 -3.220477  0.387776 -3.765437   \n",
       "ADAMTS14   NaN  ENSG00000138316  140766.0 -3.055752  0.387776 -3.408920   \n",
       "ADAMTS4   17.0  ENSG00000158859    9507.0 -1.425119  2.764865 -4.120282   \n",
       "ADAMTS4    NaN  ENSG00000158859    9507.0 -1.309927  2.764865 -3.675049   \n",
       "APCDD1    21.0  ENSG00000154856  147495.0  1.515762  6.699247  3.948413   \n",
       "\n",
       "           P.Value  adj.P.Val         B  Unnamed: 10       sig in  \n",
       "SYMBOL                                                             \n",
       "ADAMTS14  0.000471   0.180478 -0.476563  CTRL.LRvsNR  CTRL.LRvsNR  \n",
       "ADAMTS14  0.001367   0.267570 -1.335573    Li.LRvsNR          NaN  \n",
       "ADAMTS4   0.000156   0.118895  0.789911  CTRL.LRvsNR  CTRL.LRvsNR  \n",
       "ADAMTS4   0.000620   0.222346 -0.394257    Li.LRvsNR          NaN  \n",
       "APCDD1    0.000268   0.151966  0.372925    Li.LRvsNR    Li.LRvsNR  "
      ]
     },
     "execution_count": 319,
     "metadata": {},
     "output_type": "execute_result"
    }
   ],
   "source": [
    "rna_df = pd.read_excel('../DE_Genes_Li and CTRL_LRvsNR_for_Katie.xlsx',index_col='SYMBOL')\n",
    "rna_df.head()"
   ]
  },
  {
   "cell_type": "code",
   "execution_count": 323,
   "metadata": {},
   "outputs": [
    {
     "data": {
      "text/plain": [
       "42"
      ]
     },
     "execution_count": 323,
     "metadata": {},
     "output_type": "execute_result"
    }
   ],
   "source": [
    "len(rna_df.index.unique())"
   ]
  },
  {
   "cell_type": "code",
   "execution_count": 324,
   "metadata": {},
   "outputs": [
    {
     "data": {
      "text/plain": [
       "<matplotlib_venn._common.VennDiagram instance at 0x122b812d8>"
      ]
     },
     "execution_count": 324,
     "metadata": {},
     "output_type": "execute_result"
    },
    {
     "data": {
      "image/png": "[encoded data removed]",
      "text/plain": [
       "<matplotlib.figure.Figure at 0x15416d550>"
      ]
     },
     "metadata": {},
     "output_type": "display_data"
    },
    {
     "data": {
      "image/png": "[encoded data removed]",
      "text/plain": [
       "<matplotlib.figure.Figure at 0x15416ded0>"
      ]
     },
     "metadata": {},
     "output_type": "display_data"
    },
    {
     "data": {
      "image/png": "[encoded data removed]",
      "text/plain": [
       "<matplotlib.figure.Figure at 0x154394550>"
      ]
     },
     "metadata": {},
     "output_type": "display_data"
    },
    {
     "data": {
      "image/png": "[encoded data removed]",
      "text/plain": [
       "<matplotlib.figure.Figure at 0x13b47d390>"
      ]
     },
     "metadata": {},
     "output_type": "display_data"
    }
   ],
   "source": [
    "rna_genes = rna_df.index.tolist()\n",
    "\n",
    "plt.figure()\n",
    "matplotlib_venn.venn3([set(vegas_sig_genes),set(gwab_genes),set(g_netwas)],set_labels=['vegas','gwab','netwas'])\n",
    "\n",
    "plt.figure()\n",
    "matplotlib_venn.venn3([set(vegas_sig_genes),set(gwab_genes),set(rna_genes)],set_labels=['vegas','gwab','rna_genes'])\n",
    "\n",
    "plt.figure()\n",
    "matplotlib_venn.venn3([set(vegas_sig_genes),set(rna_genes),set(g_netwas)],set_labels=['vegas','rna_genes','netwas'])\n",
    "\n",
    "plt.figure()\n",
    "matplotlib_venn.venn3([set(rna_genes),set(gwab_genes),set(g_netwas)],set_labels=['rna_genes','gwab','netwas'])"
   ]
  },
  {
   "cell_type": "code",
   "execution_count": null,
   "metadata": {},
   "outputs": [],
   "source": []
  },
  {
   "cell_type": "code",
   "execution_count": null,
   "metadata": {
    "collapsed": true
   },
   "outputs": [],
   "source": []
  }
 ],
 "metadata": {
  "kernelspec": {
   "display_name": "Python 2",
   "language": "python",
   "name": "python2"
  },
  "language_info": {
   "codemirror_mode": {
    "name": "ipython",
    "version": 2
   },
   "file_extension": ".py",
   "mimetype": "text/x-python",
   "name": "python",
   "nbconvert_exporter": "python",
   "pygments_lexer": "ipython2",
   "version": "2.7.12"
  }
 },
 "nbformat": 4,
 "nbformat_minor": 1
}
