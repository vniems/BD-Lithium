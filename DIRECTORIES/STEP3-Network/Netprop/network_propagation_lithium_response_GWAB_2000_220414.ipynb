{
 "cells": [
  {
   "cell_type": "markdown",
   "metadata": {},
   "source": [
    "# Network propagation analysis for lithium response genes\n",
    "\n",
    "\n",
    "8/23/18: add clustering and annotation\n",
    "\n",
    "7/8/19: update with less stringent GWAB/NETWAS criteria (use top 5%)\n",
    "\n",
    "9/27/19: find GWAB in top 2000 network\n",
    "\n",
    "9/30/20: print out top 2000 genes at vipavee's request"
   ]
  },
  {
   "cell_type": "code",
   "execution_count": 2,
   "metadata": {},
   "outputs": [],
   "source": [
    "# need to update things to work on new laptop\n",
    "\n",
    "import sys\n",
    "code_path = 'netprop_zscore_code/'\n",
    "sys.path.append(code_path)\n"
   ]
  },
  {
   "cell_type": "code",
   "execution_count": 3,
   "metadata": {},
   "outputs": [],
   "source": [
    "import network_prop"
   ]
  },
  {
   "cell_type": "code",
   "execution_count": null,
   "metadata": {},
   "outputs": [],
   "source": []
  },
  {
   "cell_type": "code",
   "execution_count": 4,
   "metadata": {},
   "outputs": [],
   "source": [
    "import numpy as np\n",
    "import matplotlib.pyplot as plt\n",
    "import seaborn as sns\n",
    "import networkx as nx\n",
    "import pandas as pd\n",
    "import random\n",
    "\n",
    "import community\n",
    "\n",
    "\n",
    "# latex rendering of text in graphs\n",
    "import matplotlib as mpl\n",
    "mpl.rc('text', usetex = False)\n",
    "mpl.rc('font', family = 'serif')\n",
    "\n",
    "sns.set_style('white')\n",
    "\n",
    "import sys\n",
    "\n",
    "% matplotlib inline"
   ]
  },
  {
   "cell_type": "markdown",
   "metadata": {},
   "source": [
    "# Load the GIANT brain interactome"
   ]
  },
  {
   "cell_type": "code",
   "execution_count": 5,
   "metadata": {},
   "outputs": [],
   "source": [
    "Gint = nx.read_gpickle('/Users/brinrosenthal/Documents/CCBB_tickets_data/GIANT/G_giant_.2.gpickle')"
   ]
  },
  {
   "cell_type": "code",
   "execution_count": 6,
   "metadata": {},
   "outputs": [
    {
     "name": "stdout",
     "output_type": "stream",
     "text": [
      "14563\n",
      "1370265\n"
     ]
    }
   ],
   "source": [
    "print(len(Gint.nodes()))\n",
    "print(len(Gint.edges()))"
   ]
  },
  {
   "cell_type": "markdown",
   "metadata": {},
   "source": [
    "# Load the RNAseq DE genes"
   ]
  },
  {
   "cell_type": "code",
   "execution_count": 7,
   "metadata": {},
   "outputs": [
    {
     "data": {
      "text/html": [
       "<div>\n",
       "<style scoped>\n",
       "    .dataframe tbody tr th:only-of-type {\n",
       "        vertical-align: middle;\n",
       "    }\n",
       "\n",
       "    .dataframe tbody tr th {\n",
       "        vertical-align: top;\n",
       "    }\n",
       "\n",
       "    .dataframe thead th {\n",
       "        text-align: right;\n",
       "    }\n",
       "</style>\n",
       "<table border=\"1\" class=\"dataframe\">\n",
       "  <thead>\n",
       "    <tr style=\"text-align: right;\">\n",
       "      <th></th>\n",
       "      <th>#</th>\n",
       "      <th>ENSEMBL</th>\n",
       "      <th>ENTREZID</th>\n",
       "      <th>logFC</th>\n",
       "      <th>AveExpr</th>\n",
       "      <th>t</th>\n",
       "      <th>P.Value</th>\n",
       "      <th>adj.P.Val</th>\n",
       "      <th>B</th>\n",
       "      <th>Unnamed: 10</th>\n",
       "      <th>sig in</th>\n",
       "    </tr>\n",
       "    <tr>\n",
       "      <th>SYMBOL</th>\n",
       "      <th></th>\n",
       "      <th></th>\n",
       "      <th></th>\n",
       "      <th></th>\n",
       "      <th></th>\n",
       "      <th></th>\n",
       "      <th></th>\n",
       "      <th></th>\n",
       "      <th></th>\n",
       "      <th></th>\n",
       "      <th></th>\n",
       "    </tr>\n",
       "  </thead>\n",
       "  <tbody>\n",
       "    <tr>\n",
       "      <th>ADAMTS14</th>\n",
       "      <td>33.0</td>\n",
       "      <td>ENSG00000138316</td>\n",
       "      <td>140766.0</td>\n",
       "      <td>-3.220477</td>\n",
       "      <td>0.387776</td>\n",
       "      <td>-3.765437</td>\n",
       "      <td>0.000471</td>\n",
       "      <td>0.180478</td>\n",
       "      <td>-0.476563</td>\n",
       "      <td>CTRL.LRvsNR</td>\n",
       "      <td>CTRL.LRvsNR</td>\n",
       "    </tr>\n",
       "    <tr>\n",
       "      <th>ADAMTS14</th>\n",
       "      <td>NaN</td>\n",
       "      <td>ENSG00000138316</td>\n",
       "      <td>140766.0</td>\n",
       "      <td>-3.055752</td>\n",
       "      <td>0.387776</td>\n",
       "      <td>-3.408920</td>\n",
       "      <td>0.001367</td>\n",
       "      <td>0.267570</td>\n",
       "      <td>-1.335573</td>\n",
       "      <td>Li.LRvsNR</td>\n",
       "      <td>NaN</td>\n",
       "    </tr>\n",
       "    <tr>\n",
       "      <th>ADAMTS4</th>\n",
       "      <td>17.0</td>\n",
       "      <td>ENSG00000158859</td>\n",
       "      <td>9507.0</td>\n",
       "      <td>-1.425119</td>\n",
       "      <td>2.764865</td>\n",
       "      <td>-4.120282</td>\n",
       "      <td>0.000156</td>\n",
       "      <td>0.118895</td>\n",
       "      <td>0.789911</td>\n",
       "      <td>CTRL.LRvsNR</td>\n",
       "      <td>CTRL.LRvsNR</td>\n",
       "    </tr>\n",
       "    <tr>\n",
       "      <th>ADAMTS4</th>\n",
       "      <td>NaN</td>\n",
       "      <td>ENSG00000158859</td>\n",
       "      <td>9507.0</td>\n",
       "      <td>-1.309927</td>\n",
       "      <td>2.764865</td>\n",
       "      <td>-3.675049</td>\n",
       "      <td>0.000620</td>\n",
       "      <td>0.222346</td>\n",
       "      <td>-0.394257</td>\n",
       "      <td>Li.LRvsNR</td>\n",
       "      <td>NaN</td>\n",
       "    </tr>\n",
       "    <tr>\n",
       "      <th>APCDD1</th>\n",
       "      <td>21.0</td>\n",
       "      <td>ENSG00000154856</td>\n",
       "      <td>147495.0</td>\n",
       "      <td>1.515762</td>\n",
       "      <td>6.699247</td>\n",
       "      <td>3.948413</td>\n",
       "      <td>0.000268</td>\n",
       "      <td>0.151966</td>\n",
       "      <td>0.372925</td>\n",
       "      <td>Li.LRvsNR</td>\n",
       "      <td>Li.LRvsNR</td>\n",
       "    </tr>\n",
       "  </tbody>\n",
       "</table>\n",
       "</div>"
      ],
      "text/plain": [
       "             #          ENSEMBL  ENTREZID     logFC   AveExpr         t  \\\n",
       "SYMBOL                                                                    \n",
       "ADAMTS14  33.0  ENSG00000138316  140766.0 -3.220477  0.387776 -3.765437   \n",
       "ADAMTS14   NaN  ENSG00000138316  140766.0 -3.055752  0.387776 -3.408920   \n",
       "ADAMTS4   17.0  ENSG00000158859    9507.0 -1.425119  2.764865 -4.120282   \n",
       "ADAMTS4    NaN  ENSG00000158859    9507.0 -1.309927  2.764865 -3.675049   \n",
       "APCDD1    21.0  ENSG00000154856  147495.0  1.515762  6.699247  3.948413   \n",
       "\n",
       "           P.Value  adj.P.Val         B  Unnamed: 10       sig in  \n",
       "SYMBOL                                                             \n",
       "ADAMTS14  0.000471   0.180478 -0.476563  CTRL.LRvsNR  CTRL.LRvsNR  \n",
       "ADAMTS14  0.001367   0.267570 -1.335573    Li.LRvsNR          NaN  \n",
       "ADAMTS4   0.000156   0.118895  0.789911  CTRL.LRvsNR  CTRL.LRvsNR  \n",
       "ADAMTS4   0.000620   0.222346 -0.394257    Li.LRvsNR          NaN  \n",
       "APCDD1    0.000268   0.151966  0.372925    Li.LRvsNR    Li.LRvsNR  "
      ]
     },
     "execution_count": 7,
     "metadata": {},
     "output_type": "execute_result"
    }
   ],
   "source": [
    "rna_df = pd.read_excel('data/DE_Genes_Li and CTRL_LRvsNR_for_Katie.xlsx',index_col='SYMBOL')\n",
    "rna_df.head()"
   ]
  },
  {
   "cell_type": "code",
   "execution_count": 8,
   "metadata": {},
   "outputs": [
    {
     "name": "stdout",
     "output_type": "stream",
     "text": [
      "41\n"
     ]
    },
    {
     "data": {
      "text/plain": [
       "[u'ADAMTS14',\n",
       " u'ADAMTS4',\n",
       " u'APCDD1',\n",
       " u'BGN',\n",
       " u'BTBD17',\n",
       " u'CHRD',\n",
       " u'CHST6',\n",
       " u'COL15A1',\n",
       " u'COL16A1',\n",
       " u'COL6A3',\n",
       " u'CPNE5',\n",
       " u'DLC1',\n",
       " u'DSP',\n",
       " u'EFNA1',\n",
       " u'FLNC',\n",
       " u'FOXO6',\n",
       " u'HEY1',\n",
       " u'HOXD9',\n",
       " u'IAH1',\n",
       " u'IGFBP3',\n",
       " u'IL17RC',\n",
       " u'KLF10',\n",
       " u'LEF1',\n",
       " u'LMX1B',\n",
       " u'MBP',\n",
       " u'MMP14',\n",
       " u'MXRA5',\n",
       " u'OLFML2B',\n",
       " u'PDGFA',\n",
       " u'POU3F1',\n",
       " u'PRKD1',\n",
       " u'PTP4A3',\n",
       " u'RWDD2B',\n",
       " u'SEMA3A',\n",
       " u'SLC2A1',\n",
       " u'TBX1',\n",
       " u'THNSL2',\n",
       " u'TPD52',\n",
       " u'TPM2',\n",
       " u'ZIC1',\n",
       " u'ZNF132']"
      ]
     },
     "execution_count": 8,
     "metadata": {},
     "output_type": "execute_result"
    }
   ],
   "source": [
    "DE_genes = rna_df[rna_df['adj.P.Val']<0.3].index.unique().dropna().tolist()\n",
    "print(len(DE_genes))\n",
    "DE_genes"
   ]
  },
  {
   "cell_type": "code",
   "execution_count": 9,
   "metadata": {},
   "outputs": [
    {
     "name": "stdout",
     "output_type": "stream",
     "text": [
      "34\n"
     ]
    }
   ],
   "source": [
    "print(len(np.intersect1d(DE_genes,Gint.nodes())))"
   ]
  },
  {
   "cell_type": "markdown",
   "metadata": {},
   "source": [
    "# Load the re-prioritized GWAS hits"
   ]
  },
  {
   "cell_type": "code",
   "execution_count": 11,
   "metadata": {},
   "outputs": [
    {
     "name": "stdout",
     "output_type": "stream",
     "text": [
      "1180\n",
      "964\n",
      "1119\n"
     ]
    }
   ],
   "source": [
    "# changed 7/8/19 to top 5% results\n",
    "vegas_genes = pd.read_excel('data/prioritized_genes_boosting_methods_5percent_190708.xlsx',sheetname='vegas_genes',\n",
    "                           index_col='Gene').index.tolist()\n",
    "print(len(vegas_genes))\n",
    "\n",
    "netwas_genes = pd.read_excel('data/prioritized_genes_boosting_methods_5percent_190708.xlsx',sheetname='netwas_genes',\n",
    "                           index_col='Gene').index.tolist()\n",
    "print(len(netwas_genes))\n",
    "\n",
    "gwab_genes = pd.read_excel('data/prioritized_genes_boosting_methods_5percent_190708.xlsx',sheetname='gwab_genes',\n",
    "                           index_col='Gene').index.tolist()\n",
    "print(len(gwab_genes))"
   ]
  },
  {
   "cell_type": "code",
   "execution_count": 12,
   "metadata": {},
   "outputs": [
    {
     "data": {
      "text/plain": [
       "array([u'FLNC', u'LEF1', u'MBP', u'PRKD1'], dtype='<U12')"
      ]
     },
     "execution_count": 12,
     "metadata": {},
     "output_type": "execute_result"
    }
   ],
   "source": [
    "np.intersect1d(DE_genes,gwab_genes)"
   ]
  },
  {
   "cell_type": "code",
   "execution_count": 13,
   "metadata": {},
   "outputs": [
    {
     "data": {
      "text/html": [
       "<div>\n",
       "<style scoped>\n",
       "    .dataframe tbody tr th:only-of-type {\n",
       "        vertical-align: middle;\n",
       "    }\n",
       "\n",
       "    .dataframe tbody tr th {\n",
       "        vertical-align: top;\n",
       "    }\n",
       "\n",
       "    .dataframe thead th {\n",
       "        text-align: right;\n",
       "    }\n",
       "</style>\n",
       "<table border=\"1\" class=\"dataframe\">\n",
       "  <thead>\n",
       "    <tr style=\"text-align: right;\">\n",
       "      <th></th>\n",
       "      <th>Chr</th>\n",
       "      <th>nSNPs</th>\n",
       "      <th>Pvalue</th>\n",
       "      <th>TopSNP</th>\n",
       "      <th>TopSNP-pvalue</th>\n",
       "      <th>GWAB_Score</th>\n",
       "    </tr>\n",
       "    <tr>\n",
       "      <th>Gene</th>\n",
       "      <th></th>\n",
       "      <th></th>\n",
       "      <th></th>\n",
       "      <th></th>\n",
       "      <th></th>\n",
       "      <th></th>\n",
       "    </tr>\n",
       "  </thead>\n",
       "  <tbody>\n",
       "    <tr>\n",
       "      <th>UBC</th>\n",
       "      <td>12.0</td>\n",
       "      <td>45.0</td>\n",
       "      <td>0.198801</td>\n",
       "      <td>rs142622917</td>\n",
       "      <td>0.012040</td>\n",
       "      <td>26.441133</td>\n",
       "    </tr>\n",
       "    <tr>\n",
       "      <th>APP</th>\n",
       "      <td>21.0</td>\n",
       "      <td>798.0</td>\n",
       "      <td>0.081918</td>\n",
       "      <td>rs363999</td>\n",
       "      <td>0.007441</td>\n",
       "      <td>18.161573</td>\n",
       "    </tr>\n",
       "    <tr>\n",
       "      <th>SUMO1</th>\n",
       "      <td>2.0</td>\n",
       "      <td>108.0</td>\n",
       "      <td>0.505495</td>\n",
       "      <td>rs72923074</td>\n",
       "      <td>0.018980</td>\n",
       "      <td>15.222024</td>\n",
       "    </tr>\n",
       "    <tr>\n",
       "      <th>HSP90AA1</th>\n",
       "      <td>14.0</td>\n",
       "      <td>185.0</td>\n",
       "      <td>0.187812</td>\n",
       "      <td>rs145643636</td>\n",
       "      <td>0.001290</td>\n",
       "      <td>15.164895</td>\n",
       "    </tr>\n",
       "    <tr>\n",
       "      <th>GRB2</th>\n",
       "      <td>17.0</td>\n",
       "      <td>263.0</td>\n",
       "      <td>0.591409</td>\n",
       "      <td>rs144626626</td>\n",
       "      <td>0.028820</td>\n",
       "      <td>14.811854</td>\n",
       "    </tr>\n",
       "  </tbody>\n",
       "</table>\n",
       "</div>"
      ],
      "text/plain": [
       "           Chr  nSNPs    Pvalue       TopSNP  TopSNP-pvalue  GWAB_Score\n",
       "Gene                                                                   \n",
       "UBC       12.0   45.0  0.198801  rs142622917       0.012040   26.441133\n",
       "APP       21.0  798.0  0.081918     rs363999       0.007441   18.161573\n",
       "SUMO1      2.0  108.0  0.505495   rs72923074       0.018980   15.222024\n",
       "HSP90AA1  14.0  185.0  0.187812  rs145643636       0.001290   15.164895\n",
       "GRB2      17.0  263.0  0.591409  rs144626626       0.028820   14.811854"
      ]
     },
     "execution_count": 13,
     "metadata": {},
     "output_type": "execute_result"
    }
   ],
   "source": [
    "gwab_df = pd.read_excel('data/prioritized_genes_boosting_methods_5percent_190708.xlsx',sheetname='gwab_genes',\n",
    "                           index_col='Gene')\n",
    "gwab_df.head()"
   ]
  },
  {
   "cell_type": "markdown",
   "metadata": {},
   "source": [
    "# Network propagation from DE genes"
   ]
  },
  {
   "cell_type": "code",
   "execution_count": 14,
   "metadata": {},
   "outputs": [],
   "source": [
    "alt_DE_genes = ['HEY1','KLF10','PDGFA','POU3F1','PTP4A3'] # these are significant in another study (Breen et al)\n"
   ]
  },
  {
   "cell_type": "code",
   "execution_count": 15,
   "metadata": {},
   "outputs": [],
   "source": [
    "Wprime = network_prop.normalized_adj_matrix(Gint)"
   ]
  },
  {
   "cell_type": "code",
   "execution_count": 16,
   "metadata": {},
   "outputs": [],
   "source": [
    "seed_type='41_DE_genes'\n",
    "if seed_type=='HC_DE_genes':\n",
    "    seed_nodes = list(np.intersect1d(alt_DE_genes,Gint.nodes()))\n",
    "elif seed_type=='41_DE_genes':\n",
    "    seed_nodes = list(np.intersect1d(DE_genes,Gint.nodes()))\n",
    "\n",
    "# Fnew = visJS2jupyter.visualizations.network_propagation(Gint,Wprime,seed_nodes)\n",
    "Fnew = network_prop.network_propagation(Gint,Wprime,seed_nodes)"
   ]
  },
  {
   "cell_type": "code",
   "execution_count": 17,
   "metadata": {},
   "outputs": [
    {
     "data": {
      "text/plain": [
       "IL17RC    0.015857\n",
       "BGN       0.015617\n",
       "POU3F1    0.015064\n",
       "MMP14     0.015053\n",
       "SLC2A1    0.015023\n",
       "dtype: float64"
      ]
     },
     "execution_count": 17,
     "metadata": {},
     "output_type": "execute_result"
    }
   ],
   "source": [
    "Fnew = Fnew.sort_values(ascending=False)\n",
    "Fnew.head()"
   ]
  },
  {
   "cell_type": "code",
   "execution_count": 18,
   "metadata": {},
   "outputs": [],
   "source": [
    "# write out top 2000 genes for vipavee 9/30/20\n",
    "# pd.DataFrame(Fnew.head(2000),columns=['netprop_score_top2000']).to_csv('2KGWAB/top2000_network_prop_genes.txt',sep='\\t')\n"
   ]
  },
  {
   "cell_type": "code",
   "execution_count": 18,
   "metadata": {},
   "outputs": [
    {
     "name": "stdout",
     "output_type": "stream",
     "text": [
      "25020\n"
     ]
    }
   ],
   "source": [
    "print(len(nx.subgraph(Gint,Fnew.head(500).index.tolist()).edges()))"
   ]
  },
  {
   "cell_type": "code",
   "execution_count": 19,
   "metadata": {},
   "outputs": [
    {
     "data": {
      "text/plain": [
       "HEY1      0.015005\n",
       "KLF10     0.014745\n",
       "PDGFA     0.014924\n",
       "POU3F1    0.015064\n",
       "PTP4A3    0.015007\n",
       "dtype: float64"
      ]
     },
     "execution_count": 19,
     "metadata": {},
     "output_type": "execute_result"
    }
   ],
   "source": [
    "Fnew.loc[alt_DE_genes]"
   ]
  },
  {
   "cell_type": "code",
   "execution_count": 20,
   "metadata": {},
   "outputs": [
    {
     "name": "stdout",
     "output_type": "stream",
     "text": [
      "36\n",
      "33\n",
      "73\n"
     ]
    }
   ],
   "source": [
    "print(len(np.intersect1d(Fnew.head(500).index,vegas_genes)))\n",
    "print(len(np.intersect1d(Fnew.head(500).index,netwas_genes)))\n",
    "print(len(np.intersect1d(Fnew.head(500).index,gwab_genes)))"
   ]
  },
  {
   "cell_type": "code",
   "execution_count": 21,
   "metadata": {},
   "outputs": [
    {
     "name": "stdout",
     "output_type": "stream",
     "text": [
      "14563\n",
      "14529\n"
     ]
    }
   ],
   "source": [
    "# remove seed genes\n",
    "print(len(Fnew))\n",
    "Fnew_no_seeds = Fnew.drop(seed_nodes)\n",
    "print(len(Fnew_no_seeds))"
   ]
  },
  {
   "cell_type": "code",
   "execution_count": 22,
   "metadata": {},
   "outputs": [
    {
     "name": "stdout",
     "output_type": "stream",
     "text": [
      "14563\n",
      "14529\n",
      "netwas p = 0.10169896981203852\n",
      "gwab p = 1.3515472120439197e-17\n",
      "vegas p = 0.007504025225436693\n"
     ]
    }
   ],
   "source": [
    "import scipy\n",
    "# hypergeom results for top 500 genes\n",
    "\n",
    "# remove seed genes\n",
    "print(len(Fnew))\n",
    "Fnew_no_seeds = Fnew.drop(seed_nodes)\n",
    "print(len(Fnew_no_seeds))\n",
    "\n",
    "N = 2000\n",
    "\n",
    "M = len(Fnew_no_seeds)\n",
    "n_netwas = len(np.intersect1d(netwas_genes,Fnew_no_seeds.index)) # make sure the genes are in the interactome\n",
    "#N = 3000 # test how many are found in the top N \n",
    "x_netwas = len(np.intersect1d(netwas_genes,Fnew_no_seeds.head(N).index))\n",
    "\n",
    "print('netwas p = ' + str(scipy.stats.hypergeom.sf(x_netwas,M,n_netwas,N)))\n",
    "\n",
    "\n",
    "n_gwab = len(np.intersect1d(gwab_genes,Fnew_no_seeds.index)) # make sure the genes are in the interactome\n",
    "x_gwab = len(np.intersect1d(gwab_genes,Fnew_no_seeds.head(N).index))\n",
    "\n",
    "print('gwab p = ' + str(scipy.stats.hypergeom.sf(x_gwab,M,n_gwab,N)))\n",
    "\n",
    "n_vegas = len(np.intersect1d(vegas_genes,Fnew_no_seeds.index)) # make sure the genes are in the interactome\n",
    "x_vegas = len(np.intersect1d(vegas_genes,Fnew_no_seeds.head(N).index))\n",
    "\n",
    "print('vegas p = ' + str(scipy.stats.hypergeom.sf(x_vegas,M,n_vegas,N)))\n"
   ]
  },
  {
   "cell_type": "code",
   "execution_count": 23,
   "metadata": {},
   "outputs": [],
   "source": [
    "# hypergeometric test between two sets\n",
    "import scipy.stats\n",
    "netwas_hypergeo = []\n",
    "gwab_hypergeo = []\n",
    "vegas_hypergeo = []\n",
    "Nlist = np.linspace(100,5000,25)\n",
    "for N in Nlist: #[500,2000]: #Nlist:\n",
    "    N = int(N) # cast to int\n",
    "\n",
    "    M = len(Fnew)\n",
    "    n_netwas = len(np.intersect1d(netwas_genes,Fnew.index)) # make sure the genes are in the interactome\n",
    "    #N = 3000 # test how many are found in the top N \n",
    "    x_netwas = len(np.intersect1d(netwas_genes,Fnew.head(N).index))\n",
    "\n",
    "#     print('netwas p = ' + str(scipy.stats.hypergeom.sf(x_netwas,M,n_netwas,N)))\n",
    "\n",
    "    netwas_hypergeo.append(-scipy.stats.hypergeom.logsf(x_netwas,M,n_netwas,N))\n",
    "    \n",
    "    n_gwab = len(np.intersect1d(gwab_genes,Fnew.index)) # make sure the genes are in the interactome\n",
    "    x_gwab = len(np.intersect1d(gwab_genes,Fnew.head(N).index))\n",
    "    \n",
    "#     print('gwab p = ' + str(scipy.stats.hypergeom.sf(x_gwab,M,n_gwab,N)))\n",
    "    gwab_hypergeo.append(-scipy.stats.hypergeom.logsf(x_gwab,M,n_gwab,N))\n",
    "    \n",
    "    n_vegas = len(np.intersect1d(vegas_genes,Fnew.index)) # make sure the genes are in the interactome\n",
    "    x_vegas = len(np.intersect1d(vegas_genes,Fnew.head(N).index))\n",
    "    \n",
    "#     print('vegas p = ' + str(scipy.stats.hypergeom.sf(x_vegas,M,n_vegas,N)))\n",
    "    vegas_hypergeo.append(-scipy.stats.hypergeom.logsf(x_vegas,M,n_vegas,N))\n",
    "    \n",
    "    \n",
    "\n"
   ]
  },
  {
   "cell_type": "code",
   "execution_count": 24,
   "metadata": {},
   "outputs": [
    {
     "data": {
      "text/plain": [
       "Text(0,0.5,'hypergeometric\\n-log(p)')"
      ]
     },
     "execution_count": 24,
     "metadata": {},
     "output_type": "execute_result"
    },
    {
     "data": {
      "image/png": "[encoded data removed]",
      "text/plain": [
       "<Figure size 432x288 with 1 Axes>"
      ]
     },
     "metadata": {
      "needs_background": "light"
     },
     "output_type": "display_data"
    }
   ],
   "source": [
    "plt.plot(Nlist,netwas_hypergeo,'.-',label='netwas')\n",
    "plt.plot(Nlist,gwab_hypergeo,'.-',label='gwab')\n",
    "plt.plot(Nlist,vegas_hypergeo,'.-',label='vegas')\n",
    "plt.legend(loc='best',fontsize=14)\n",
    "plt.xlabel('number proximal genes',fontsize=16)\n",
    "plt.plot([500,500],[-1,80],'--',color='gray')\n",
    "plt.plot([2000,2000],[-1,80],'--',color='gray')\n",
    "plt.ylim([-1,80])\n",
    "plt.ylabel('hypergeometric\\n-log(p)',fontsize=16)\n",
    "# plt.savefig('../figures/hypergeo_netprop_scan_numProx_top5percent_190828.png',dpi=300,bbox_inches='tight')"
   ]
  },
  {
   "cell_type": "markdown",
   "metadata": {
    "collapsed": true
   },
   "source": [
    "# Save out the GWAB + seed genes in top 2000 network"
   ]
  },
  {
   "cell_type": "code",
   "execution_count": 25,
   "metadata": {},
   "outputs": [
    {
     "name": "stdout",
     "output_type": "stream",
     "text": [
      "241\n"
     ]
    }
   ],
   "source": [
    "gwab_2K = list(np.intersect1d(gwab_genes,Fnew.head(2000).index))\n",
    "print(len(gwab_2K))"
   ]
  },
  {
   "cell_type": "code",
   "execution_count": 26,
   "metadata": {},
   "outputs": [
    {
     "name": "stdout",
     "output_type": "stream",
     "text": [
      "271\n",
      "3135\n"
     ]
    }
   ],
   "source": [
    "G_gwab2k_seeds = nx.subgraph(Gint,gwab_2K+seed_nodes)\n",
    "print(len(G_gwab2k_seeds.nodes()))\n",
    "print(len(G_gwab2k_seeds.edges()))\n",
    "\n"
   ]
  },
  {
   "cell_type": "code",
   "execution_count": null,
   "metadata": {},
   "outputs": [],
   "source": []
  },
  {
   "cell_type": "code",
   "execution_count": 27,
   "metadata": {},
   "outputs": [
    {
     "name": "stdout",
     "output_type": "stream",
     "text": [
      "271\n",
      "241.0\n"
     ]
    },
    {
     "data": {
      "text/html": [
       "<div>\n",
       "<style scoped>\n",
       "    .dataframe tbody tr th:only-of-type {\n",
       "        vertical-align: middle;\n",
       "    }\n",
       "\n",
       "    .dataframe tbody tr th {\n",
       "        vertical-align: top;\n",
       "    }\n",
       "\n",
       "    .dataframe thead th {\n",
       "        text-align: right;\n",
       "    }\n",
       "</style>\n",
       "<table border=\"1\" class=\"dataframe\">\n",
       "  <thead>\n",
       "    <tr style=\"text-align: right;\">\n",
       "      <th></th>\n",
       "      <th>net_prop</th>\n",
       "      <th>log_net_prop</th>\n",
       "      <th>seed_gene</th>\n",
       "      <th>DE_RNAseq</th>\n",
       "      <th>vegas_genes</th>\n",
       "      <th>netwas_genes</th>\n",
       "      <th>gwab_genes</th>\n",
       "    </tr>\n",
       "  </thead>\n",
       "  <tbody>\n",
       "    <tr>\n",
       "      <th>IL17RC</th>\n",
       "      <td>0.015857</td>\n",
       "      <td>-4.144125</td>\n",
       "      <td>1.0</td>\n",
       "      <td>1.0</td>\n",
       "      <td>0.0</td>\n",
       "      <td>0.0</td>\n",
       "      <td>0.0</td>\n",
       "    </tr>\n",
       "    <tr>\n",
       "      <th>BGN</th>\n",
       "      <td>0.015617</td>\n",
       "      <td>-4.159392</td>\n",
       "      <td>1.0</td>\n",
       "      <td>1.0</td>\n",
       "      <td>0.0</td>\n",
       "      <td>0.0</td>\n",
       "      <td>0.0</td>\n",
       "    </tr>\n",
       "    <tr>\n",
       "      <th>POU3F1</th>\n",
       "      <td>0.015064</td>\n",
       "      <td>-4.195454</td>\n",
       "      <td>1.0</td>\n",
       "      <td>1.0</td>\n",
       "      <td>0.0</td>\n",
       "      <td>0.0</td>\n",
       "      <td>0.0</td>\n",
       "    </tr>\n",
       "    <tr>\n",
       "      <th>MMP14</th>\n",
       "      <td>0.015053</td>\n",
       "      <td>-4.196172</td>\n",
       "      <td>1.0</td>\n",
       "      <td>1.0</td>\n",
       "      <td>0.0</td>\n",
       "      <td>0.0</td>\n",
       "      <td>0.0</td>\n",
       "    </tr>\n",
       "    <tr>\n",
       "      <th>SLC2A1</th>\n",
       "      <td>0.015023</td>\n",
       "      <td>-4.198195</td>\n",
       "      <td>1.0</td>\n",
       "      <td>1.0</td>\n",
       "      <td>0.0</td>\n",
       "      <td>0.0</td>\n",
       "      <td>0.0</td>\n",
       "    </tr>\n",
       "    <tr>\n",
       "      <th>PTP4A3</th>\n",
       "      <td>0.015007</td>\n",
       "      <td>-4.199257</td>\n",
       "      <td>1.0</td>\n",
       "      <td>1.0</td>\n",
       "      <td>1.0</td>\n",
       "      <td>0.0</td>\n",
       "      <td>0.0</td>\n",
       "    </tr>\n",
       "    <tr>\n",
       "      <th>HEY1</th>\n",
       "      <td>0.015005</td>\n",
       "      <td>-4.199382</td>\n",
       "      <td>1.0</td>\n",
       "      <td>1.0</td>\n",
       "      <td>0.0</td>\n",
       "      <td>0.0</td>\n",
       "      <td>0.0</td>\n",
       "    </tr>\n",
       "    <tr>\n",
       "      <th>TBX1</th>\n",
       "      <td>0.014988</td>\n",
       "      <td>-4.200490</td>\n",
       "      <td>1.0</td>\n",
       "      <td>1.0</td>\n",
       "      <td>0.0</td>\n",
       "      <td>0.0</td>\n",
       "      <td>0.0</td>\n",
       "    </tr>\n",
       "    <tr>\n",
       "      <th>MXRA5</th>\n",
       "      <td>0.014978</td>\n",
       "      <td>-4.201194</td>\n",
       "      <td>1.0</td>\n",
       "      <td>1.0</td>\n",
       "      <td>0.0</td>\n",
       "      <td>0.0</td>\n",
       "      <td>0.0</td>\n",
       "    </tr>\n",
       "    <tr>\n",
       "      <th>DLC1</th>\n",
       "      <td>0.014973</td>\n",
       "      <td>-4.201515</td>\n",
       "      <td>1.0</td>\n",
       "      <td>1.0</td>\n",
       "      <td>0.0</td>\n",
       "      <td>0.0</td>\n",
       "      <td>0.0</td>\n",
       "    </tr>\n",
       "    <tr>\n",
       "      <th>PRKD1</th>\n",
       "      <td>0.014973</td>\n",
       "      <td>-4.201517</td>\n",
       "      <td>1.0</td>\n",
       "      <td>1.0</td>\n",
       "      <td>0.0</td>\n",
       "      <td>0.0</td>\n",
       "      <td>1.0</td>\n",
       "    </tr>\n",
       "    <tr>\n",
       "      <th>TPM2</th>\n",
       "      <td>0.014939</td>\n",
       "      <td>-4.203770</td>\n",
       "      <td>1.0</td>\n",
       "      <td>1.0</td>\n",
       "      <td>0.0</td>\n",
       "      <td>0.0</td>\n",
       "      <td>0.0</td>\n",
       "    </tr>\n",
       "    <tr>\n",
       "      <th>COL16A1</th>\n",
       "      <td>0.014935</td>\n",
       "      <td>-4.204075</td>\n",
       "      <td>1.0</td>\n",
       "      <td>1.0</td>\n",
       "      <td>0.0</td>\n",
       "      <td>0.0</td>\n",
       "      <td>0.0</td>\n",
       "    </tr>\n",
       "    <tr>\n",
       "      <th>IGFBP3</th>\n",
       "      <td>0.014934</td>\n",
       "      <td>-4.204147</td>\n",
       "      <td>1.0</td>\n",
       "      <td>1.0</td>\n",
       "      <td>0.0</td>\n",
       "      <td>0.0</td>\n",
       "      <td>0.0</td>\n",
       "    </tr>\n",
       "    <tr>\n",
       "      <th>PDGFA</th>\n",
       "      <td>0.014924</td>\n",
       "      <td>-4.204782</td>\n",
       "      <td>1.0</td>\n",
       "      <td>1.0</td>\n",
       "      <td>0.0</td>\n",
       "      <td>0.0</td>\n",
       "      <td>0.0</td>\n",
       "    </tr>\n",
       "  </tbody>\n",
       "</table>\n",
       "</div>"
      ],
      "text/plain": [
       "         net_prop  log_net_prop  seed_gene  DE_RNAseq  vegas_genes  \\\n",
       "IL17RC   0.015857     -4.144125        1.0        1.0          0.0   \n",
       "BGN      0.015617     -4.159392        1.0        1.0          0.0   \n",
       "POU3F1   0.015064     -4.195454        1.0        1.0          0.0   \n",
       "MMP14    0.015053     -4.196172        1.0        1.0          0.0   \n",
       "SLC2A1   0.015023     -4.198195        1.0        1.0          0.0   \n",
       "PTP4A3   0.015007     -4.199257        1.0        1.0          1.0   \n",
       "HEY1     0.015005     -4.199382        1.0        1.0          0.0   \n",
       "TBX1     0.014988     -4.200490        1.0        1.0          0.0   \n",
       "MXRA5    0.014978     -4.201194        1.0        1.0          0.0   \n",
       "DLC1     0.014973     -4.201515        1.0        1.0          0.0   \n",
       "PRKD1    0.014973     -4.201517        1.0        1.0          0.0   \n",
       "TPM2     0.014939     -4.203770        1.0        1.0          0.0   \n",
       "COL16A1  0.014935     -4.204075        1.0        1.0          0.0   \n",
       "IGFBP3   0.014934     -4.204147        1.0        1.0          0.0   \n",
       "PDGFA    0.014924     -4.204782        1.0        1.0          0.0   \n",
       "\n",
       "         netwas_genes  gwab_genes  \n",
       "IL17RC            0.0         0.0  \n",
       "BGN               0.0         0.0  \n",
       "POU3F1            0.0         0.0  \n",
       "MMP14             0.0         0.0  \n",
       "SLC2A1            0.0         0.0  \n",
       "PTP4A3            0.0         0.0  \n",
       "HEY1              0.0         0.0  \n",
       "TBX1              0.0         0.0  \n",
       "MXRA5             0.0         0.0  \n",
       "DLC1              0.0         0.0  \n",
       "PRKD1             0.0         1.0  \n",
       "TPM2              0.0         0.0  \n",
       "COL16A1           0.0         0.0  \n",
       "IGFBP3            0.0         0.0  \n",
       "PDGFA             0.0         0.0  "
      ]
     },
     "execution_count": 27,
     "metadata": {},
     "output_type": "execute_result"
    }
   ],
   "source": [
    "nodes_table_2k = pd.DataFrame(index=G_gwab2k_seeds.nodes())\n",
    "nodes_table_2k['net_prop']=Fnew.loc[G_gwab2k_seeds.nodes()]\n",
    "nodes_table_2k['log_net_prop']=np.log(Fnew.loc[G_gwab2k_seeds.nodes()])\n",
    "\n",
    "nodes_table_2k['seed_gene']=np.zeros(len(nodes_table_2k))\n",
    "nodes_table_2k['seed_gene'].loc[np.intersect1d(seed_nodes,G_gwab2k_seeds.nodes())]=1.0 # make sure the DE genes are in the graph\n",
    "\n",
    "nodes_table_2k['DE_RNAseq']=np.zeros(len(nodes_table_2k))\n",
    "nodes_table_2k['DE_RNAseq'].loc[np.intersect1d(DE_genes,G_gwab2k_seeds.nodes())]=1.0 # make sure the DE genes are in the graph\n",
    "\n",
    "nodes_table_2k['vegas_genes']=np.zeros(len(nodes_table_2k))\n",
    "nodes_table_2k['vegas_genes'].loc[np.intersect1d(vegas_genes,G_gwab2k_seeds.nodes())]=1.0\n",
    "\n",
    "nodes_table_2k['netwas_genes']=np.zeros(len(nodes_table_2k))\n",
    "nodes_table_2k['netwas_genes'].loc[np.intersect1d(netwas_genes,G_gwab2k_seeds.nodes())]=1.0\n",
    "\n",
    "nodes_table_2k['gwab_genes']=np.zeros(len(nodes_table_2k))\n",
    "nodes_table_2k['gwab_genes'].loc[np.intersect1d(gwab_genes,G_gwab2k_seeds.nodes())]=1.0\n",
    "\n",
    "nodes_table_2k = nodes_table_2k.sort_values('net_prop',ascending=False)\n",
    "\n",
    "# nodes_table_2k.to_csv('2KGWAB/G_netprop_2KGWAB_nodes_'+seed_type+'_5percent_190927.tsv',sep='\\t')\n",
    "print(len(nodes_table_2k))\n",
    "print(nodes_table_2k['gwab_genes'].sum())\n",
    "nodes_table_2k.head(15)"
   ]
  },
  {
   "cell_type": "code",
   "execution_count": 28,
   "metadata": {},
   "outputs": [
    {
     "data": {
      "text/html": [
       "<div>\n",
       "<style scoped>\n",
       "    .dataframe tbody tr th:only-of-type {\n",
       "        vertical-align: middle;\n",
       "    }\n",
       "\n",
       "    .dataframe tbody tr th {\n",
       "        vertical-align: top;\n",
       "    }\n",
       "\n",
       "    .dataframe thead th {\n",
       "        text-align: right;\n",
       "    }\n",
       "</style>\n",
       "<table border=\"1\" class=\"dataframe\">\n",
       "  <thead>\n",
       "    <tr style=\"text-align: right;\">\n",
       "      <th></th>\n",
       "      <th>edge1</th>\n",
       "      <th>edge2</th>\n",
       "      <th>weight</th>\n",
       "    </tr>\n",
       "  </thead>\n",
       "  <tbody>\n",
       "    <tr>\n",
       "      <th>0</th>\n",
       "      <td>MUSK</td>\n",
       "      <td>CYP2C9</td>\n",
       "      <td>0.222916</td>\n",
       "    </tr>\n",
       "    <tr>\n",
       "      <th>1</th>\n",
       "      <td>MUSK</td>\n",
       "      <td>ACTN2</td>\n",
       "      <td>0.216907</td>\n",
       "    </tr>\n",
       "    <tr>\n",
       "      <th>2</th>\n",
       "      <td>MUSK</td>\n",
       "      <td>ALDOB</td>\n",
       "      <td>0.304409</td>\n",
       "    </tr>\n",
       "    <tr>\n",
       "      <th>3</th>\n",
       "      <td>MUSK</td>\n",
       "      <td>GNAO1</td>\n",
       "      <td>0.267426</td>\n",
       "    </tr>\n",
       "    <tr>\n",
       "      <th>4</th>\n",
       "      <td>MUSK</td>\n",
       "      <td>XDH</td>\n",
       "      <td>0.202014</td>\n",
       "    </tr>\n",
       "  </tbody>\n",
       "</table>\n",
       "</div>"
      ],
      "text/plain": [
       "  edge1   edge2    weight\n",
       "0  MUSK  CYP2C9  0.222916\n",
       "1  MUSK   ACTN2  0.216907\n",
       "2  MUSK   ALDOB  0.304409\n",
       "3  MUSK   GNAO1  0.267426\n",
       "4  MUSK     XDH  0.202014"
      ]
     },
     "execution_count": 28,
     "metadata": {},
     "output_type": "execute_result"
    }
   ],
   "source": [
    "# make the edge_info table\n",
    "\n",
    "[e1,e2] = zip(*G_gwab2k_seeds.edges())\n",
    "w = pd.Series(nx.get_edge_attributes(G_gwab2k_seeds,'weight')).loc[G_gwab2k_seeds.edges()].tolist()\n",
    "edge_info = pd.DataFrame({'edge1':e1,'edge2':e2,'weight':w})\n",
    "edge_info.head()\n",
    "# edge_info.to_csv('2KGWAB/G_netprop_2KGWAB_edges_'+seed_type+'.tsv',sep='\\t') # save the edges"
   ]
  },
  {
   "cell_type": "code",
   "execution_count": 29,
   "metadata": {},
   "outputs": [
    {
     "data": {
      "text/plain": [
       "ZNF132    0\n",
       "CHST6     0\n",
       "ZIC1      1\n",
       "LCK       2\n",
       "VCAM1     3\n",
       "dtype: int64"
      ]
     },
     "execution_count": 29,
     "metadata": {},
     "output_type": "execute_result"
    }
   ],
   "source": [
    "# genes with degree 0\n",
    "pd.Series(nx.degree(G_gwab2k_seeds)).sort_values().head()"
   ]
  },
  {
   "cell_type": "code",
   "execution_count": null,
   "metadata": {},
   "outputs": [],
   "source": [
    "# save out the top 2000 nodes with annotations, at vipavee's request (11/16/20)"
   ]
  },
  {
   "cell_type": "code",
   "execution_count": 30,
   "metadata": {},
   "outputs": [
    {
     "name": "stdout",
     "output_type": "stream",
     "text": [
      "2000\n",
      "241.0\n"
     ]
    },
    {
     "data": {
      "text/html": [
       "<div>\n",
       "<style scoped>\n",
       "    .dataframe tbody tr th:only-of-type {\n",
       "        vertical-align: middle;\n",
       "    }\n",
       "\n",
       "    .dataframe tbody tr th {\n",
       "        vertical-align: top;\n",
       "    }\n",
       "\n",
       "    .dataframe thead th {\n",
       "        text-align: right;\n",
       "    }\n",
       "</style>\n",
       "<table border=\"1\" class=\"dataframe\">\n",
       "  <thead>\n",
       "    <tr style=\"text-align: right;\">\n",
       "      <th></th>\n",
       "      <th>net_prop</th>\n",
       "      <th>log_net_prop</th>\n",
       "      <th>seed_gene</th>\n",
       "      <th>DE_RNAseq</th>\n",
       "      <th>vegas_genes</th>\n",
       "      <th>netwas_genes</th>\n",
       "      <th>gwab_genes</th>\n",
       "    </tr>\n",
       "  </thead>\n",
       "  <tbody>\n",
       "    <tr>\n",
       "      <th>IL17RC</th>\n",
       "      <td>0.015857</td>\n",
       "      <td>-4.144125</td>\n",
       "      <td>1.0</td>\n",
       "      <td>1.0</td>\n",
       "      <td>0.0</td>\n",
       "      <td>0.0</td>\n",
       "      <td>0.0</td>\n",
       "    </tr>\n",
       "    <tr>\n",
       "      <th>BGN</th>\n",
       "      <td>0.015617</td>\n",
       "      <td>-4.159392</td>\n",
       "      <td>1.0</td>\n",
       "      <td>1.0</td>\n",
       "      <td>0.0</td>\n",
       "      <td>0.0</td>\n",
       "      <td>0.0</td>\n",
       "    </tr>\n",
       "    <tr>\n",
       "      <th>POU3F1</th>\n",
       "      <td>0.015064</td>\n",
       "      <td>-4.195454</td>\n",
       "      <td>1.0</td>\n",
       "      <td>1.0</td>\n",
       "      <td>0.0</td>\n",
       "      <td>0.0</td>\n",
       "      <td>0.0</td>\n",
       "    </tr>\n",
       "    <tr>\n",
       "      <th>MMP14</th>\n",
       "      <td>0.015053</td>\n",
       "      <td>-4.196172</td>\n",
       "      <td>1.0</td>\n",
       "      <td>1.0</td>\n",
       "      <td>0.0</td>\n",
       "      <td>0.0</td>\n",
       "      <td>0.0</td>\n",
       "    </tr>\n",
       "    <tr>\n",
       "      <th>SLC2A1</th>\n",
       "      <td>0.015023</td>\n",
       "      <td>-4.198195</td>\n",
       "      <td>1.0</td>\n",
       "      <td>1.0</td>\n",
       "      <td>0.0</td>\n",
       "      <td>0.0</td>\n",
       "      <td>0.0</td>\n",
       "    </tr>\n",
       "    <tr>\n",
       "      <th>PTP4A3</th>\n",
       "      <td>0.015007</td>\n",
       "      <td>-4.199257</td>\n",
       "      <td>1.0</td>\n",
       "      <td>1.0</td>\n",
       "      <td>1.0</td>\n",
       "      <td>0.0</td>\n",
       "      <td>0.0</td>\n",
       "    </tr>\n",
       "    <tr>\n",
       "      <th>HEY1</th>\n",
       "      <td>0.015005</td>\n",
       "      <td>-4.199382</td>\n",
       "      <td>1.0</td>\n",
       "      <td>1.0</td>\n",
       "      <td>0.0</td>\n",
       "      <td>0.0</td>\n",
       "      <td>0.0</td>\n",
       "    </tr>\n",
       "    <tr>\n",
       "      <th>TBX1</th>\n",
       "      <td>0.014988</td>\n",
       "      <td>-4.200490</td>\n",
       "      <td>1.0</td>\n",
       "      <td>1.0</td>\n",
       "      <td>0.0</td>\n",
       "      <td>0.0</td>\n",
       "      <td>0.0</td>\n",
       "    </tr>\n",
       "    <tr>\n",
       "      <th>MXRA5</th>\n",
       "      <td>0.014978</td>\n",
       "      <td>-4.201194</td>\n",
       "      <td>1.0</td>\n",
       "      <td>1.0</td>\n",
       "      <td>0.0</td>\n",
       "      <td>0.0</td>\n",
       "      <td>0.0</td>\n",
       "    </tr>\n",
       "    <tr>\n",
       "      <th>DLC1</th>\n",
       "      <td>0.014973</td>\n",
       "      <td>-4.201515</td>\n",
       "      <td>1.0</td>\n",
       "      <td>1.0</td>\n",
       "      <td>0.0</td>\n",
       "      <td>0.0</td>\n",
       "      <td>0.0</td>\n",
       "    </tr>\n",
       "    <tr>\n",
       "      <th>PRKD1</th>\n",
       "      <td>0.014973</td>\n",
       "      <td>-4.201517</td>\n",
       "      <td>1.0</td>\n",
       "      <td>1.0</td>\n",
       "      <td>0.0</td>\n",
       "      <td>0.0</td>\n",
       "      <td>1.0</td>\n",
       "    </tr>\n",
       "    <tr>\n",
       "      <th>TPM2</th>\n",
       "      <td>0.014939</td>\n",
       "      <td>-4.203770</td>\n",
       "      <td>1.0</td>\n",
       "      <td>1.0</td>\n",
       "      <td>0.0</td>\n",
       "      <td>0.0</td>\n",
       "      <td>0.0</td>\n",
       "    </tr>\n",
       "    <tr>\n",
       "      <th>COL16A1</th>\n",
       "      <td>0.014935</td>\n",
       "      <td>-4.204075</td>\n",
       "      <td>1.0</td>\n",
       "      <td>1.0</td>\n",
       "      <td>0.0</td>\n",
       "      <td>0.0</td>\n",
       "      <td>0.0</td>\n",
       "    </tr>\n",
       "    <tr>\n",
       "      <th>IGFBP3</th>\n",
       "      <td>0.014934</td>\n",
       "      <td>-4.204147</td>\n",
       "      <td>1.0</td>\n",
       "      <td>1.0</td>\n",
       "      <td>0.0</td>\n",
       "      <td>0.0</td>\n",
       "      <td>0.0</td>\n",
       "    </tr>\n",
       "    <tr>\n",
       "      <th>PDGFA</th>\n",
       "      <td>0.014924</td>\n",
       "      <td>-4.204782</td>\n",
       "      <td>1.0</td>\n",
       "      <td>1.0</td>\n",
       "      <td>0.0</td>\n",
       "      <td>0.0</td>\n",
       "      <td>0.0</td>\n",
       "    </tr>\n",
       "  </tbody>\n",
       "</table>\n",
       "</div>"
      ],
      "text/plain": [
       "         net_prop  log_net_prop  seed_gene  DE_RNAseq  vegas_genes  \\\n",
       "IL17RC   0.015857     -4.144125        1.0        1.0          0.0   \n",
       "BGN      0.015617     -4.159392        1.0        1.0          0.0   \n",
       "POU3F1   0.015064     -4.195454        1.0        1.0          0.0   \n",
       "MMP14    0.015053     -4.196172        1.0        1.0          0.0   \n",
       "SLC2A1   0.015023     -4.198195        1.0        1.0          0.0   \n",
       "PTP4A3   0.015007     -4.199257        1.0        1.0          1.0   \n",
       "HEY1     0.015005     -4.199382        1.0        1.0          0.0   \n",
       "TBX1     0.014988     -4.200490        1.0        1.0          0.0   \n",
       "MXRA5    0.014978     -4.201194        1.0        1.0          0.0   \n",
       "DLC1     0.014973     -4.201515        1.0        1.0          0.0   \n",
       "PRKD1    0.014973     -4.201517        1.0        1.0          0.0   \n",
       "TPM2     0.014939     -4.203770        1.0        1.0          0.0   \n",
       "COL16A1  0.014935     -4.204075        1.0        1.0          0.0   \n",
       "IGFBP3   0.014934     -4.204147        1.0        1.0          0.0   \n",
       "PDGFA    0.014924     -4.204782        1.0        1.0          0.0   \n",
       "\n",
       "         netwas_genes  gwab_genes  \n",
       "IL17RC            0.0         0.0  \n",
       "BGN               0.0         0.0  \n",
       "POU3F1            0.0         0.0  \n",
       "MMP14             0.0         0.0  \n",
       "SLC2A1            0.0         0.0  \n",
       "PTP4A3            0.0         0.0  \n",
       "HEY1              0.0         0.0  \n",
       "TBX1              0.0         0.0  \n",
       "MXRA5             0.0         0.0  \n",
       "DLC1              0.0         0.0  \n",
       "PRKD1             0.0         1.0  \n",
       "TPM2              0.0         0.0  \n",
       "COL16A1           0.0         0.0  \n",
       "IGFBP3            0.0         0.0  \n",
       "PDGFA             0.0         0.0  "
      ]
     },
     "execution_count": 30,
     "metadata": {},
     "output_type": "execute_result"
    }
   ],
   "source": [
    "Fnew = Fnew.sort_values(ascending=False)\n",
    "\n",
    "nodes_table_2k_full = pd.DataFrame(index=Fnew.head(2000).index.tolist())\n",
    "nodes_table_2k_full['net_prop']=Fnew.head(2000)\n",
    "nodes_table_2k_full['log_net_prop']=np.log(Fnew.head(2000))\n",
    "\n",
    "nodes_table_2k_full['seed_gene']=np.zeros(len(nodes_table_2k_full))\n",
    "nodes_table_2k_full['seed_gene'].loc[np.intersect1d(seed_nodes,Fnew.head(2000).index.tolist())]=1.0 # make sure the DE genes are in the graph\n",
    "\n",
    "nodes_table_2k_full['DE_RNAseq']=np.zeros(len(nodes_table_2k_full))\n",
    "nodes_table_2k_full['DE_RNAseq'].loc[np.intersect1d(DE_genes,Fnew.head(2000).index.tolist())]=1.0 # make sure the DE genes are in the graph\n",
    "\n",
    "nodes_table_2k_full['vegas_genes']=np.zeros(len(nodes_table_2k_full))\n",
    "nodes_table_2k_full['vegas_genes'].loc[np.intersect1d(vegas_genes,Fnew.head(2000).index.tolist())]=1.0\n",
    "\n",
    "nodes_table_2k_full['netwas_genes']=np.zeros(len(nodes_table_2k_full))\n",
    "nodes_table_2k_full['netwas_genes'].loc[np.intersect1d(netwas_genes,Fnew.head(2000).index.tolist())]=1.0\n",
    "\n",
    "nodes_table_2k_full['gwab_genes']=np.zeros(len(nodes_table_2k_full))\n",
    "nodes_table_2k_full['gwab_genes'].loc[np.intersect1d(gwab_genes,Fnew.head(2000).index.tolist())]=1.0\n",
    "\n",
    "nodes_table_2k_full = nodes_table_2k_full.sort_values('net_prop',ascending=False)\n",
    "\n",
    "# nodes_table_2k_full.to_csv('2KGWAB/G_netprop_2K_nodes_'+seed_type+'_5percent_201118.tsv',sep='\\t')\n",
    "print(len(nodes_table_2k_full))\n",
    "print(nodes_table_2k_full['gwab_genes'].sum())\n",
    "nodes_table_2k_full.head(15)"
   ]
  },
  {
   "cell_type": "code",
   "execution_count": 33,
   "metadata": {},
   "outputs": [
    {
     "data": {
      "text/plain": [
       "241.0"
      ]
     },
     "execution_count": 33,
     "metadata": {},
     "output_type": "execute_result"
    }
   ],
   "source": [
    "# nodes_table_2k_full['gwab_genes'].sum()"
   ]
  },
  {
   "cell_type": "code",
   "execution_count": null,
   "metadata": {},
   "outputs": [],
   "source": []
  },
  {
   "cell_type": "markdown",
   "metadata": {},
   "source": [
    "# Save out the top 500 genes for visualization in cytoscape"
   ]
  },
  {
   "cell_type": "code",
   "execution_count": 31,
   "metadata": {},
   "outputs": [
    {
     "name": "stdout",
     "output_type": "stream",
     "text": [
      "500\n",
      "25020\n"
     ]
    }
   ],
   "source": [
    "topN=500\n",
    "\n",
    "G_netprop = nx.subgraph(Gint,Fnew.head(topN).index.tolist())\n",
    "print(len(G_netprop.nodes()))\n",
    "print(len(G_netprop.edges()))"
   ]
  },
  {
   "cell_type": "code",
   "execution_count": 32,
   "metadata": {},
   "outputs": [
    {
     "data": {
      "text/plain": [
       "0    236\n",
       "1    168\n",
       "2     96\n",
       "dtype: int64"
      ]
     },
     "execution_count": 32,
     "metadata": {},
     "output_type": "execute_result"
    }
   ],
   "source": [
    "# note there is some stochasticity in the clustering algorithm... results may differ slightly from run to run\n",
    "partition = community.best_partition(G_netprop)\n",
    "pd.Series(partition).value_counts()"
   ]
  },
  {
   "cell_type": "code",
   "execution_count": null,
   "metadata": {},
   "outputs": [],
   "source": []
  },
  {
   "cell_type": "code",
   "execution_count": 31,
   "metadata": {},
   "outputs": [],
   "source": [
    "# save the partition\n",
    "#pd.Series(partition).to_csv('partition_41_DE_genes_netprop_500.tsv',sep='\\t')"
   ]
  },
  {
   "cell_type": "code",
   "execution_count": null,
   "metadata": {},
   "outputs": [],
   "source": []
  },
  {
   "cell_type": "code",
   "execution_count": 33,
   "metadata": {},
   "outputs": [
    {
     "data": {
      "text/html": [
       "<div>\n",
       "<style scoped>\n",
       "    .dataframe tbody tr th:only-of-type {\n",
       "        vertical-align: middle;\n",
       "    }\n",
       "\n",
       "    .dataframe tbody tr th {\n",
       "        vertical-align: top;\n",
       "    }\n",
       "\n",
       "    .dataframe thead th {\n",
       "        text-align: right;\n",
       "    }\n",
       "</style>\n",
       "<table border=\"1\" class=\"dataframe\">\n",
       "  <thead>\n",
       "    <tr style=\"text-align: right;\">\n",
       "      <th></th>\n",
       "      <th>net_prop</th>\n",
       "      <th>log_net_prop</th>\n",
       "      <th>seed_gene</th>\n",
       "      <th>DE_RNAseq</th>\n",
       "      <th>vegas_genes</th>\n",
       "      <th>netwas_genes</th>\n",
       "      <th>gwab_genes</th>\n",
       "    </tr>\n",
       "  </thead>\n",
       "  <tbody>\n",
       "    <tr>\n",
       "      <th>IL17RC</th>\n",
       "      <td>0.015857</td>\n",
       "      <td>-4.144125</td>\n",
       "      <td>1.0</td>\n",
       "      <td>1.0</td>\n",
       "      <td>0.0</td>\n",
       "      <td>0.0</td>\n",
       "      <td>0.0</td>\n",
       "    </tr>\n",
       "    <tr>\n",
       "      <th>BGN</th>\n",
       "      <td>0.015617</td>\n",
       "      <td>-4.159392</td>\n",
       "      <td>1.0</td>\n",
       "      <td>1.0</td>\n",
       "      <td>0.0</td>\n",
       "      <td>0.0</td>\n",
       "      <td>0.0</td>\n",
       "    </tr>\n",
       "    <tr>\n",
       "      <th>POU3F1</th>\n",
       "      <td>0.015064</td>\n",
       "      <td>-4.195454</td>\n",
       "      <td>1.0</td>\n",
       "      <td>1.0</td>\n",
       "      <td>0.0</td>\n",
       "      <td>0.0</td>\n",
       "      <td>0.0</td>\n",
       "    </tr>\n",
       "    <tr>\n",
       "      <th>MMP14</th>\n",
       "      <td>0.015053</td>\n",
       "      <td>-4.196172</td>\n",
       "      <td>1.0</td>\n",
       "      <td>1.0</td>\n",
       "      <td>0.0</td>\n",
       "      <td>0.0</td>\n",
       "      <td>0.0</td>\n",
       "    </tr>\n",
       "    <tr>\n",
       "      <th>SLC2A1</th>\n",
       "      <td>0.015023</td>\n",
       "      <td>-4.198195</td>\n",
       "      <td>1.0</td>\n",
       "      <td>1.0</td>\n",
       "      <td>0.0</td>\n",
       "      <td>0.0</td>\n",
       "      <td>0.0</td>\n",
       "    </tr>\n",
       "    <tr>\n",
       "      <th>PTP4A3</th>\n",
       "      <td>0.015007</td>\n",
       "      <td>-4.199257</td>\n",
       "      <td>1.0</td>\n",
       "      <td>1.0</td>\n",
       "      <td>1.0</td>\n",
       "      <td>0.0</td>\n",
       "      <td>0.0</td>\n",
       "    </tr>\n",
       "    <tr>\n",
       "      <th>HEY1</th>\n",
       "      <td>0.015005</td>\n",
       "      <td>-4.199382</td>\n",
       "      <td>1.0</td>\n",
       "      <td>1.0</td>\n",
       "      <td>0.0</td>\n",
       "      <td>0.0</td>\n",
       "      <td>0.0</td>\n",
       "    </tr>\n",
       "    <tr>\n",
       "      <th>TBX1</th>\n",
       "      <td>0.014988</td>\n",
       "      <td>-4.200490</td>\n",
       "      <td>1.0</td>\n",
       "      <td>1.0</td>\n",
       "      <td>0.0</td>\n",
       "      <td>0.0</td>\n",
       "      <td>0.0</td>\n",
       "    </tr>\n",
       "    <tr>\n",
       "      <th>MXRA5</th>\n",
       "      <td>0.014978</td>\n",
       "      <td>-4.201194</td>\n",
       "      <td>1.0</td>\n",
       "      <td>1.0</td>\n",
       "      <td>0.0</td>\n",
       "      <td>0.0</td>\n",
       "      <td>0.0</td>\n",
       "    </tr>\n",
       "    <tr>\n",
       "      <th>DLC1</th>\n",
       "      <td>0.014973</td>\n",
       "      <td>-4.201515</td>\n",
       "      <td>1.0</td>\n",
       "      <td>1.0</td>\n",
       "      <td>0.0</td>\n",
       "      <td>0.0</td>\n",
       "      <td>0.0</td>\n",
       "    </tr>\n",
       "    <tr>\n",
       "      <th>PRKD1</th>\n",
       "      <td>0.014973</td>\n",
       "      <td>-4.201517</td>\n",
       "      <td>1.0</td>\n",
       "      <td>1.0</td>\n",
       "      <td>0.0</td>\n",
       "      <td>0.0</td>\n",
       "      <td>1.0</td>\n",
       "    </tr>\n",
       "    <tr>\n",
       "      <th>TPM2</th>\n",
       "      <td>0.014939</td>\n",
       "      <td>-4.203770</td>\n",
       "      <td>1.0</td>\n",
       "      <td>1.0</td>\n",
       "      <td>0.0</td>\n",
       "      <td>0.0</td>\n",
       "      <td>0.0</td>\n",
       "    </tr>\n",
       "    <tr>\n",
       "      <th>COL16A1</th>\n",
       "      <td>0.014935</td>\n",
       "      <td>-4.204075</td>\n",
       "      <td>1.0</td>\n",
       "      <td>1.0</td>\n",
       "      <td>0.0</td>\n",
       "      <td>0.0</td>\n",
       "      <td>0.0</td>\n",
       "    </tr>\n",
       "    <tr>\n",
       "      <th>IGFBP3</th>\n",
       "      <td>0.014934</td>\n",
       "      <td>-4.204147</td>\n",
       "      <td>1.0</td>\n",
       "      <td>1.0</td>\n",
       "      <td>0.0</td>\n",
       "      <td>0.0</td>\n",
       "      <td>0.0</td>\n",
       "    </tr>\n",
       "    <tr>\n",
       "      <th>PDGFA</th>\n",
       "      <td>0.014924</td>\n",
       "      <td>-4.204782</td>\n",
       "      <td>1.0</td>\n",
       "      <td>1.0</td>\n",
       "      <td>0.0</td>\n",
       "      <td>0.0</td>\n",
       "      <td>0.0</td>\n",
       "    </tr>\n",
       "  </tbody>\n",
       "</table>\n",
       "</div>"
      ],
      "text/plain": [
       "         net_prop  log_net_prop  seed_gene  DE_RNAseq  vegas_genes  \\\n",
       "IL17RC   0.015857     -4.144125        1.0        1.0          0.0   \n",
       "BGN      0.015617     -4.159392        1.0        1.0          0.0   \n",
       "POU3F1   0.015064     -4.195454        1.0        1.0          0.0   \n",
       "MMP14    0.015053     -4.196172        1.0        1.0          0.0   \n",
       "SLC2A1   0.015023     -4.198195        1.0        1.0          0.0   \n",
       "PTP4A3   0.015007     -4.199257        1.0        1.0          1.0   \n",
       "HEY1     0.015005     -4.199382        1.0        1.0          0.0   \n",
       "TBX1     0.014988     -4.200490        1.0        1.0          0.0   \n",
       "MXRA5    0.014978     -4.201194        1.0        1.0          0.0   \n",
       "DLC1     0.014973     -4.201515        1.0        1.0          0.0   \n",
       "PRKD1    0.014973     -4.201517        1.0        1.0          0.0   \n",
       "TPM2     0.014939     -4.203770        1.0        1.0          0.0   \n",
       "COL16A1  0.014935     -4.204075        1.0        1.0          0.0   \n",
       "IGFBP3   0.014934     -4.204147        1.0        1.0          0.0   \n",
       "PDGFA    0.014924     -4.204782        1.0        1.0          0.0   \n",
       "\n",
       "         netwas_genes  gwab_genes  \n",
       "IL17RC            0.0         0.0  \n",
       "BGN               0.0         0.0  \n",
       "POU3F1            0.0         0.0  \n",
       "MMP14             0.0         0.0  \n",
       "SLC2A1            0.0         0.0  \n",
       "PTP4A3            0.0         0.0  \n",
       "HEY1              0.0         0.0  \n",
       "TBX1              0.0         0.0  \n",
       "MXRA5             0.0         0.0  \n",
       "DLC1              0.0         0.0  \n",
       "PRKD1             0.0         1.0  \n",
       "TPM2              0.0         0.0  \n",
       "COL16A1           0.0         0.0  \n",
       "IGFBP3            0.0         0.0  \n",
       "PDGFA             0.0         0.0  "
      ]
     },
     "execution_count": 33,
     "metadata": {},
     "output_type": "execute_result"
    }
   ],
   "source": [
    "nodes_table = pd.DataFrame(index=G_netprop.nodes())\n",
    "nodes_table['net_prop']=Fnew.head(topN)\n",
    "nodes_table['log_net_prop']=np.log(Fnew.head(topN))\n",
    "\n",
    "nodes_table['seed_gene']=np.zeros(len(nodes_table))\n",
    "nodes_table['seed_gene'].loc[np.intersect1d(seed_nodes,G_netprop.nodes())]=1.0 # make sure the DE genes are in the graph\n",
    "\n",
    "nodes_table['DE_RNAseq']=np.zeros(len(nodes_table))\n",
    "nodes_table['DE_RNAseq'].loc[np.intersect1d(DE_genes,G_netprop.nodes())]=1.0 # make sure the DE genes are in the graph\n",
    "\n",
    "nodes_table['vegas_genes']=np.zeros(len(nodes_table))\n",
    "nodes_table['vegas_genes'].loc[np.intersect1d(vegas_genes,G_netprop.nodes())]=1.0\n",
    "\n",
    "nodes_table['netwas_genes']=np.zeros(len(nodes_table))\n",
    "nodes_table['netwas_genes'].loc[np.intersect1d(netwas_genes,G_netprop.nodes())]=1.0\n",
    "\n",
    "nodes_table['gwab_genes']=np.zeros(len(nodes_table))\n",
    "nodes_table['gwab_genes'].loc[np.intersect1d(gwab_genes,G_netprop.nodes())]=1.0\n",
    "\n",
    "nodes_table = nodes_table.sort_values('net_prop',ascending=False)\n",
    "\n",
    "# nodes_table.to_csv('G_netprop_nodes_'+seed_type+'_'+str(topN)+'_5percent_190708.tsv',sep='\\t')\n",
    "\n",
    "nodes_table.head(15)"
   ]
  },
  {
   "cell_type": "code",
   "execution_count": 34,
   "metadata": {},
   "outputs": [
    {
     "data": {
      "text/plain": [
       "36.0"
      ]
     },
     "execution_count": 34,
     "metadata": {},
     "output_type": "execute_result"
    }
   ],
   "source": [
    "sum(nodes_table['vegas_genes'])"
   ]
  },
  {
   "cell_type": "code",
   "execution_count": 35,
   "metadata": {},
   "outputs": [],
   "source": [
    "# make the edge_info table\n",
    "\n",
    "[e1,e2] = zip(*G_netprop.edges())\n",
    "w = pd.Series(nx.get_edge_attributes(G_netprop,'weight')).loc[G_netprop.edges()].tolist()\n",
    "edge_info = pd.DataFrame({'edge1':e1,'edge2':e2,'weight':w})\n",
    "# edge_info.to_csv('G_netprop_edges_'+seed_type+'_'+str(topN)+'.tsv',sep='\\t') # save the edges"
   ]
  },
  {
   "cell_type": "code",
   "execution_count": 36,
   "metadata": {},
   "outputs": [
    {
     "data": {
      "text/plain": [
       "net_prop          0.141461\n",
       "log_net_prop   -982.188402\n",
       "seed_gene         6.000000\n",
       "DE_RNAseq         6.000000\n",
       "vegas_genes      36.000000\n",
       "netwas_genes     33.000000\n",
       "gwab_genes       73.000000\n",
       "dtype: float64"
      ]
     },
     "execution_count": 36,
     "metadata": {},
     "output_type": "execute_result"
    }
   ],
   "source": [
    "# print out the recovered genes\n",
    "nodes_table[(nodes_table['vegas_genes']==1)|(nodes_table['netwas_genes']==1)|(nodes_table['gwab_genes']==1)].sum()"
   ]
  },
  {
   "cell_type": "code",
   "execution_count": null,
   "metadata": {
    "collapsed": true
   },
   "outputs": [],
   "source": []
  },
  {
   "cell_type": "markdown",
   "metadata": {},
   "source": [
    "# Gprofiler annotation of clusters"
   ]
  },
  {
   "cell_type": "code",
   "execution_count": 38,
   "metadata": {},
   "outputs": [],
   "source": [
    "from gprofiler import GProfiler\n",
    "gp = GProfiler(\"MyToolName/0.1\")"
   ]
  },
  {
   "cell_type": "code",
   "execution_count": 39,
   "metadata": {},
   "outputs": [
    {
     "data": {
      "text/plain": [
       "0    236\n",
       "1    168\n",
       "2     96\n",
       "dtype: int64"
      ]
     },
     "execution_count": 39,
     "metadata": {},
     "output_type": "execute_result"
    }
   ],
   "source": [
    "partition = pd.Series(partition)\n",
    "partition.value_counts()"
   ]
  },
  {
   "cell_type": "code",
   "execution_count": 40,
   "metadata": {},
   "outputs": [
    {
     "name": "stdout",
     "output_type": "stream",
     "text": [
      "0\n",
      "        p.value     term.id                                    term.name\n",
      "0  4.880000e-12  GO:0062023     collagen-containing extracellular matrix\n",
      "1  3.720000e-10  GO:0031012                         extracellular matrix\n",
      "2  5.060000e-06  GO:0043062         extracellular structure organization\n",
      "3  5.060000e-06  GO:0030198            extracellular matrix organization\n",
      "4  5.060000e-06  GO:0005201  extracellular matrix structural constituent\n",
      "1\n",
      "    p.value            term.id                              term.name\n",
      "0  0.000178  REAC:R-HSA-112315  Transmission across Chemical Synapses\n",
      "1  0.000178  REAC:R-HSA-112316                        Neuronal System\n",
      "2  0.000178  REAC:R-HSA-388396             GPCR downstream signalling\n",
      "3  0.000283         GO:0007610                               behavior\n",
      "4  0.000283         GO:0099537               trans-synaptic signaling\n",
      "2\n",
      "   p.value             term.id                             term.name\n",
      "0   0.0183  REAC:R-HSA-6809371   Formation of the cornified envelope\n",
      "1   0.0183  REAC:R-HSA-6805567                        Keratinization\n",
      "2   0.0261          GO:0030057                             desmosome\n",
      "3   0.0261          GO:0031424                        keratinization\n",
      "4   0.0261          GO:0098632  cell-cell adhesion mediator activity\n"
     ]
    }
   ],
   "source": [
    "import os\n",
    "\n",
    "savedir_gprofile = 'gprofile_clusters_top'+str(topN)\n",
    "if not os.path.isdir(savedir_gprofile):\n",
    "    os.mkdir(savedir_gprofile)\n",
    "\n",
    "\n",
    "for focal_cluster in partition.value_counts().index.tolist():\n",
    "    print(focal_cluster)\n",
    "    focal_genes = partition[partition==focal_cluster].index.tolist()\n",
    "\n",
    "    gp_results = pd.DataFrame(gp.gprofile(focal_genes,custom_bg = partition.index.tolist(),correction_method=gp.THR_FDR))\n",
    "    \n",
    "    if len(gp_results)>0:\n",
    "        gp_results.columns = [\"query.number\", \"significant\", \"p.value\", \"term.size\",\n",
    "                              \"query.size\", \"overlap.size\", \"recall\", \"precision\",\n",
    "                              \"term.id\", \"domain\", \"subgraph.number\", \"term.name\",\n",
    "                              \"relative.depth\", \"intersection\"]\n",
    "        print(gp_results[['p.value','term.id','term.name']].head())\n",
    "\n",
    "#         writer = pd.ExcelWriter(savedir_gprofile+'/cluster_'+str(focal_cluster)+'.xlsx')\n",
    "#         gp_results.to_excel(writer)\n",
    "#         writer.save()"
   ]
  },
  {
   "cell_type": "markdown",
   "metadata": {},
   "source": [
    "# Further network visualization conducted in cytoscape"
   ]
  },
  {
   "cell_type": "code",
   "execution_count": null,
   "metadata": {},
   "outputs": [],
   "source": []
  }
 ],
 "metadata": {
  "kernelspec": {
   "display_name": "Python 2",
   "language": "python",
   "name": "python2"
  },
  "language_info": {
   "codemirror_mode": {
    "name": "ipython",
    "version": 2
   },
   "file_extension": ".py",
   "mimetype": "text/x-python",
   "name": "python",
   "nbconvert_exporter": "python",
   "pygments_lexer": "ipython2",
   "version": "2.7.17"
  }
 },
 "nbformat": 4,
 "nbformat_minor": 1
}
