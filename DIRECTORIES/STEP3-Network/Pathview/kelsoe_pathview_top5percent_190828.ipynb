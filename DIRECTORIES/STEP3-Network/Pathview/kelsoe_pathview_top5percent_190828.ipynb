{
 "cells": [
  {
   "cell_type": "markdown",
   "metadata": {},
   "source": [
    "# Plot the differentially expressed genes on some significant pathways\n"
   ]
  },
  {
   "cell_type": "code",
   "execution_count": 5,
   "metadata": {
    "scrolled": true
   },
   "outputs": [
    {
     "name": "stderr",
     "output_type": "stream",
     "text": [
      "Loading required package: org.Hs.eg.db\n",
      "\n",
      "Loading required package: AnnotationDbi\n",
      "\n",
      "Loading required package: stats4\n",
      "\n",
      "Loading required package: BiocGenerics\n",
      "\n",
      "Loading required package: parallel\n",
      "\n",
      "\n",
      "Attaching package: ‘BiocGenerics’\n",
      "\n",
      "\n",
      "The following objects are masked from ‘package:parallel’:\n",
      "\n",
      "    clusterApply, clusterApplyLB, clusterCall, clusterEvalQ,\n",
      "    clusterExport, clusterMap, parApply, parCapply, parLapply,\n",
      "    parLapplyLB, parRapply, parSapply, parSapplyLB\n",
      "\n",
      "\n",
      "The following objects are masked from ‘package:stats’:\n",
      "\n",
      "    IQR, mad, sd, var, xtabs\n",
      "\n",
      "\n",
      "The following objects are masked from ‘package:base’:\n",
      "\n",
      "    anyDuplicated, append, as.data.frame, basename, cbind, colnames,\n",
      "    dirname, do.call, duplicated, eval, evalq, Filter, Find, get, grep,\n",
      "    grepl, intersect, is.unsorted, lapply, Map, mapply, match, mget,\n",
      "    order, paste, pmax, pmax.int, pmin, pmin.int, Position, rank,\n",
      "    rbind, Reduce, rownames, sapply, setdiff, sort, table, tapply,\n",
      "    union, unique, unsplit, which, which.max, which.min\n",
      "\n",
      "\n",
      "Loading required package: Biobase\n",
      "\n",
      "Welcome to Bioconductor\n",
      "\n",
      "    Vignettes contain introductory material; view with\n",
      "    'browseVignettes()'. To cite Bioconductor, see\n",
      "    'citation(\"Biobase\")', and for packages 'citation(\"pkgname\")'.\n",
      "\n",
      "\n",
      "Loading required package: IRanges\n",
      "\n",
      "Loading required package: S4Vectors\n",
      "\n",
      "Warning message:\n",
      "“package ‘S4Vectors’ was built under R version 3.6.3”\n",
      "\n",
      "Attaching package: ‘S4Vectors’\n",
      "\n",
      "\n",
      "The following object is masked from ‘package:base’:\n",
      "\n",
      "    expand.grid\n",
      "\n",
      "\n",
      "\n",
      "\n",
      "##############################################################################\n",
      "Pathview is an open source software package distributed under GNU General\n",
      "Public License version 3 (GPLv3). Details of GPLv3 is available at\n",
      "http://www.gnu.org/licenses/gpl-3.0.html. Particullary, users are required to\n",
      "formally cite the original Pathview paper (not just mention it) in publications\n",
      "or products. For details, do citation(\"pathview\") within R.\n",
      "\n",
      "The pathview downloads and uses KEGG data. Non-academic uses may require a KEGG\n",
      "license agreement (details at http://www.kegg.jp/kegg/legal.html).\n",
      "##############################################################################\n",
      "\n"
     ]
    }
   ],
   "source": [
    "library(pathview)"
   ]
  },
  {
   "cell_type": "code",
   "execution_count": 1,
   "metadata": {},
   "outputs": [
    {
     "data": {
      "text/html": [
       "<style>\n",
       ".list-inline {list-style: none; margin:0; padding: 0}\n",
       ".list-inline>li {display: inline-block}\n",
       ".list-inline>li:not(:last-child)::after {content: \"\\00b7\"; padding: 0 .5ex}\n",
       "</style>\n",
       "<ol class=list-inline><li>500</li><li>7</li></ol>\n"
      ],
      "text/latex": [
       "\\begin{enumerate*}\n",
       "\\item 500\n",
       "\\item 7\n",
       "\\end{enumerate*}\n"
      ],
      "text/markdown": [
       "1. 500\n",
       "2. 7\n",
       "\n",
       "\n"
      ],
      "text/plain": [
       "[1] 500   7"
      ]
     },
     "metadata": {},
     "output_type": "display_data"
    },
    {
     "data": {
      "text/html": [
       "<table>\n",
       "<caption>A data.frame: 6 × 1</caption>\n",
       "<thead>\n",
       "\t<tr><th></th><th scope=col>genes_temp.log_net_prop</th></tr>\n",
       "\t<tr><th></th><th scope=col>&lt;dbl&gt;</th></tr>\n",
       "</thead>\n",
       "<tbody>\n",
       "\t<tr><th scope=row>IL17RC</th><td>-4.144125</td></tr>\n",
       "\t<tr><th scope=row>BGN</th><td>-4.159392</td></tr>\n",
       "\t<tr><th scope=row>POU3F1</th><td>-4.195454</td></tr>\n",
       "\t<tr><th scope=row>MMP14</th><td>-4.196172</td></tr>\n",
       "\t<tr><th scope=row>SLC2A1</th><td>-4.198195</td></tr>\n",
       "\t<tr><th scope=row>PTP4A3</th><td>-4.199257</td></tr>\n",
       "</tbody>\n",
       "</table>\n"
      ],
      "text/latex": [
       "A data.frame: 6 × 1\n",
       "\\begin{tabular}{r|l}\n",
       "  & genes\\_temp.log\\_net\\_prop\\\\\n",
       "  & <dbl>\\\\\n",
       "\\hline\n",
       "\tIL17RC & -4.144125\\\\\n",
       "\tBGN & -4.159392\\\\\n",
       "\tPOU3F1 & -4.195454\\\\\n",
       "\tMMP14 & -4.196172\\\\\n",
       "\tSLC2A1 & -4.198195\\\\\n",
       "\tPTP4A3 & -4.199257\\\\\n",
       "\\end{tabular}\n"
      ],
      "text/markdown": [
       "\n",
       "A data.frame: 6 × 1\n",
       "\n",
       "| <!--/--> | genes_temp.log_net_prop &lt;dbl&gt; |\n",
       "|---|---|\n",
       "| IL17RC | -4.144125 |\n",
       "| BGN | -4.159392 |\n",
       "| POU3F1 | -4.195454 |\n",
       "| MMP14 | -4.196172 |\n",
       "| SLC2A1 | -4.198195 |\n",
       "| PTP4A3 | -4.199257 |\n",
       "\n"
      ],
      "text/plain": [
       "       genes_temp.log_net_prop\n",
       "IL17RC -4.144125              \n",
       "BGN    -4.159392              \n",
       "POU3F1 -4.195454              \n",
       "MMP14  -4.196172              \n",
       "SLC2A1 -4.198195              \n",
       "PTP4A3 -4.199257              "
      ]
     },
     "metadata": {},
     "output_type": "display_data"
    }
   ],
   "source": [
    "# load the sample data\n",
    "#data(gse16873.d)\n",
    "\n",
    "# options for comp_name:\n",
    "# LiLRvsNR\n",
    "# CtrlLRvsNR\n",
    "\n",
    "# comp_name = 'LiLRvsNR'\n",
    "\n",
    "# # load the differentially expressed genes\n",
    "# LFC_temp = read.table(paste('DE_',comp_name,'.tsv',sep=''),sep='\\t',header=TRUE) #,row.names=3\n",
    "# LFC_temp = LFC_temp[!duplicated(LFC_temp$SYMBOL),]\n",
    "# LFC_temp = LFC_temp[LFC_temp$P.Value<0.4,]\n",
    "# LFC_temp = na.omit(LFC_temp)\n",
    "# dim(LFC_temp)\n",
    "# row.names(LFC_temp) = LFC_temp$SYMBOL\n",
    "# LFC_temp = data.frame(LFC_temp$logFC,row.names=LFC_temp$SYMBOL)\n",
    "# head(LFC_temp)\n",
    "\n",
    "\n",
    "# We actually want to visualize the network proximity genes\n",
    "comp_name='netprop_LRvsNR'\n",
    "# this file contains the log(network propagation score), computed in 'network_propagation_lithium_response_GWAB_2000_220414'\n",
    "genes_temp = read.table('G_netprop_nodes_for_pathview.txt',sep='\\t',header=TRUE)\n",
    "dim(genes_temp)\n",
    "row.names(genes_temp)=genes_temp$symbol\n",
    "genes_temp = data.frame(genes_temp$log_net_prop,row.names=genes_temp$symbol)\n",
    "head(genes_temp)\n"
   ]
  },
  {
   "cell_type": "code",
   "execution_count": 2,
   "metadata": {},
   "outputs": [
    {
     "data": {
      "text/html": [
       "-8.475974954"
      ],
      "text/latex": [
       "-8.475974954"
      ],
      "text/markdown": [
       "-8.475974954"
      ],
      "text/plain": [
       "[1] -8.475975"
      ]
     },
     "metadata": {},
     "output_type": "display_data"
    }
   ],
   "source": [
    "min(genes_temp)"
   ]
  },
  {
   "cell_type": "code",
   "execution_count": 7,
   "metadata": {},
   "outputs": [
    {
     "data": {
      "text/html": [
       "<style>\n",
       ".list-inline {list-style: none; margin:0; padding: 0}\n",
       ".list-inline>li {display: inline-block}\n",
       ".list-inline>li:not(:last-child)::after {content: \"\\00b7\"; padding: 0 .5ex}\n",
       "</style>\n",
       "<ol class=list-inline><li>'Beilstein Registry Number'</li><li>'CAS Registry Number'</li><li>'ChEMBL COMPOUND'</li><li>'KEGG COMPOUND accession'</li><li>'KEGG DRUG accession'</li><li>'Patent accession'</li></ol>\n"
      ],
      "text/latex": [
       "\\begin{enumerate*}\n",
       "\\item 'Beilstein Registry Number'\n",
       "\\item 'CAS Registry Number'\n",
       "\\item 'ChEMBL COMPOUND'\n",
       "\\item 'KEGG COMPOUND accession'\n",
       "\\item 'KEGG DRUG accession'\n",
       "\\item 'Patent accession'\n",
       "\\end{enumerate*}\n"
      ],
      "text/markdown": [
       "1. 'Beilstein Registry Number'\n",
       "2. 'CAS Registry Number'\n",
       "3. 'ChEMBL COMPOUND'\n",
       "4. 'KEGG COMPOUND accession'\n",
       "5. 'KEGG DRUG accession'\n",
       "6. 'Patent accession'\n",
       "\n",
       "\n"
      ],
      "text/plain": [
       "[1] \"Beilstein Registry Number\" \"CAS Registry Number\"      \n",
       "[3] \"ChEMBL COMPOUND\"           \"KEGG COMPOUND accession\"  \n",
       "[5] \"KEGG DRUG accession\"       \"Patent accession\"         "
      ]
     },
     "metadata": {},
     "output_type": "display_data"
    },
    {
     "data": {
      "text/html": [
       "<style>\n",
       ".list-inline {list-style: none; margin:0; padding: 0}\n",
       ".list-inline>li {display: inline-block}\n",
       ".list-inline>li:not(:last-child)::after {content: \"\\00b7\"; padding: 0 .5ex}\n",
       "</style>\n",
       "<ol class=list-inline><li>'SYMBOL'</li><li>'GENENAME'</li><li>'ENSEMBL'</li><li>'ENSEMBLPROT'</li><li>'UNIGENE'</li><li>'UNIPROT'</li></ol>\n"
      ],
      "text/latex": [
       "\\begin{enumerate*}\n",
       "\\item 'SYMBOL'\n",
       "\\item 'GENENAME'\n",
       "\\item 'ENSEMBL'\n",
       "\\item 'ENSEMBLPROT'\n",
       "\\item 'UNIGENE'\n",
       "\\item 'UNIPROT'\n",
       "\\end{enumerate*}\n"
      ],
      "text/markdown": [
       "1. 'SYMBOL'\n",
       "2. 'GENENAME'\n",
       "3. 'ENSEMBL'\n",
       "4. 'ENSEMBLPROT'\n",
       "5. 'UNIGENE'\n",
       "6. 'UNIPROT'\n",
       "\n",
       "\n"
      ],
      "text/plain": [
       "[1] \"SYMBOL\"      \"GENENAME\"    \"ENSEMBL\"     \"ENSEMBLPROT\" \"UNIGENE\"    \n",
       "[6] \"UNIPROT\"    "
      ]
     },
     "metadata": {},
     "output_type": "display_data"
    }
   ],
   "source": [
    "head(cpd.simtypes)\n",
    "head(gene.idtype.list)"
   ]
  },
  {
   "cell_type": "code",
   "execution_count": 6,
   "metadata": {},
   "outputs": [
    {
     "data": {
      "text/html": [
       "<style>\n",
       ".list-inline {list-style: none; margin:0; padding: 0}\n",
       ".list-inline>li {display: inline-block}\n",
       ".list-inline>li:not(:last-child)::after {content: \"\\00b7\"; padding: 0 .5ex}\n",
       "</style>\n",
       "<ol class=list-inline><li>'comp_name'</li><li>'cpd.simtypes'</li><li>'demo.paths'</li><li>'gene.idtype.bods'</li><li>'gene.idtype.list'</li><li>'genes_temp'</li><li>'korg'</li><li>'paths.hsa'</li></ol>\n"
      ],
      "text/latex": [
       "\\begin{enumerate*}\n",
       "\\item 'comp\\_name'\n",
       "\\item 'cpd.simtypes'\n",
       "\\item 'demo.paths'\n",
       "\\item 'gene.idtype.bods'\n",
       "\\item 'gene.idtype.list'\n",
       "\\item 'genes\\_temp'\n",
       "\\item 'korg'\n",
       "\\item 'paths.hsa'\n",
       "\\end{enumerate*}\n"
      ],
      "text/markdown": [
       "1. 'comp_name'\n",
       "2. 'cpd.simtypes'\n",
       "3. 'demo.paths'\n",
       "4. 'gene.idtype.bods'\n",
       "5. 'gene.idtype.list'\n",
       "6. 'genes_temp'\n",
       "7. 'korg'\n",
       "8. 'paths.hsa'\n",
       "\n",
       "\n"
      ],
      "text/plain": [
       "[1] \"comp_name\"        \"cpd.simtypes\"     \"demo.paths\"       \"gene.idtype.bods\"\n",
       "[5] \"gene.idtype.list\" \"genes_temp\"       \"korg\"             \"paths.hsa\"       "
      ]
     },
     "metadata": {},
     "output_type": "display_data"
    }
   ],
   "source": [
    "# load the demo_paths\n",
    "data(demo.paths)\n",
    "\n",
    "# load the kegg pathways\n",
    "data(paths.hsa)\n",
    "ls()"
   ]
  },
  {
   "cell_type": "markdown",
   "metadata": {},
   "source": [
    "# Execute the pathview command"
   ]
  },
  {
   "cell_type": "code",
   "execution_count": 14,
   "metadata": {},
   "outputs": [
    {
     "name": "stderr",
     "output_type": "stream",
     "text": [
      "'select()' returned 1:1 mapping between keys and columns\n"
     ]
    },
    {
     "name": "stdout",
     "output_type": "stream",
     "text": [
      "[1] \"Note: 1 of 500 unique input IDs unmapped.\"\n"
     ]
    },
    {
     "name": "stderr",
     "output_type": "stream",
     "text": [
      "Info: Downloading xml files for hsa04060, 1/1 pathways..\n",
      "Info: Downloading png files for hsa04060, 1/1 pathways..\n",
      "'select()' returned 1:1 mapping between keys and columns\n",
      "Info: Working in directory /Users/brin/Google_Drive/UCSD/CCBB_tickets/CTRI/Kelsoe/notebooks/pathview_netprop_41\n",
      "Info: Writing image file hsa04060.netprop_LRvsNR.png\n"
     ]
    }
   ],
   "source": [
    "# focal comparison\n",
    "\n",
    "setwd('pathview_netprop_41/')\n",
    "pv.out = pathview(gene.data=genes_temp,pathway.id = 'hsa04060',species='hsa',out.suffix=comp_name,kegg.native=T,\n",
    "                  gene.idtype='SYMBOL',limit=list(gene=c(-8,-4),cpd=c(-8,-4)),\n",
    "                 low=list(gene= '#F7FF00', cpd = 'green'),mid=list(gene='#FF9700',cpd='gray'),\n",
    "                  high=list(gene='#FF0000',cpd='yellow'))\n",
    "setwd('..')"
   ]
  },
  {
   "cell_type": "code",
   "execution_count": 26,
   "metadata": {},
   "outputs": [],
   "source": [
    "#setwd('..')"
   ]
  },
  {
   "cell_type": "code",
   "execution_count": null,
   "metadata": {},
   "outputs": [],
   "source": []
  },
  {
   "cell_type": "code",
   "execution_count": null,
   "metadata": {},
   "outputs": [],
   "source": []
  }
 ],
 "metadata": {
  "kernelspec": {
   "display_name": "R",
   "language": "R",
   "name": "ir"
  },
  "language_info": {
   "codemirror_mode": "r",
   "file_extension": ".r",
   "mimetype": "text/x-r-source",
   "name": "R",
   "pygments_lexer": "r",
   "version": "3.6.2"
  }
 },
 "nbformat": 4,
 "nbformat_minor": 2
}
