{
 "cells": [
  {
   "cell_type": "markdown",
   "metadata": {},
   "source": [
    "# Parse the DE genes for pathview"
   ]
  },
  {
   "cell_type": "code",
   "execution_count": 2,
   "metadata": {},
   "outputs": [],
   "source": [
    "# import matplotlib\n",
    "# matplotlib.use('TkAgg')\n",
    "\n",
    "import matplotlib.pyplot as plt\n",
    "import pandas as pd\n",
    "import numpy as np\n",
    "import networkx as nx\n",
    "import seaborn as sns\n",
    "\n",
    "# latex rendering of text in graphs\n",
    "import matplotlib as mpl\n",
    "from matplotlib import rcParams\n",
    "rcParams['font.family'] = 'sans-serif'\n",
    "rcParams['font.sans-serif'] = ['Arial']\n",
    "\n",
    "% matplotlib inline\n"
   ]
  },
  {
   "cell_type": "code",
   "execution_count": 3,
   "metadata": {},
   "outputs": [
    {
     "data": {
      "text/html": [
       "<div>\n",
       "<style scoped>\n",
       "    .dataframe tbody tr th:only-of-type {\n",
       "        vertical-align: middle;\n",
       "    }\n",
       "\n",
       "    .dataframe tbody tr th {\n",
       "        vertical-align: top;\n",
       "    }\n",
       "\n",
       "    .dataframe thead th {\n",
       "        text-align: right;\n",
       "    }\n",
       "</style>\n",
       "<table border=\"1\" class=\"dataframe\">\n",
       "  <thead>\n",
       "    <tr style=\"text-align: right;\">\n",
       "      <th></th>\n",
       "      <th>ENSEMBL</th>\n",
       "      <th>ENTREZID</th>\n",
       "      <th>SYMBOL</th>\n",
       "      <th>logFC</th>\n",
       "      <th>AveExpr</th>\n",
       "      <th>t</th>\n",
       "      <th>P.Value</th>\n",
       "      <th>adj.P.Val</th>\n",
       "      <th>B</th>\n",
       "      <th>Unnamed: 10</th>\n",
       "      <th>sig in</th>\n",
       "    </tr>\n",
       "    <tr>\n",
       "      <th>SYMBOL</th>\n",
       "      <th></th>\n",
       "      <th></th>\n",
       "      <th></th>\n",
       "      <th></th>\n",
       "      <th></th>\n",
       "      <th></th>\n",
       "      <th></th>\n",
       "      <th></th>\n",
       "      <th></th>\n",
       "      <th></th>\n",
       "      <th></th>\n",
       "    </tr>\n",
       "  </thead>\n",
       "  <tbody>\n",
       "    <tr>\n",
       "      <th>ADAMTS14</th>\n",
       "      <td>ENSG00000138316</td>\n",
       "      <td>140766.0</td>\n",
       "      <td>ADAMTS14</td>\n",
       "      <td>-3.220477</td>\n",
       "      <td>0.387776</td>\n",
       "      <td>-3.765437</td>\n",
       "      <td>0.000471</td>\n",
       "      <td>0.180478</td>\n",
       "      <td>-0.476563</td>\n",
       "      <td>CTRL.LRvsNR</td>\n",
       "      <td>CTRL.LRvsNR</td>\n",
       "    </tr>\n",
       "    <tr>\n",
       "      <th>ADAMTS14</th>\n",
       "      <td>ENSG00000138316</td>\n",
       "      <td>140766.0</td>\n",
       "      <td>ADAMTS14</td>\n",
       "      <td>-3.055752</td>\n",
       "      <td>0.387776</td>\n",
       "      <td>-3.408920</td>\n",
       "      <td>0.001367</td>\n",
       "      <td>0.267570</td>\n",
       "      <td>-1.335573</td>\n",
       "      <td>Li.LRvsNR</td>\n",
       "      <td>NaN</td>\n",
       "    </tr>\n",
       "    <tr>\n",
       "      <th>ADAMTS4</th>\n",
       "      <td>ENSG00000158859</td>\n",
       "      <td>9507.0</td>\n",
       "      <td>ADAMTS4</td>\n",
       "      <td>-1.425119</td>\n",
       "      <td>2.764865</td>\n",
       "      <td>-4.120282</td>\n",
       "      <td>0.000156</td>\n",
       "      <td>0.118895</td>\n",
       "      <td>0.789911</td>\n",
       "      <td>CTRL.LRvsNR</td>\n",
       "      <td>CTRL.LRvsNR</td>\n",
       "    </tr>\n",
       "    <tr>\n",
       "      <th>ADAMTS4</th>\n",
       "      <td>ENSG00000158859</td>\n",
       "      <td>9507.0</td>\n",
       "      <td>ADAMTS4</td>\n",
       "      <td>-1.309927</td>\n",
       "      <td>2.764865</td>\n",
       "      <td>-3.675049</td>\n",
       "      <td>0.000620</td>\n",
       "      <td>0.222346</td>\n",
       "      <td>-0.394257</td>\n",
       "      <td>Li.LRvsNR</td>\n",
       "      <td>NaN</td>\n",
       "    </tr>\n",
       "    <tr>\n",
       "      <th>APCDD1</th>\n",
       "      <td>ENSG00000154856</td>\n",
       "      <td>147495.0</td>\n",
       "      <td>APCDD1</td>\n",
       "      <td>1.515762</td>\n",
       "      <td>6.699247</td>\n",
       "      <td>3.948413</td>\n",
       "      <td>0.000268</td>\n",
       "      <td>0.151966</td>\n",
       "      <td>0.372925</td>\n",
       "      <td>Li.LRvsNR</td>\n",
       "      <td>Li.LRvsNR</td>\n",
       "    </tr>\n",
       "  </tbody>\n",
       "</table>\n",
       "</div>"
      ],
      "text/plain": [
       "                  ENSEMBL  ENTREZID    SYMBOL     logFC   AveExpr         t  \\\n",
       "SYMBOL                                                                        \n",
       "ADAMTS14  ENSG00000138316  140766.0  ADAMTS14 -3.220477  0.387776 -3.765437   \n",
       "ADAMTS14  ENSG00000138316  140766.0  ADAMTS14 -3.055752  0.387776 -3.408920   \n",
       "ADAMTS4   ENSG00000158859    9507.0   ADAMTS4 -1.425119  2.764865 -4.120282   \n",
       "ADAMTS4   ENSG00000158859    9507.0   ADAMTS4 -1.309927  2.764865 -3.675049   \n",
       "APCDD1    ENSG00000154856  147495.0    APCDD1  1.515762  6.699247  3.948413   \n",
       "\n",
       "           P.Value  adj.P.Val         B  Unnamed: 10       sig in  \n",
       "SYMBOL                                                             \n",
       "ADAMTS14  0.000471   0.180478 -0.476563  CTRL.LRvsNR  CTRL.LRvsNR  \n",
       "ADAMTS14  0.001367   0.267570 -1.335573    Li.LRvsNR          NaN  \n",
       "ADAMTS4   0.000156   0.118895  0.789911  CTRL.LRvsNR  CTRL.LRvsNR  \n",
       "ADAMTS4   0.000620   0.222346 -0.394257    Li.LRvsNR          NaN  \n",
       "APCDD1    0.000268   0.151966  0.372925    Li.LRvsNR    Li.LRvsNR  "
      ]
     },
     "execution_count": 3,
     "metadata": {},
     "output_type": "execute_result"
    }
   ],
   "source": [
    "DE_df = pd.read_excel('data/DE_Genes_Li and CTRL_LRvsNR_for_Katie.xlsx')\n",
    "DE_df.index = DE_df['SYMBOL']\n",
    "DE_df = DE_df[DE_df.columns[1:]] # drop the # column-- we don't need it\n",
    "DE_df.head()"
   ]
  },
  {
   "cell_type": "code",
   "execution_count": 4,
   "metadata": {},
   "outputs": [
    {
     "data": {
      "text/plain": [
       "41"
      ]
     },
     "execution_count": 4,
     "metadata": {},
     "output_type": "execute_result"
    }
   ],
   "source": [
    "len(DE_df.index.unique().dropna())"
   ]
  },
  {
   "cell_type": "code",
   "execution_count": 5,
   "metadata": {},
   "outputs": [
    {
     "data": {
      "text/plain": [
       "CTRL.LRvsNR    43\n",
       "Li.LRvsNR      43\n",
       "Name: Unnamed: 10, dtype: int64"
      ]
     },
     "execution_count": 5,
     "metadata": {},
     "output_type": "execute_result"
    }
   ],
   "source": [
    "DE_df['Unnamed: 10'].value_counts()"
   ]
  },
  {
   "cell_type": "code",
   "execution_count": 6,
   "metadata": {},
   "outputs": [
    {
     "data": {
      "text/plain": [
       "43"
      ]
     },
     "execution_count": 6,
     "metadata": {},
     "output_type": "execute_result"
    }
   ],
   "source": [
    "DE_LiLRvsNR = DE_df[DE_df['Unnamed: 10']=='Li.LRvsNR']\n",
    "DE_LiLRvsNR\n",
    "\n",
    "DE_CtrlLRvsNR = DE_df[DE_df['Unnamed: 10']=='CTRL.LRvsNR']\n",
    "len(DE_CtrlLRvsNR)"
   ]
  },
  {
   "cell_type": "code",
   "execution_count": 7,
   "metadata": {},
   "outputs": [
    {
     "data": {
      "text/plain": [
       "41"
      ]
     },
     "execution_count": 7,
     "metadata": {},
     "output_type": "execute_result"
    }
   ],
   "source": [
    "len(DE_LiLRvsNR.index.unique().dropna())"
   ]
  },
  {
   "cell_type": "code",
   "execution_count": 8,
   "metadata": {},
   "outputs": [
    {
     "name": "stdout",
     "output_type": "stream",
     "text": [
      "43\n",
      "41\n",
      "43\n",
      "41\n"
     ]
    }
   ],
   "source": [
    "print(len(DE_LiLRvsNR))\n",
    "DE_LiLRvsNR=DE_LiLRvsNR.sort_values('adj.P.Val')\n",
    "DE_LiLRvsNR = DE_LiLRvsNR[~DE_LiLRvsNR.index.duplicated(keep='first')]\n",
    "index_no_NA = DE_LiLRvsNR.index.dropna()\n",
    "DE_LiLRvsNR = DE_LiLRvsNR.loc[index_no_NA]\n",
    "print(len(DE_LiLRvsNR))\n",
    "\n",
    "# DE_LiLRvsNR.to_csv('DE_LiLRvsNR.tsv',sep='\\t',index=False)\n",
    "\n",
    "print(len(DE_CtrlLRvsNR))\n",
    "DE_CtrlLRvsNR=DE_CtrlLRvsNR.sort_values('adj.P.Val')\n",
    "DE_CtrlLRvsNR = DE_CtrlLRvsNR[~DE_CtrlLRvsNR.index.duplicated(keep='first')]\n",
    "index_no_NA = DE_CtrlLRvsNR.index.dropna()\n",
    "DE_CtrlLRvsNR = DE_CtrlLRvsNR.loc[index_no_NA]\n",
    "print(len(DE_CtrlLRvsNR))\n",
    "\n",
    "# DE_CtrlLRvsNR.to_csv('DE_CtrlLRvsNR.tsv',sep='\\t',index=False)"
   ]
  },
  {
   "cell_type": "code",
   "execution_count": null,
   "metadata": {},
   "outputs": [],
   "source": []
  }
 ],
 "metadata": {
  "kernelspec": {
   "display_name": "Python 2",
   "language": "python",
   "name": "python2"
  },
  "language_info": {
   "codemirror_mode": {
    "name": "ipython",
    "version": 2
   },
   "file_extension": ".py",
   "mimetype": "text/x-python",
   "name": "python",
   "nbconvert_exporter": "python",
   "pygments_lexer": "ipython2",
   "version": "2.7.17"
  }
 },
 "nbformat": 4,
 "nbformat_minor": 2
}
